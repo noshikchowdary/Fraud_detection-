{
  "cells": [
    {
      "cell_type": "markdown",
      "metadata": {
        "colab_type": "text",
        "id": "RG3sRuu7DzY0"
      },
      "source": [
        "Data Preparation\n",
        "* Data loading from data_train.json\n",
        "* Basic features(user type, application time) processing and exploration\n",
        " * Application time ---- processed into day of week, time of the day.\n",
        " * Check the relationship between fraud and user type/appication time\n",
        "* Sequential User behavior features processing and exploration\n",
        " * stay time, lag time between pages, time span of an application, page transitions overview.\n",
        "* Processing data for model building\n",
        " * Sequential data padding\n",
        " * Standardization\n",
        " * Save in json format\n",
        "* Generate Markov Transition Field along features. \n",
        " * Zhang, R., Zheng, F., & Min, W. (2018). Sequential Behavioral Data Processing Using Deep Learning and the Markov Transition Field in Online Fraud Detection. arXiv preprint arXiv:1808.05329.\n",
        " * All features are bin and one-hot encoded into a binary vector.\n",
        " * matrix[i,j]  represents the probability that j=1 given i=1\n",
        "* Generate Markov Transition Field along timesteps and Gramian Angular Field(code only)\n",
        " * Wang, Z., & Oates, T. (2015, April). Encoding time series as images for visual inspection and classification using tiled convolutional neural networks. In Workshops at the Twenty-Ninth AAAI Conference on Artificial Intelligence."
      ]
    },
    {
      "cell_type": "code",
      "execution_count": 0,
      "metadata": {
        "ExecuteTime": {
          "end_time": "2020-04-28T05:35:30.857565Z",
          "start_time": "2020-04-28T05:35:29.353551Z"
        },
        "colab": {},
        "colab_type": "code",
        "id": "QwwXGSE5DzZK"
      },
      "outputs": [],
      "source": [
        "from datetime import datetime\n",
        "import numpy as np\n",
        "import pandas as pd\n",
        "import json\n",
        "from sklearn.preprocessing import LabelEncoder\n",
        "import matplotlib.pyplot as plt\n",
        "from scipy import stats\n",
        "from gensim.models import Word2Vec\n",
        "from sklearn.manifold import TSNE\n",
        "import os\n",
        "\n",
        "data_dir = \"../data/processed/\"\n"
      ]
    },
    {
      "cell_type": "markdown",
      "metadata": {
        "colab_type": "text",
        "id": "4FKluv7lDzaj"
      },
      "source": [
        "# 1.Data loading"
      ]
    },
    {
      "cell_type": "code",
      "execution_count": 0,
      "metadata": {
        "ExecuteTime": {
          "end_time": "2020-04-28T05:35:31.619871Z",
          "start_time": "2020-04-28T05:35:31.616879Z"
        },
        "colab": {},
        "colab_type": "code",
        "id": "Wzxc5jcO1uLH"
      },
      "outputs": [],
      "source": [
        "# change to raw data folder\n",
        "# os.chdir(os.path.abspath(os.path.join(data_dir, \"../../data/raw\")))"
      ]
    },
    {
      "cell_type": "code",
      "execution_count": 0,
      "metadata": {
        "ExecuteTime": {
          "end_time": "2020-04-28T05:35:32.951313Z",
          "start_time": "2020-04-28T05:35:31.793407Z"
        },
        "colab": {
          "base_uri": "https://localhost:8080/",
          "height": 51
        },
        "colab_type": "code",
        "executionInfo": {
          "elapsed": 55938,
          "status": "ok",
          "timestamp": 1582558474998,
          "user": {
            "displayName": "Hanyu Wu",
            "photoUrl": "",
            "userId": "05588030028148674891"
          },
          "user_tz": 300
        },
        "id": "nzGeQjCDDza8",
        "outputId": "72a76da2-8d52-44bd-b95a-d7c2a8868252",
        "scrolled": true
      },
      "outputs": [
        {
          "name": "stdout",
          "output_type": "stream",
          "text": [
            "Wall time: 1.15 s\n"
          ]
        },
        {
          "data": {
            "text/plain": [
              "30672"
            ]
          },
          "execution_count": 5,
          "metadata": {
            "tags": []
          },
          "output_type": "execute_result"
        }
      ],
      "source": [
        "%%time\n",
        "sequential_data = []\n",
        "\n",
        "line_number = 0\n",
        "max_lines = 100\n",
        "with open('../../data/raw/test_new.json', 'r') as f:\n",
        "# with open('../../data/raw/data_train.json', 'r') as f:\n",
        "    for line in f:\n",
        "#         if len(sequential_data) > max_lines:\n",
        "#             break\n",
        "        sequential_data.append(json.loads(line))\n",
        "# sequential_data = sequential_data[:100]\n",
        "len(sequential_data)"
      ]
    },
    {
      "cell_type": "code",
      "execution_count": 0,
      "metadata": {
        "ExecuteTime": {
          "end_time": "2020-04-28T05:35:34.891158Z",
          "start_time": "2020-04-28T05:35:34.739533Z"
        },
        "colab": {},
        "colab_type": "code",
        "id": "coI759MXDzb0"
      },
      "outputs": [],
      "source": [
        "sequential_driver = {}\n",
        "\n",
        "sequential_behavior = {}\n",
        "\n",
        "for item in sequential_data:\n",
        "    user_id = item[0]\n",
        "    application_time = int(item[1]['order_info']['order_time'])\n",
        "    sequential_driver.update({f\"{user_id}|{application_time}\": item[1]['order_info']})\n",
        "    sub_data = [x for x in item[1]['data']\n",
        "                if x['petime'] <= application_time-100]\n",
        "    # we only keep data occurs before application time. \"-100\" is not neccessary for offline data cleaning.\n",
        "    # but sometimes we use this trick for online calculation to avoid network slowdown\n",
        "    sequential_behavior.update({f\"{user_id}|{application_time}\": sub_data})\n",
        "# sequential_driver"
      ]
    },
    {
      "cell_type": "markdown",
      "metadata": {
        "colab_type": "text",
        "id": "U8LNKqRJDzcb"
      },
      "source": [
        "# 2.Basic features processing and exploration \n"
      ]
    },
    {
      "cell_type": "markdown",
      "metadata": {
        "ExecuteTime": {
          "end_time": "2019-10-10T12:48:52.429294Z",
          "start_time": "2019-10-10T12:48:51.623808Z"
        },
        "colab_type": "text",
        "id": "7UVM1x1oDzcj"
      },
      "source": [
        "#### 2.1 Processing\n",
        "- Converting unix time to real time\n",
        "- Extract application day of week and time of the day from feature \"application_date\"\n",
        "- Divide time of the day into 6 catogories: 0:00-4:00,4:00-8:00,8:00-12:00,12:00-16:00,16:00-20:00,20:00-24:00"
      ]
    },
    {
      "cell_type": "code",
      "execution_count": 0,
      "metadata": {
        "ExecuteTime": {
          "end_time": "2020-04-28T05:35:39.630488Z",
          "start_time": "2020-04-28T05:35:38.265109Z"
        },
        "colab": {},
        "colab_type": "code",
        "id": "UHPL5GvMDzck"
      },
      "outputs": [],
      "source": [
        "driver = pd.DataFrame(sequential_driver).T.reset_index()\n",
        "driver['user_id'] = driver['index'].apply(lambda x : x.split('|')[0])\n",
        "driver['application_time'] = driver['index'].apply(lambda x : x.split('|')[1])\n",
        "# driver[driver['new_client']==0.0][\"user_id\"].value_counts().value_counts()"
      ]
    },
    {
      "cell_type": "code",
      "execution_count": 0,
      "metadata": {
        "ExecuteTime": {
          "end_time": "2020-04-28T05:35:43.227874Z",
          "start_time": "2020-04-28T05:35:42.965577Z"
        },
        "colab": {},
        "colab_type": "code",
        "id": "efuzk6iQDzcs"
      },
      "outputs": [],
      "source": [
        "driver['application_date'] = pd.to_datetime(driver['order_time'],unit='ms')\n",
        "driver[\"day_of_week\"]=(driver[\"application_date\"].dt.dayofweek+1).astype(str) \n",
        "driver[\"hour_of_day\"]=(driver[\"application_date\"].dt.hour//4+1).astype(str) \n",
        "driver=driver.join(pd.get_dummies(driver[\"day_of_week\"]))\n",
        "driver=driver.join(pd.get_dummies(driver[\"hour_of_day\"]),rsuffix=\"_time\")\n"
      ]
    },
    {
      "cell_type": "markdown",
      "metadata": {
        "colab_type": "text",
        "id": "HEtEZ0r7Dzff"
      },
      "source": [
        "# 3. User behaviour sequence exploration and processing"
      ]
    },
    {
      "cell_type": "markdown",
      "metadata": {
        "colab_type": "text",
        "id": "T1rIkK6z1uLZ"
      },
      "source": [
        "## 3.1 sequential_behavior"
      ]
    },
    {
      "cell_type": "code",
      "execution_count": 0,
      "metadata": {
        "ExecuteTime": {
          "end_time": "2020-04-28T05:35:48.618463Z",
          "start_time": "2020-04-28T05:35:46.675628Z"
        },
        "colab": {
          "base_uri": "https://localhost:8080/",
          "height": 51
        },
        "colab_type": "code",
        "executionInfo": {
          "elapsed": 57175,
          "status": "ok",
          "timestamp": 1582558476546,
          "user": {
            "displayName": "Hanyu Wu",
            "photoUrl": "",
            "userId": "05588030028148674891"
          },
          "user_tz": 300
        },
        "id": "pYZlQzUzDzfg",
        "outputId": "4fd334de-351e-4c8b-8a4c-efcbf8b0b14a"
      },
      "outputs": [
        {
          "data": {
            "text/plain": [
              "((638034, 8), 16465, 19617)"
            ]
          },
          "execution_count": 9,
          "metadata": {
            "tags": []
          },
          "output_type": "execute_result"
        }
      ],
      "source": [
        "behavior = []\n",
        "for user_keys in sequential_behavior:    \n",
        "    user_id, application_time = user_keys.split(\"|\")\n",
        "    index=user_keys\n",
        "    for item in sequential_behavior[user_keys]:    \n",
        "        subitem = item.copy()\n",
        "        subitem.update({\"user_id\":user_id, \"application_time\":application_time,\"index\":index})\n",
        "        behavior.append(subitem)\n",
        "behavior = pd.DataFrame(behavior)\n",
        "behavior = behavior.sort_values(['user_id', 'application_time', 'petime'])\n",
        "behavior.shape, behavior.user_id.nunique(),behavior[\"index\"].nunique()"
      ]
    },
    {
      "cell_type": "code",
      "execution_count": 0,
      "metadata": {
        "ExecuteTime": {
          "end_time": "2020-04-28T05:49:09.615378Z",
          "start_time": "2020-04-28T05:49:09.464752Z"
        },
        "colab": {
          "base_uri": "https://localhost:8080/",
          "height": 1000
        },
        "colab_type": "code",
        "executionInfo": {
          "elapsed": 57153,
          "status": "ok",
          "timestamp": 1582558476547,
          "user": {
            "displayName": "Hanyu Wu",
            "photoUrl": "",
            "userId": "05588030028148674891"
          },
          "user_tz": 300
        },
        "id": "1KwWAvNDDzfi",
        "outputId": "4b65b8e2-d9a4-45e3-bc6e-ba1b3501a077"
      },
      "outputs": [
        {
          "data": {
            "text/html": [
              "<div>\n",
              "<style scoped>\n",
              "    .dataframe tbody tr th:only-of-type {\n",
              "        vertical-align: middle;\n",
              "    }\n",
              "\n",
              "    .dataframe tbody tr th {\n",
              "        vertical-align: top;\n",
              "    }\n",
              "\n",
              "    .dataframe thead th {\n",
              "        text-align: right;\n",
              "    }\n",
              "</style>\n",
              "<table border=\"1\" class=\"dataframe\">\n",
              "  <thead>\n",
              "    <tr style=\"text-align: right;\">\n",
              "      <th></th>\n",
              "      <th>pname</th>\n",
              "      <th>index</th>\n",
              "      <th>stay_time</th>\n",
              "      <th>label</th>\n",
              "    </tr>\n",
              "  </thead>\n",
              "  <tbody>\n",
              "    <tr>\n",
              "      <th>0</th>\n",
              "      <td>login</td>\n",
              "      <td>00060e8ebf674d3ba77df5bcb80e8f8e|1507164000000</td>\n",
              "      <td>13.382</td>\n",
              "      <td>0.0</td>\n",
              "    </tr>\n",
              "    <tr>\n",
              "      <th>1</th>\n",
              "      <td>loan_index</td>\n",
              "      <td>00060e8ebf674d3ba77df5bcb80e8f8e|1507164000000</td>\n",
              "      <td>3.584</td>\n",
              "      <td>0.0</td>\n",
              "    </tr>\n",
              "    <tr>\n",
              "      <th>2</th>\n",
              "      <td>operator</td>\n",
              "      <td>00060e8ebf674d3ba77df5bcb80e8f8e|1507164000000</td>\n",
              "      <td>21.570</td>\n",
              "      <td>0.0</td>\n",
              "    </tr>\n",
              "    <tr>\n",
              "      <th>3</th>\n",
              "      <td>operator</td>\n",
              "      <td>00060e8ebf674d3ba77df5bcb80e8f8e|1507164000000</td>\n",
              "      <td>9.653</td>\n",
              "      <td>0.0</td>\n",
              "    </tr>\n",
              "    <tr>\n",
              "      <th>4</th>\n",
              "      <td>loan_index</td>\n",
              "      <td>00060e8ebf674d3ba77df5bcb80e8f8e|1507164000000</td>\n",
              "      <td>20.004</td>\n",
              "      <td>0.0</td>\n",
              "    </tr>\n",
              "    <tr>\n",
              "      <th>5</th>\n",
              "      <td>bind_debit_card</td>\n",
              "      <td>0006e4f012fd4cb7b37cb18a84bbc79b|1509324360000</td>\n",
              "      <td>1.555</td>\n",
              "      <td>0.0</td>\n",
              "    </tr>\n",
              "    <tr>\n",
              "      <th>6</th>\n",
              "      <td>loan_index</td>\n",
              "      <td>0006e4f012fd4cb7b37cb18a84bbc79b|1509324360000</td>\n",
              "      <td>6.310</td>\n",
              "      <td>0.0</td>\n",
              "    </tr>\n",
              "    <tr>\n",
              "      <th>7</th>\n",
              "      <td>loan_submission</td>\n",
              "      <td>0006e4f012fd4cb7b37cb18a84bbc79b|1509324360000</td>\n",
              "      <td>15.442</td>\n",
              "      <td>0.0</td>\n",
              "    </tr>\n",
              "    <tr>\n",
              "      <th>8</th>\n",
              "      <td>loan_index</td>\n",
              "      <td>0006e4f012fd4cb7b37cb18a84bbc79b|1509324360000</td>\n",
              "      <td>2.786</td>\n",
              "      <td>0.0</td>\n",
              "    </tr>\n",
              "    <tr>\n",
              "      <th>9</th>\n",
              "      <td>loan_index</td>\n",
              "      <td>0006e4f012fd4cb7b37cb18a84bbc79b|1509324360000</td>\n",
              "      <td>1.887</td>\n",
              "      <td>0.0</td>\n",
              "    </tr>\n",
              "    <tr>\n",
              "      <th>10</th>\n",
              "      <td>login</td>\n",
              "      <td>000e85df3eb94068bbb379e127e91f9a|1508202300000</td>\n",
              "      <td>14.893</td>\n",
              "      <td>0.0</td>\n",
              "    </tr>\n",
              "    <tr>\n",
              "      <th>11</th>\n",
              "      <td>loan_index</td>\n",
              "      <td>000e85df3eb94068bbb379e127e91f9a|1508202300000</td>\n",
              "      <td>2.664</td>\n",
              "      <td>0.0</td>\n",
              "    </tr>\n",
              "    <tr>\n",
              "      <th>12</th>\n",
              "      <td>id_verify</td>\n",
              "      <td>000e85df3eb94068bbb379e127e91f9a|1508202300000</td>\n",
              "      <td>21.705</td>\n",
              "      <td>0.0</td>\n",
              "    </tr>\n",
              "    <tr>\n",
              "      <th>13</th>\n",
              "      <td>id_verify</td>\n",
              "      <td>000e85df3eb94068bbb379e127e91f9a|1508202300000</td>\n",
              "      <td>14.262</td>\n",
              "      <td>0.0</td>\n",
              "    </tr>\n",
              "    <tr>\n",
              "      <th>14</th>\n",
              "      <td>id_verify</td>\n",
              "      <td>000e85df3eb94068bbb379e127e91f9a|1508202300000</td>\n",
              "      <td>4.055</td>\n",
              "      <td>0.0</td>\n",
              "    </tr>\n",
              "    <tr>\n",
              "      <th>15</th>\n",
              "      <td>login</td>\n",
              "      <td>000e85df3eb94068bbb379e127e91f9a|1509433020000</td>\n",
              "      <td>14.893</td>\n",
              "      <td>1.0</td>\n",
              "    </tr>\n",
              "    <tr>\n",
              "      <th>16</th>\n",
              "      <td>loan_index</td>\n",
              "      <td>000e85df3eb94068bbb379e127e91f9a|1509433020000</td>\n",
              "      <td>2.664</td>\n",
              "      <td>1.0</td>\n",
              "    </tr>\n",
              "    <tr>\n",
              "      <th>17</th>\n",
              "      <td>id_verify</td>\n",
              "      <td>000e85df3eb94068bbb379e127e91f9a|1509433020000</td>\n",
              "      <td>21.705</td>\n",
              "      <td>1.0</td>\n",
              "    </tr>\n",
              "    <tr>\n",
              "      <th>18</th>\n",
              "      <td>id_verify</td>\n",
              "      <td>000e85df3eb94068bbb379e127e91f9a|1509433020000</td>\n",
              "      <td>14.262</td>\n",
              "      <td>1.0</td>\n",
              "    </tr>\n",
              "    <tr>\n",
              "      <th>19</th>\n",
              "      <td>id_verify</td>\n",
              "      <td>000e85df3eb94068bbb379e127e91f9a|1509433020000</td>\n",
              "      <td>4.055</td>\n",
              "      <td>1.0</td>\n",
              "    </tr>\n",
              "    <tr>\n",
              "      <th>20</th>\n",
              "      <td>login</td>\n",
              "      <td>000f0689178848dba819e601c2ca2f4c|1507785480000</td>\n",
              "      <td>8.988</td>\n",
              "      <td>0.0</td>\n",
              "    </tr>\n",
              "    <tr>\n",
              "      <th>21</th>\n",
              "      <td>loan_index</td>\n",
              "      <td>000f0689178848dba819e601c2ca2f4c|1507785480000</td>\n",
              "      <td>1.002</td>\n",
              "      <td>0.0</td>\n",
              "    </tr>\n",
              "    <tr>\n",
              "      <th>22</th>\n",
              "      <td>loan_index</td>\n",
              "      <td>000f0689178848dba819e601c2ca2f4c|1507785480000</td>\n",
              "      <td>1.244</td>\n",
              "      <td>0.0</td>\n",
              "    </tr>\n",
              "    <tr>\n",
              "      <th>23</th>\n",
              "      <td>id_verify</td>\n",
              "      <td>000f0689178848dba819e601c2ca2f4c|1507785480000</td>\n",
              "      <td>1.354</td>\n",
              "      <td>0.0</td>\n",
              "    </tr>\n",
              "    <tr>\n",
              "      <th>24</th>\n",
              "      <td>id_verify</td>\n",
              "      <td>000f0689178848dba819e601c2ca2f4c|1507785480000</td>\n",
              "      <td>1.465</td>\n",
              "      <td>0.0</td>\n",
              "    </tr>\n",
              "    <tr>\n",
              "      <th>25</th>\n",
              "      <td>loan_index</td>\n",
              "      <td>000f0689178848dba819e601c2ca2f4c|1508895720000</td>\n",
              "      <td>26.885</td>\n",
              "      <td>0.0</td>\n",
              "    </tr>\n",
              "    <tr>\n",
              "      <th>26</th>\n",
              "      <td>loan_index</td>\n",
              "      <td>000f0689178848dba819e601c2ca2f4c|1508895720000</td>\n",
              "      <td>1.335</td>\n",
              "      <td>0.0</td>\n",
              "    </tr>\n",
              "    <tr>\n",
              "      <th>27</th>\n",
              "      <td>loan_index</td>\n",
              "      <td>000f0689178848dba819e601c2ca2f4c|1508895720000</td>\n",
              "      <td>3.404</td>\n",
              "      <td>0.0</td>\n",
              "    </tr>\n",
              "    <tr>\n",
              "      <th>28</th>\n",
              "      <td>loan_index</td>\n",
              "      <td>000f0689178848dba819e601c2ca2f4c|1508895720000</td>\n",
              "      <td>8.549</td>\n",
              "      <td>0.0</td>\n",
              "    </tr>\n",
              "    <tr>\n",
              "      <th>29</th>\n",
              "      <td>loan_index</td>\n",
              "      <td>000f0689178848dba819e601c2ca2f4c|1508895720000</td>\n",
              "      <td>0.745</td>\n",
              "      <td>0.0</td>\n",
              "    </tr>\n",
              "    <tr>\n",
              "      <th>30</th>\n",
              "      <td>login</td>\n",
              "      <td>00101e1ec08e4f1980b269e4078b309d|1508032680000</td>\n",
              "      <td>13.030</td>\n",
              "      <td>1.0</td>\n",
              "    </tr>\n",
              "    <tr>\n",
              "      <th>31</th>\n",
              "      <td>loan_index</td>\n",
              "      <td>00101e1ec08e4f1980b269e4078b309d|1508032680000</td>\n",
              "      <td>4.603</td>\n",
              "      <td>1.0</td>\n",
              "    </tr>\n",
              "    <tr>\n",
              "      <th>32</th>\n",
              "      <td>id_verify</td>\n",
              "      <td>00101e1ec08e4f1980b269e4078b309d|1508032680000</td>\n",
              "      <td>6.392</td>\n",
              "      <td>1.0</td>\n",
              "    </tr>\n",
              "    <tr>\n",
              "      <th>33</th>\n",
              "      <td>id_verify</td>\n",
              "      <td>00101e1ec08e4f1980b269e4078b309d|1508032680000</td>\n",
              "      <td>7.862</td>\n",
              "      <td>1.0</td>\n",
              "    </tr>\n",
              "    <tr>\n",
              "      <th>34</th>\n",
              "      <td>loan_index</td>\n",
              "      <td>00101e1ec08e4f1980b269e4078b309d|1508032680000</td>\n",
              "      <td>2.096</td>\n",
              "      <td>1.0</td>\n",
              "    </tr>\n",
              "    <tr>\n",
              "      <th>35</th>\n",
              "      <td>loan_index</td>\n",
              "      <td>0012a05ad6c846e694f729f3ceae403b|1508800560000</td>\n",
              "      <td>9.536</td>\n",
              "      <td>0.0</td>\n",
              "    </tr>\n",
              "    <tr>\n",
              "      <th>36</th>\n",
              "      <td>id_verify</td>\n",
              "      <td>0012a05ad6c846e694f729f3ceae403b|1508800560000</td>\n",
              "      <td>3.528</td>\n",
              "      <td>0.0</td>\n",
              "    </tr>\n",
              "    <tr>\n",
              "      <th>37</th>\n",
              "      <td>id_verify</td>\n",
              "      <td>0012a05ad6c846e694f729f3ceae403b|1508800560000</td>\n",
              "      <td>4.104</td>\n",
              "      <td>0.0</td>\n",
              "    </tr>\n",
              "    <tr>\n",
              "      <th>38</th>\n",
              "      <td>id_verify</td>\n",
              "      <td>0012a05ad6c846e694f729f3ceae403b|1508800560000</td>\n",
              "      <td>2.095</td>\n",
              "      <td>0.0</td>\n",
              "    </tr>\n",
              "    <tr>\n",
              "      <th>39</th>\n",
              "      <td>biometric_auto</td>\n",
              "      <td>0012a05ad6c846e694f729f3ceae403b|1508800560000</td>\n",
              "      <td>38.483</td>\n",
              "      <td>0.0</td>\n",
              "    </tr>\n",
              "    <tr>\n",
              "      <th>40</th>\n",
              "      <td>login</td>\n",
              "      <td>001974847ab346d8a13adbfd2be19c37|1508108460000</td>\n",
              "      <td>15.149</td>\n",
              "      <td>0.0</td>\n",
              "    </tr>\n",
              "    <tr>\n",
              "      <th>41</th>\n",
              "      <td>loan_index</td>\n",
              "      <td>001974847ab346d8a13adbfd2be19c37|1508108460000</td>\n",
              "      <td>2.484</td>\n",
              "      <td>0.0</td>\n",
              "    </tr>\n",
              "    <tr>\n",
              "      <th>42</th>\n",
              "      <td>id_verify</td>\n",
              "      <td>001974847ab346d8a13adbfd2be19c37|1508108460000</td>\n",
              "      <td>15.400</td>\n",
              "      <td>0.0</td>\n",
              "    </tr>\n",
              "    <tr>\n",
              "      <th>43</th>\n",
              "      <td>id_verify</td>\n",
              "      <td>001974847ab346d8a13adbfd2be19c37|1508108460000</td>\n",
              "      <td>2.598</td>\n",
              "      <td>0.0</td>\n",
              "    </tr>\n",
              "    <tr>\n",
              "      <th>44</th>\n",
              "      <td>id_verify</td>\n",
              "      <td>001974847ab346d8a13adbfd2be19c37|1508108460000</td>\n",
              "      <td>1.633</td>\n",
              "      <td>0.0</td>\n",
              "    </tr>\n",
              "    <tr>\n",
              "      <th>45</th>\n",
              "      <td>login</td>\n",
              "      <td>001974847ab346d8a13adbfd2be19c37|1509408480000</td>\n",
              "      <td>15.149</td>\n",
              "      <td>0.0</td>\n",
              "    </tr>\n",
              "    <tr>\n",
              "      <th>46</th>\n",
              "      <td>loan_index</td>\n",
              "      <td>001974847ab346d8a13adbfd2be19c37|1509408480000</td>\n",
              "      <td>2.484</td>\n",
              "      <td>0.0</td>\n",
              "    </tr>\n",
              "    <tr>\n",
              "      <th>47</th>\n",
              "      <td>id_verify</td>\n",
              "      <td>001974847ab346d8a13adbfd2be19c37|1509408480000</td>\n",
              "      <td>15.400</td>\n",
              "      <td>0.0</td>\n",
              "    </tr>\n",
              "    <tr>\n",
              "      <th>48</th>\n",
              "      <td>id_verify</td>\n",
              "      <td>001974847ab346d8a13adbfd2be19c37|1509408480000</td>\n",
              "      <td>2.598</td>\n",
              "      <td>0.0</td>\n",
              "    </tr>\n",
              "    <tr>\n",
              "      <th>49</th>\n",
              "      <td>id_verify</td>\n",
              "      <td>001974847ab346d8a13adbfd2be19c37|1509408480000</td>\n",
              "      <td>1.633</td>\n",
              "      <td>0.0</td>\n",
              "    </tr>\n",
              "    <tr>\n",
              "      <th>50</th>\n",
              "      <td>login</td>\n",
              "      <td>001a46f6bac04c43812cc814c0b7a5a3|1509076980000</td>\n",
              "      <td>15.811</td>\n",
              "      <td>0.0</td>\n",
              "    </tr>\n",
              "    <tr>\n",
              "      <th>51</th>\n",
              "      <td>loan_index</td>\n",
              "      <td>001a46f6bac04c43812cc814c0b7a5a3|1509076980000</td>\n",
              "      <td>2.678</td>\n",
              "      <td>0.0</td>\n",
              "    </tr>\n",
              "    <tr>\n",
              "      <th>52</th>\n",
              "      <td>loan_index</td>\n",
              "      <td>001a46f6bac04c43812cc814c0b7a5a3|1509076980000</td>\n",
              "      <td>21.957</td>\n",
              "      <td>0.0</td>\n",
              "    </tr>\n",
              "    <tr>\n",
              "      <th>53</th>\n",
              "      <td>id_verify</td>\n",
              "      <td>001a46f6bac04c43812cc814c0b7a5a3|1509076980000</td>\n",
              "      <td>1.921</td>\n",
              "      <td>0.0</td>\n",
              "    </tr>\n",
              "    <tr>\n",
              "      <th>54</th>\n",
              "      <td>id_verify</td>\n",
              "      <td>001a46f6bac04c43812cc814c0b7a5a3|1509076980000</td>\n",
              "      <td>0.462</td>\n",
              "      <td>0.0</td>\n",
              "    </tr>\n",
              "    <tr>\n",
              "      <th>55</th>\n",
              "      <td>register</td>\n",
              "      <td>001bfcd8e6f548148ee0e2d547658624|1507754640000</td>\n",
              "      <td>8.027</td>\n",
              "      <td>0.0</td>\n",
              "    </tr>\n",
              "    <tr>\n",
              "      <th>56</th>\n",
              "      <td>loan_index</td>\n",
              "      <td>001bfcd8e6f548148ee0e2d547658624|1507754640000</td>\n",
              "      <td>2.157</td>\n",
              "      <td>0.0</td>\n",
              "    </tr>\n",
              "    <tr>\n",
              "      <th>57</th>\n",
              "      <td>id_verify</td>\n",
              "      <td>001bfcd8e6f548148ee0e2d547658624|1507754640000</td>\n",
              "      <td>2.592</td>\n",
              "      <td>0.0</td>\n",
              "    </tr>\n",
              "    <tr>\n",
              "      <th>58</th>\n",
              "      <td>id_verify</td>\n",
              "      <td>001bfcd8e6f548148ee0e2d547658624|1507754640000</td>\n",
              "      <td>1.698</td>\n",
              "      <td>0.0</td>\n",
              "    </tr>\n",
              "    <tr>\n",
              "      <th>59</th>\n",
              "      <td>id_verify</td>\n",
              "      <td>001bfcd8e6f548148ee0e2d547658624|1507754640000</td>\n",
              "      <td>4.416</td>\n",
              "      <td>0.0</td>\n",
              "    </tr>\n",
              "  </tbody>\n",
              "</table>\n",
              "</div>"
            ],
            "text/plain": [
              "              pname                                           index  \\\n",
              "0             login  00060e8ebf674d3ba77df5bcb80e8f8e|1507164000000   \n",
              "1        loan_index  00060e8ebf674d3ba77df5bcb80e8f8e|1507164000000   \n",
              "2          operator  00060e8ebf674d3ba77df5bcb80e8f8e|1507164000000   \n",
              "3          operator  00060e8ebf674d3ba77df5bcb80e8f8e|1507164000000   \n",
              "4        loan_index  00060e8ebf674d3ba77df5bcb80e8f8e|1507164000000   \n",
              "5   bind_debit_card  0006e4f012fd4cb7b37cb18a84bbc79b|1509324360000   \n",
              "6        loan_index  0006e4f012fd4cb7b37cb18a84bbc79b|1509324360000   \n",
              "7   loan_submission  0006e4f012fd4cb7b37cb18a84bbc79b|1509324360000   \n",
              "8        loan_index  0006e4f012fd4cb7b37cb18a84bbc79b|1509324360000   \n",
              "9        loan_index  0006e4f012fd4cb7b37cb18a84bbc79b|1509324360000   \n",
              "10            login  000e85df3eb94068bbb379e127e91f9a|1508202300000   \n",
              "11       loan_index  000e85df3eb94068bbb379e127e91f9a|1508202300000   \n",
              "12        id_verify  000e85df3eb94068bbb379e127e91f9a|1508202300000   \n",
              "13        id_verify  000e85df3eb94068bbb379e127e91f9a|1508202300000   \n",
              "14        id_verify  000e85df3eb94068bbb379e127e91f9a|1508202300000   \n",
              "15            login  000e85df3eb94068bbb379e127e91f9a|1509433020000   \n",
              "16       loan_index  000e85df3eb94068bbb379e127e91f9a|1509433020000   \n",
              "17        id_verify  000e85df3eb94068bbb379e127e91f9a|1509433020000   \n",
              "18        id_verify  000e85df3eb94068bbb379e127e91f9a|1509433020000   \n",
              "19        id_verify  000e85df3eb94068bbb379e127e91f9a|1509433020000   \n",
              "20            login  000f0689178848dba819e601c2ca2f4c|1507785480000   \n",
              "21       loan_index  000f0689178848dba819e601c2ca2f4c|1507785480000   \n",
              "22       loan_index  000f0689178848dba819e601c2ca2f4c|1507785480000   \n",
              "23        id_verify  000f0689178848dba819e601c2ca2f4c|1507785480000   \n",
              "24        id_verify  000f0689178848dba819e601c2ca2f4c|1507785480000   \n",
              "25       loan_index  000f0689178848dba819e601c2ca2f4c|1508895720000   \n",
              "26       loan_index  000f0689178848dba819e601c2ca2f4c|1508895720000   \n",
              "27       loan_index  000f0689178848dba819e601c2ca2f4c|1508895720000   \n",
              "28       loan_index  000f0689178848dba819e601c2ca2f4c|1508895720000   \n",
              "29       loan_index  000f0689178848dba819e601c2ca2f4c|1508895720000   \n",
              "30            login  00101e1ec08e4f1980b269e4078b309d|1508032680000   \n",
              "31       loan_index  00101e1ec08e4f1980b269e4078b309d|1508032680000   \n",
              "32        id_verify  00101e1ec08e4f1980b269e4078b309d|1508032680000   \n",
              "33        id_verify  00101e1ec08e4f1980b269e4078b309d|1508032680000   \n",
              "34       loan_index  00101e1ec08e4f1980b269e4078b309d|1508032680000   \n",
              "35       loan_index  0012a05ad6c846e694f729f3ceae403b|1508800560000   \n",
              "36        id_verify  0012a05ad6c846e694f729f3ceae403b|1508800560000   \n",
              "37        id_verify  0012a05ad6c846e694f729f3ceae403b|1508800560000   \n",
              "38        id_verify  0012a05ad6c846e694f729f3ceae403b|1508800560000   \n",
              "39   biometric_auto  0012a05ad6c846e694f729f3ceae403b|1508800560000   \n",
              "40            login  001974847ab346d8a13adbfd2be19c37|1508108460000   \n",
              "41       loan_index  001974847ab346d8a13adbfd2be19c37|1508108460000   \n",
              "42        id_verify  001974847ab346d8a13adbfd2be19c37|1508108460000   \n",
              "43        id_verify  001974847ab346d8a13adbfd2be19c37|1508108460000   \n",
              "44        id_verify  001974847ab346d8a13adbfd2be19c37|1508108460000   \n",
              "45            login  001974847ab346d8a13adbfd2be19c37|1509408480000   \n",
              "46       loan_index  001974847ab346d8a13adbfd2be19c37|1509408480000   \n",
              "47        id_verify  001974847ab346d8a13adbfd2be19c37|1509408480000   \n",
              "48        id_verify  001974847ab346d8a13adbfd2be19c37|1509408480000   \n",
              "49        id_verify  001974847ab346d8a13adbfd2be19c37|1509408480000   \n",
              "50            login  001a46f6bac04c43812cc814c0b7a5a3|1509076980000   \n",
              "51       loan_index  001a46f6bac04c43812cc814c0b7a5a3|1509076980000   \n",
              "52       loan_index  001a46f6bac04c43812cc814c0b7a5a3|1509076980000   \n",
              "53        id_verify  001a46f6bac04c43812cc814c0b7a5a3|1509076980000   \n",
              "54        id_verify  001a46f6bac04c43812cc814c0b7a5a3|1509076980000   \n",
              "55         register  001bfcd8e6f548148ee0e2d547658624|1507754640000   \n",
              "56       loan_index  001bfcd8e6f548148ee0e2d547658624|1507754640000   \n",
              "57        id_verify  001bfcd8e6f548148ee0e2d547658624|1507754640000   \n",
              "58        id_verify  001bfcd8e6f548148ee0e2d547658624|1507754640000   \n",
              "59        id_verify  001bfcd8e6f548148ee0e2d547658624|1507754640000   \n",
              "\n",
              "    stay_time  label  \n",
              "0      13.382    0.0  \n",
              "1       3.584    0.0  \n",
              "2      21.570    0.0  \n",
              "3       9.653    0.0  \n",
              "4      20.004    0.0  \n",
              "5       1.555    0.0  \n",
              "6       6.310    0.0  \n",
              "7      15.442    0.0  \n",
              "8       2.786    0.0  \n",
              "9       1.887    0.0  \n",
              "10     14.893    0.0  \n",
              "11      2.664    0.0  \n",
              "12     21.705    0.0  \n",
              "13     14.262    0.0  \n",
              "14      4.055    0.0  \n",
              "15     14.893    1.0  \n",
              "16      2.664    1.0  \n",
              "17     21.705    1.0  \n",
              "18     14.262    1.0  \n",
              "19      4.055    1.0  \n",
              "20      8.988    0.0  \n",
              "21      1.002    0.0  \n",
              "22      1.244    0.0  \n",
              "23      1.354    0.0  \n",
              "24      1.465    0.0  \n",
              "25     26.885    0.0  \n",
              "26      1.335    0.0  \n",
              "27      3.404    0.0  \n",
              "28      8.549    0.0  \n",
              "29      0.745    0.0  \n",
              "30     13.030    1.0  \n",
              "31      4.603    1.0  \n",
              "32      6.392    1.0  \n",
              "33      7.862    1.0  \n",
              "34      2.096    1.0  \n",
              "35      9.536    0.0  \n",
              "36      3.528    0.0  \n",
              "37      4.104    0.0  \n",
              "38      2.095    0.0  \n",
              "39     38.483    0.0  \n",
              "40     15.149    0.0  \n",
              "41      2.484    0.0  \n",
              "42     15.400    0.0  \n",
              "43      2.598    0.0  \n",
              "44      1.633    0.0  \n",
              "45     15.149    0.0  \n",
              "46      2.484    0.0  \n",
              "47     15.400    0.0  \n",
              "48      2.598    0.0  \n",
              "49      1.633    0.0  \n",
              "50     15.811    0.0  \n",
              "51      2.678    0.0  \n",
              "52     21.957    0.0  \n",
              "53      1.921    0.0  \n",
              "54      0.462    0.0  \n",
              "55      8.027    0.0  \n",
              "56      2.157    0.0  \n",
              "57      2.592    0.0  \n",
              "58      1.698    0.0  \n",
              "59      4.416    0.0  "
            ]
          },
          "execution_count": 36,
          "metadata": {
            "tags": []
          },
          "output_type": "execute_result"
        }
      ],
      "source": [
        "# behavior[40:70]\n",
        "#  process id `pid` : as long as the app is open, pid will be the same, no matter whether it's running or hanging in the background. It will be reset if the app is killed.\n",
        "# session id `sid` : every time when an app is recovered from background, sid will be reset.\n",
        "behavior.groupby([\"index\"]).head(5).head(60).reset_index()[[\"pname\",\"index\",\"stay_time\"]].merge(driver[[\"index\", \"label\"]], how=\"left\")"
      ]
    },
    {
      "cell_type": "code",
      "execution_count": 0,
      "metadata": {
        "ExecuteTime": {
          "end_time": "2020-04-28T06:14:34.587525Z",
          "start_time": "2020-04-28T06:14:34.172663Z"
        },
        "colab": {},
        "colab_type": "code",
        "id": "rXlxBrCv1uLe",
        "outputId": "a89c7031-685a-4d17-9320-59e4920e4fd7"
      },
      "outputs": [
        {
          "data": {
            "text/html": [
              "<div>\n",
              "<style scoped>\n",
              "    .dataframe tbody tr th:only-of-type {\n",
              "        vertical-align: middle;\n",
              "    }\n",
              "\n",
              "    .dataframe tbody tr th {\n",
              "        vertical-align: top;\n",
              "    }\n",
              "\n",
              "    .dataframe thead th {\n",
              "        text-align: right;\n",
              "    }\n",
              "</style>\n",
              "<table border=\"1\" class=\"dataframe\">\n",
              "  <thead>\n",
              "    <tr style=\"text-align: right;\">\n",
              "      <th></th>\n",
              "      <th>pname</th>\n",
              "      <th>index</th>\n",
              "      <th>stay_time</th>\n",
              "      <th>label</th>\n",
              "    </tr>\n",
              "  </thead>\n",
              "  <tbody>\n",
              "    <tr>\n",
              "      <th>0</th>\n",
              "      <td>20</td>\n",
              "      <td>00060e8ebf674d3ba77df5bcb80e8f8e|1507164000000</td>\n",
              "      <td>20</td>\n",
              "      <td>0.0</td>\n",
              "    </tr>\n",
              "    <tr>\n",
              "      <th>1</th>\n",
              "      <td>15</td>\n",
              "      <td>0006e4f012fd4cb7b37cb18a84bbc79b|1509324360000</td>\n",
              "      <td>15</td>\n",
              "      <td>0.0</td>\n",
              "    </tr>\n",
              "    <tr>\n",
              "      <th>2</th>\n",
              "      <td>27</td>\n",
              "      <td>000e85df3eb94068bbb379e127e91f9a|1508202300000</td>\n",
              "      <td>27</td>\n",
              "      <td>0.0</td>\n",
              "    </tr>\n",
              "    <tr>\n",
              "      <th>3</th>\n",
              "      <td>32</td>\n",
              "      <td>000e85df3eb94068bbb379e127e91f9a|1509433020000</td>\n",
              "      <td>32</td>\n",
              "      <td>1.0</td>\n",
              "    </tr>\n",
              "    <tr>\n",
              "      <th>4</th>\n",
              "      <td>49</td>\n",
              "      <td>000f0689178848dba819e601c2ca2f4c|1507785480000</td>\n",
              "      <td>49</td>\n",
              "      <td>0.0</td>\n",
              "    </tr>\n",
              "    <tr>\n",
              "      <th>...</th>\n",
              "      <td>...</td>\n",
              "      <td>...</td>\n",
              "      <td>...</td>\n",
              "      <td>...</td>\n",
              "    </tr>\n",
              "    <tr>\n",
              "      <th>19579</th>\n",
              "      <td>31</td>\n",
              "      <td>fffbd399e5d1481aa52cffc2c5e70cc8|1506897480000</td>\n",
              "      <td>31</td>\n",
              "      <td>0.0</td>\n",
              "    </tr>\n",
              "    <tr>\n",
              "      <th>19580</th>\n",
              "      <td>30</td>\n",
              "      <td>fffca13469f845a7b9ae8dc1f52dffde|1507150980000</td>\n",
              "      <td>30</td>\n",
              "      <td>0.0</td>\n",
              "    </tr>\n",
              "    <tr>\n",
              "      <th>19581</th>\n",
              "      <td>34</td>\n",
              "      <td>fffca13469f845a7b9ae8dc1f52dffde|1508359020000</td>\n",
              "      <td>34</td>\n",
              "      <td>0.0</td>\n",
              "    </tr>\n",
              "    <tr>\n",
              "      <th>19582</th>\n",
              "      <td>6</td>\n",
              "      <td>fffd06b3116a496a95f8a6b9f27b9732|1508628780000</td>\n",
              "      <td>6</td>\n",
              "      <td>1.0</td>\n",
              "    </tr>\n",
              "    <tr>\n",
              "      <th>19583</th>\n",
              "      <td>53</td>\n",
              "      <td>ffffd8a10af3463ba7d8fcb65cee5cdc|1508376060000</td>\n",
              "      <td>53</td>\n",
              "      <td>0.0</td>\n",
              "    </tr>\n",
              "  </tbody>\n",
              "</table>\n",
              "<p>19584 rows × 4 columns</p>\n",
              "</div>"
            ],
            "text/plain": [
              "       pname                                           index  stay_time  label\n",
              "0         20  00060e8ebf674d3ba77df5bcb80e8f8e|1507164000000         20    0.0\n",
              "1         15  0006e4f012fd4cb7b37cb18a84bbc79b|1509324360000         15    0.0\n",
              "2         27  000e85df3eb94068bbb379e127e91f9a|1508202300000         27    0.0\n",
              "3         32  000e85df3eb94068bbb379e127e91f9a|1509433020000         32    1.0\n",
              "4         49  000f0689178848dba819e601c2ca2f4c|1507785480000         49    0.0\n",
              "...      ...                                             ...        ...    ...\n",
              "19579     31  fffbd399e5d1481aa52cffc2c5e70cc8|1506897480000         31    0.0\n",
              "19580     30  fffca13469f845a7b9ae8dc1f52dffde|1507150980000         30    0.0\n",
              "19581     34  fffca13469f845a7b9ae8dc1f52dffde|1508359020000         34    0.0\n",
              "19582      6  fffd06b3116a496a95f8a6b9f27b9732|1508628780000          6    1.0\n",
              "19583     53  ffffd8a10af3463ba7d8fcb65cee5cdc|1508376060000         53    0.0\n",
              "\n",
              "[19584 rows x 4 columns]"
            ]
          },
          "execution_count": 37,
          "metadata": {
            "tags": []
          },
          "output_type": "execute_result"
        }
      ],
      "source": [
        "behavior[behavior[\"stay_time\"]>1].groupby([\"index\"]).count().reset_index()[[\"pname\",\"index\",\"stay_time\"]].merge(driver[[\"index\", \"label\"]], how=\"left\")"
      ]
    },
    {
      "cell_type": "code",
      "execution_count": 0,
      "metadata": {
        "ExecuteTime": {
          "end_time": "2020-04-28T06:27:36.805854Z",
          "start_time": "2020-04-28T06:27:36.202430Z"
        },
        "colab": {},
        "colab_type": "code",
        "id": "YjkRnZAN1uLh"
      },
      "outputs": [],
      "source": [
        "behavior_count = behavior.groupby([\"index\"]).count()[[\"user_id\"]].reset_index()\n",
        "behavior_count.rename(columns={'user_id': 'count'}, inplace=True)\n",
        "behavior = behavior.merge(behavior_count, how=\"left\")"
      ]
    },
    {
      "cell_type": "code",
      "execution_count": 0,
      "metadata": {
        "ExecuteTime": {
          "end_time": "2020-04-28T06:29:07.421279Z",
          "start_time": "2020-04-28T06:29:06.867759Z"
        },
        "colab": {},
        "colab_type": "code",
        "id": "1PFGmcAc1uLk",
        "outputId": "2767334d-f8c4-4885-8c15-01ddada43c30"
      },
      "outputs": [
        {
          "data": {
            "text/plain": [
              "(array([  0.,   0.,   1.,   0.,   1.,   0.,   0.,   1.,   0.,   2.,   2.,\n",
              "          2.,   2.,   6.,  11., 107., 137., 280., 339., 361., 834., 467.,\n",
              "        493., 520., 486., 963., 461., 439., 425., 443., 778., 334., 338.,\n",
              "        318., 302., 516., 243., 240., 223., 199., 348., 152., 147., 143.,\n",
              "        133., 218.,  94.,  80.,  97., 162.]),\n",
              " array([ 0. ,  1.2,  2.4,  3.6,  4.8,  6. ,  7.2,  8.4,  9.6, 10.8, 12. ,\n",
              "        13.2, 14.4, 15.6, 16.8, 18. , 19.2, 20.4, 21.6, 22.8, 24. , 25.2,\n",
              "        26.4, 27.6, 28.8, 30. , 31.2, 32.4, 33.6, 34.8, 36. , 37.2, 38.4,\n",
              "        39.6, 40.8, 42. , 43.2, 44.4, 45.6, 46.8, 48. , 49.2, 50.4, 51.6,\n",
              "        52.8, 54. , 55.2, 56.4, 57.6, 58.8, 60. ]),\n",
              " <a list of 50 Patch objects>)"
            ]
          },
          "execution_count": 78,
          "metadata": {
            "tags": []
          },
          "output_type": "execute_result"
        },
        {
          "data": {
            "image/png": "[encoded data removed]",
            "text/plain": [
              "<Figure size 432x288 with 1 Axes>"
            ]
          },
          "metadata": {
            "needs_background": "light",
            "tags": []
          },
          "output_type": "display_data"
        }
      ],
      "source": [
        "behavior_above_20 = behavior[behavior[\"count\"]>20]\n",
        "plt.hist(behavior_above_20[behavior_above_20[\"stay_time\"]>1].groupby([\"index\"]).count()[\"user_id\"], bins=50, range=(0, 60))"
      ]
    },
    {
      "cell_type": "markdown",
      "metadata": {
        "colab_type": "text",
        "id": "5wzpIEtRDzf3"
      },
      "source": [
        "## 3.2 Distribution of page stay time"
      ]
    },
    {
      "cell_type": "code",
      "execution_count": 0,
      "metadata": {
        "ExecuteTime": {
          "end_time": "2020-04-28T05:35:55.693558Z",
          "start_time": "2020-04-28T05:35:55.540933Z"
        },
        "colab": {
          "base_uri": "https://localhost:8080/",
          "height": 170
        },
        "colab_type": "code",
        "executionInfo": {
          "elapsed": 57575,
          "status": "ok",
          "timestamp": 1582558477019,
          "user": {
            "displayName": "Hanyu Wu",
            "photoUrl": "",
            "userId": "05588030028148674891"
          },
          "user_tz": 300
        },
        "id": "sBi4hsaTDzf4",
        "outputId": "73b03895-3439-4fea-ca08-d9f47835446c",
        "scrolled": true
      },
      "outputs": [
        {
          "data": {
            "text/plain": [
              "count    6.371780e+05\n",
              "mean     4.271703e+01\n",
              "std      3.415354e+03\n",
              "min      1.300000e-02\n",
              "25%      1.919000e+00\n",
              "50%      4.483000e+00\n",
              "75%      1.121700e+01\n",
              "max      2.588394e+06\n",
              "Name: stay_time, dtype: float64"
            ]
          },
          "execution_count": 11,
          "metadata": {
            "tags": []
          },
          "output_type": "execute_result"
        }
      ],
      "source": [
        "behavior[\"stay_time\"]=(behavior[\"petime\"]-behavior[\"pstime\"])/1000\n",
        "behavior[behavior[\"stay_time\"]>0][\"stay_time\"].describe()"
      ]
    },
    {
      "cell_type": "markdown",
      "metadata": {
        "colab_type": "text",
        "id": "yTp4XGMUDzf9"
      },
      "source": [
        "- Page stay time has some outliers and is right-skewed, we want to delete the outliers and take the logarithm of the stay time."
      ]
    },
    {
      "cell_type": "markdown",
      "metadata": {
        "colab_type": "text",
        "id": "T790qo6FDzgG"
      },
      "source": [
        "## 3.3 Distribution of  lag time between pages"
      ]
    },
    {
      "cell_type": "code",
      "execution_count": 0,
      "metadata": {
        "ExecuteTime": {
          "end_time": "2020-04-28T05:35:59.396655Z",
          "start_time": "2020-04-28T05:35:59.214114Z"
        },
        "colab": {
          "base_uri": "https://localhost:8080/",
          "height": 450
        },
        "colab_type": "code",
        "executionInfo": {
          "elapsed": 57896,
          "status": "ok",
          "timestamp": 1582558477356,
          "user": {
            "displayName": "Hanyu Wu",
            "photoUrl": "",
            "userId": "05588030028148674891"
          },
          "user_tz": 300
        },
        "id": "hyC2el2jDzgH",
        "outputId": "0a523016-1c63-4e96-a86f-bb5b90159a4a"
      },
      "outputs": [
        {
          "data": {
            "text/html": [
              "<div>\n",
              "<style scoped>\n",
              "    .dataframe tbody tr th:only-of-type {\n",
              "        vertical-align: middle;\n",
              "    }\n",
              "\n",
              "    .dataframe tbody tr th {\n",
              "        vertical-align: top;\n",
              "    }\n",
              "\n",
              "    .dataframe thead th {\n",
              "        text-align: right;\n",
              "    }\n",
              "</style>\n",
              "<table border=\"1\" class=\"dataframe\">\n",
              "  <thead>\n",
              "    <tr style=\"text-align: right;\">\n",
              "      <th></th>\n",
              "      <th>lagg</th>\n",
              "    </tr>\n",
              "    <tr>\n",
              "      <th>index</th>\n",
              "      <th></th>\n",
              "    </tr>\n",
              "  </thead>\n",
              "  <tbody>\n",
              "    <tr>\n",
              "      <th>00060e8ebf674d3ba77df5bcb80e8f8e|1507164000000</th>\n",
              "      <td>2</td>\n",
              "    </tr>\n",
              "    <tr>\n",
              "      <th>000e85df3eb94068bbb379e127e91f9a|1509433020000</th>\n",
              "      <td>1</td>\n",
              "    </tr>\n",
              "    <tr>\n",
              "      <th>000f0689178848dba819e601c2ca2f4c|1507785480000</th>\n",
              "      <td>5</td>\n",
              "    </tr>\n",
              "    <tr>\n",
              "      <th>000f0689178848dba819e601c2ca2f4c|1508895720000</th>\n",
              "      <td>7</td>\n",
              "    </tr>\n",
              "    <tr>\n",
              "      <th>00101e1ec08e4f1980b269e4078b309d|1508032680000</th>\n",
              "      <td>2</td>\n",
              "    </tr>\n",
              "    <tr>\n",
              "      <th>...</th>\n",
              "      <td>...</td>\n",
              "    </tr>\n",
              "    <tr>\n",
              "      <th>fff74b0291224857a1c701b2e4b7e5a6|1508238060000</th>\n",
              "      <td>4</td>\n",
              "    </tr>\n",
              "    <tr>\n",
              "      <th>fffbd399e5d1481aa52cffc2c5e70cc8|1506897480000</th>\n",
              "      <td>1</td>\n",
              "    </tr>\n",
              "    <tr>\n",
              "      <th>fffca13469f845a7b9ae8dc1f52dffde|1507150980000</th>\n",
              "      <td>3</td>\n",
              "    </tr>\n",
              "    <tr>\n",
              "      <th>fffca13469f845a7b9ae8dc1f52dffde|1508359020000</th>\n",
              "      <td>3</td>\n",
              "    </tr>\n",
              "    <tr>\n",
              "      <th>ffffd8a10af3463ba7d8fcb65cee5cdc|1508376060000</th>\n",
              "      <td>12</td>\n",
              "    </tr>\n",
              "  </tbody>\n",
              "</table>\n",
              "<p>14084 rows × 1 columns</p>\n",
              "</div>"
            ],
            "text/plain": [
              "                                                lagg\n",
              "index                                               \n",
              "00060e8ebf674d3ba77df5bcb80e8f8e|1507164000000     2\n",
              "000e85df3eb94068bbb379e127e91f9a|1509433020000     1\n",
              "000f0689178848dba819e601c2ca2f4c|1507785480000     5\n",
              "000f0689178848dba819e601c2ca2f4c|1508895720000     7\n",
              "00101e1ec08e4f1980b269e4078b309d|1508032680000     2\n",
              "...                                              ...\n",
              "fff74b0291224857a1c701b2e4b7e5a6|1508238060000     4\n",
              "fffbd399e5d1481aa52cffc2c5e70cc8|1506897480000     1\n",
              "fffca13469f845a7b9ae8dc1f52dffde|1507150980000     3\n",
              "fffca13469f845a7b9ae8dc1f52dffde|1508359020000     3\n",
              "ffffd8a10af3463ba7d8fcb65cee5cdc|1508376060000    12\n",
              "\n",
              "[14084 rows x 1 columns]"
            ]
          },
          "execution_count": 12,
          "metadata": {
            "tags": []
          },
          "output_type": "execute_result"
        }
      ],
      "source": [
        "behavior = behavior.assign(lagg=lambda x: np.where(x.user_id.shift(1) == x.user_id, (x.pstime-x.petime.shift(1))/1000, 0))\n",
        "behavior[behavior[\"lagg\"] >= 14400].groupby(\"index\").count()[[\"lagg\"]]"
      ]
    },
    {
      "cell_type": "markdown",
      "metadata": {
        "colab_type": "text",
        "id": "CFyxXOKhDzgK"
      },
      "source": [
        "- The lag time between pages have a large variation, as most applications takes days to complete\n",
        "- It is also right-skewed, so we take the logarithm of the lag time."
      ]
    },
    {
      "cell_type": "markdown",
      "metadata": {
        "colab_type": "text",
        "id": "zpe8YQ_UDzgO"
      },
      "source": [
        "## 3.4 Explore the duration(time span) of an application"
      ]
    },
    {
      "cell_type": "code",
      "execution_count": 0,
      "metadata": {
        "ExecuteTime": {
          "end_time": "2020-04-28T05:36:11.372774Z",
          "start_time": "2020-04-28T05:36:02.897270Z"
        },
        "colab": {},
        "colab_type": "code",
        "id": "GbtjExdbDzgO"
      },
      "outputs": [],
      "source": [
        "duration_dic = {}\n",
        "for key, value in sequential_behavior.items():\n",
        "    # print(value)\n",
        "    value.sort(key=lambda x: x['petime'])\n",
        "    if len(value) < 2:\n",
        "        continue\n",
        "    start_time = pd.to_datetime(value[0][\"pstime\"], unit='ms')\n",
        "    end_time = pd.to_datetime(value[-1][\"petime\"], unit='ms')\n",
        "    duration = end_time-start_time\n",
        "    duration_dic[key] = duration"
      ]
    },
    {
      "cell_type": "code",
      "execution_count": null,
      "metadata": {
        "ExecuteTime": {
          "end_time": "2020-04-28T05:36:16.005234Z",
          "start_time": "2020-04-28T05:36:15.142547Z"
        },
        "colab": {},
        "colab_type": "code",
        "id": "AxRMB0W0DzgQ",
        "outputId": "befa76b8-7126-40e0-e171-f66545919e19"
      },
      "outputs": [],
      "source": [
        "test = pd.DataFrame(duration_dic, index=[0]).T.reset_index()\n",
        "test = test.rename(columns={\"index\": \"unique_id\", 0: \"duration\"})"
      ]
    },
    {
      "cell_type": "code",
      "execution_count": 0,
      "metadata": {
        "ExecuteTime": {
          "end_time": "2020-04-28T05:36:16.008226Z",
          "start_time": "2020-04-28T05:35:39.103Z"
        },
        "colab": {},
        "colab_type": "code",
        "id": "R1FVjXj9DzgV"
      },
      "outputs": [],
      "source": [
        "test = test.merge(driver, left_on=\"unique_id\", right_on=\"index\", how=\"inner\")\n",
        "test.head()"
      ]
    },
    {
      "cell_type": "code",
      "execution_count": 0,
      "metadata": {
        "ExecuteTime": {
          "end_time": "2020-04-28T05:36:16.010234Z",
          "start_time": "2020-04-28T05:35:39.303Z"
        },
        "colab": {},
        "colab_type": "code",
        "id": "uIeEGwO0Dzgb"
      },
      "outputs": [],
      "source": [
        "# test[\"duration_day\"] = test[\"duration\"]/np.timedelta64(1, 'D')\n",
        "# test = test[test[\"duration_day\"] >= 0]\n",
        "\n",
        "# cross_table = pd.crosstab(test[\"label\"], test[\"duration_day\"], margins=True)\n",
        "# print('chisq = %6.4f\\n p-value = %6.4f\\n dof = %i\\n expected_freq =\\n %s' % stats.chi2_contingency(cross_table))"
      ]
    },
    {
      "cell_type": "markdown",
      "metadata": {
        "colab_type": "text",
        "id": "9gWO1dc_Dzge"
      },
      "source": [
        "- No significatn difference in application's time span between benign users and fraud users is observed"
      ]
    }
  ],
  "metadata": {
    "colab": {
      "collapsed_sections": [
        "NCiF3eXVDzfz",
        "5wzpIEtRDzf3"
      ],
      "name": "data_exploration.ipynb",
      "provenance": []
    },
    "kernelspec": {
      "display_name": "Python 3",
      "language": "python",
      "name": "python3"
    },
    "language_info": {
      "codemirror_mode": {
        "name": "ipython",
        "version": 3
      },
      "file_extension": ".py",
      "mimetype": "text/x-python",
      "name": "python",
      "nbconvert_exporter": "python",
      "pygments_lexer": "ipython3",
      "version": "3.7.4"
    },
    "nteract": {
      "version": "0.26.0"
    },
    "toc": {
      "base_numbering": 1,
      "nav_menu": {},
      "number_sections": true,
      "sideBar": true,
      "skip_h1_title": false,
      "title_cell": "Table of Contents",
      "title_sidebar": "Contents",
      "toc_cell": false,
      "toc_position": {},
      "toc_section_display": true,
      "toc_window_display": false
    },
    "varInspector": {
      "cols": {
        "lenName": 16,
        "lenType": 16,
        "lenVar": 40
      },
      "kernels_config": {
        "python": {
          "delete_cmd_postfix": "",
          "delete_cmd_prefix": "del ",
          "library": "var_list.py",
          "varRefreshCmd": "print(var_dic_list())"
        },
        "r": {
          "delete_cmd_postfix": ") ",
          "delete_cmd_prefix": "rm(",
          "library": "var_list.r",
          "varRefreshCmd": "cat(var_dic_list()) "
        }
      },
      "types_to_exclude": [
        "module",
        "function",
        "builtin_function_or_method",
        "instance",
        "_Feature"
      ],
      "window_display": false
    }
  },
  "nbformat": 4,
  "nbformat_minor": 0
}
