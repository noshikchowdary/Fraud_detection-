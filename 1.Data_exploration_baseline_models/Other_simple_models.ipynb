{
 "cells": [
  {
   "cell_type": "code",
   "execution_count": 1,
   "metadata": {
    "ExecuteTime": {
     "end_time": "2020-03-31T21:22:19.810884Z",
     "start_time": "2020-03-31T21:22:17.377317Z"
    },
    "colab": {
     "base_uri": "https://localhost:8080/",
     "height": 134
    },
    "colab_type": "code",
    "executionInfo": {
     "elapsed": 2327,
     "status": "ok",
     "timestamp": 1582642950102,
     "user": {
      "displayName": "Hanyu Wu",
      "photoUrl": "",
      "userId": "05588030028148674891"
     },
     "user_tz": 300
    },
    "id": "7KGzer_R3VL4",
    "outputId": "a1fd760f-a9cd-4d2e-f36c-b8ff77126488"
   },
   "outputs": [
    {
     "name": "stdout",
     "output_type": "stream",
     "text": [
      "WARNING:tensorflow:From C:\\Users\\Harry\\Anaconda3\\envs\\tensorflow-gpu\\lib\\site-packages\\tensorflow_core\\python\\compat\\v2_compat.py:88: disable_resource_variables (from tensorflow.python.ops.variable_scope) is deprecated and will be removed in a future version.\n",
      "Instructions for updating:\n",
      "non-resource variables are not supported in the long term\n"
     ]
    }
   ],
   "source": [
    "from sklearn.metrics import roc_curve, auc\n",
    "from sklearn.metrics import accuracy_score\n",
    "import sklearn.preprocessing as pre\n",
    "import json\n",
    "import pandas as pd\n",
    "import numpy as np\n",
    "import sklearn.model_selection\n",
    "from sklearn.metrics import confusion_matrix\n",
    "from sklearn.feature_selection import f_classif\n",
    "from sklearn.feature_selection import SelectKBest\n",
    "import sklearn\n",
    "import tensorflow.compat.v1 as tf\n",
    "import tensorflow\n",
    "import tensorflow.keras as keras\n",
    "import warnings\n",
    "warnings.filterwarnings('ignore')\n",
    "tf.disable_v2_behavior()\n",
    "from sklearn.base import BaseEstimator,ClassifierMixin\n",
    "\n",
    "data_dir = '../../data/processed/'"
   ]
  },
  {
   "cell_type": "markdown",
   "metadata": {
    "colab_type": "text",
    "id": "Au1LXjaz3VMl"
   },
   "source": [
    "baseline:   \n",
    "\n",
    "\n",
    "    1. use random search for hyper-parameter\n",
    "    2. KS值作为最重要的指标， the best threshold for the classifier is based on KS\n",
    "    3. Done: SVM, Lasso, logistic\n",
    "    4. with probability: Logistic, NN\n",
    "    5. without probability: Tree. \n",
    "        XGBoost, Random Forest\n",
    "    6. try with bagging. \n",
    "    7. use model: ensemble model\n",
    "        ereg = VotingRegressor(estimators=[('gb', reg1), ('rf', reg2), ('lr', reg3)])\n",
    "        reg1 = GradientBoostingRegressor(random_state=1, n_estimators=10)\n",
    "        reg2 = RandomForestRegressor(random_state=1, n_estimators=10)\n",
    "    8. naive bayes\n",
    "\n",
    "        \n"
   ]
  },
  {
   "cell_type": "markdown",
   "metadata": {
    "colab_type": "text",
    "id": "BXw7tBkZ3VMm"
   },
   "source": [
    "# preparing the data"
   ]
  },
  {
   "cell_type": "markdown",
   "metadata": {
    "colab_type": "text",
    "id": "zdfQ8g4m3VMn"
   },
   "source": [
    "## adding the crime data into it"
   ]
  },
  {
   "cell_type": "code",
   "execution_count": 2,
   "metadata": {
    "ExecuteTime": {
     "end_time": "2020-03-31T21:22:20.791856Z",
     "start_time": "2020-03-31T21:22:19.811882Z"
    },
    "colab": {},
    "colab_type": "code",
    "id": "6cb7O8xa3VM4"
   },
   "outputs": [],
   "source": [
    "# X=pd.read_csv()\n",
    "with open(data_dir+\"non_sequential_features.json\") as obj:\n",
    "    X = json.load(obj)\n",
    "with open(data_dir+\"padded_sequential_features_3.json\") as obj:\n",
    "    X_seq = json.load(obj)\n",
    "with open(data_dir+\"label.json\") as obj:\n",
    "    Y = json.load(obj)"
   ]
  },
  {
   "cell_type": "code",
   "execution_count": 3,
   "metadata": {
    "ExecuteTime": {
     "end_time": "2020-03-31T21:22:20.962236Z",
     "start_time": "2020-03-31T21:22:20.792717Z"
    },
    "colab": {},
    "colab_type": "code",
    "id": "tom-dGYV3VM7"
   },
   "outputs": [],
   "source": [
    "feature2=np.array([X_seq[key] for key in X_seq.keys()])"
   ]
  },
  {
   "cell_type": "code",
   "execution_count": 4,
   "metadata": {
    "ExecuteTime": {
     "end_time": "2020-03-31T21:22:20.972234Z",
     "start_time": "2020-03-31T21:22:20.964231Z"
    },
    "colab": {
     "base_uri": "https://localhost:8080/",
     "height": 34
    },
    "colab_type": "code",
    "executionInfo": {
     "elapsed": 6303,
     "status": "ok",
     "timestamp": 1582642954215,
     "user": {
      "displayName": "Hanyu Wu",
      "photoUrl": "",
      "userId": "05588030028148674891"
     },
     "user_tz": 300
    },
    "id": "UlbjzHox3VM-",
    "outputId": "bcf22103-60b9-47b4-a8c9-c689310d1dcf"
   },
   "outputs": [
    {
     "data": {
      "text/plain": [
       "(3715, 60, 18)"
      ]
     },
     "execution_count": 4,
     "metadata": {},
     "output_type": "execute_result"
    }
   ],
   "source": [
    "feature2.shape"
   ]
  },
  {
   "cell_type": "code",
   "execution_count": 5,
   "metadata": {
    "ExecuteTime": {
     "end_time": "2020-03-31T21:22:20.987201Z",
     "start_time": "2020-03-31T21:22:20.973207Z"
    },
    "colab": {},
    "colab_type": "code",
    "id": "h-wv8RkQ3VNC"
   },
   "outputs": [],
   "source": [
    "feature2 = np.concatenate(\n",
    "    [feature2[:, :, 0][:, :, np.newaxis], feature2[:, :, 14:]], axis=-1)"
   ]
  },
  {
   "cell_type": "code",
   "execution_count": 6,
   "metadata": {
    "ExecuteTime": {
     "end_time": "2020-03-31T21:22:20.991173Z",
     "start_time": "2020-03-31T21:22:20.989165Z"
    },
    "colab": {},
    "colab_type": "code",
    "id": "nkOgj1Kh3VNE"
   },
   "outputs": [],
   "source": [
    "feature2 = feature2.reshape((-1, 60*5))"
   ]
  },
  {
   "cell_type": "code",
   "execution_count": 7,
   "metadata": {
    "ExecuteTime": {
     "end_time": "2020-03-31T21:22:21.002155Z",
     "start_time": "2020-03-31T21:22:20.993154Z"
    },
    "colab": {},
    "colab_type": "code",
    "id": "8hLSh7DF3VNH"
   },
   "outputs": [],
   "source": [
    "X = np.array([X[key] for key in X.keys()])"
   ]
  },
  {
   "cell_type": "code",
   "execution_count": 8,
   "metadata": {
    "ExecuteTime": {
     "end_time": "2020-03-31T21:22:21.012128Z",
     "start_time": "2020-03-31T21:22:21.004141Z"
    },
    "colab": {},
    "colab_type": "code",
    "id": "I3b_BW_-3VNK"
   },
   "outputs": [],
   "source": [
    "X = np.concatenate([X, feature2], axis=-1)"
   ]
  },
  {
   "cell_type": "code",
   "execution_count": 9,
   "metadata": {
    "ExecuteTime": {
     "end_time": "2020-03-31T21:22:21.016118Z",
     "start_time": "2020-03-31T21:22:21.013100Z"
    },
    "colab": {},
    "colab_type": "code",
    "id": "O_XN4mZ-3VNM"
   },
   "outputs": [],
   "source": [
    "Y_ = Y.values()"
   ]
  },
  {
   "cell_type": "code",
   "execution_count": 10,
   "metadata": {
    "ExecuteTime": {
     "end_time": "2020-03-31T21:22:21.022101Z",
     "start_time": "2020-03-31T21:22:21.017100Z"
    },
    "colab": {},
    "colab_type": "code",
    "id": "K7PNQC5i3VNP"
   },
   "outputs": [],
   "source": [
    "Y_ = np.array(list(Y_))"
   ]
  },
  {
   "cell_type": "code",
   "execution_count": 11,
   "metadata": {
    "ExecuteTime": {
     "end_time": "2020-03-31T21:22:21.027087Z",
     "start_time": "2020-03-31T21:22:21.023120Z"
    },
    "colab": {},
    "colab_type": "code",
    "id": "_tZijjTz3VNS"
   },
   "outputs": [],
   "source": [
    "Y_ = Y_.astype(\"int\")"
   ]
  },
  {
   "cell_type": "code",
   "execution_count": 12,
   "metadata": {
    "ExecuteTime": {
     "end_time": "2020-03-31T21:22:21.033078Z",
     "start_time": "2020-03-31T21:22:21.028060Z"
    },
    "colab": {},
    "colab_type": "code",
    "id": "qhDJTQkd3VNV"
   },
   "outputs": [],
   "source": [
    "X_ = X"
   ]
  },
  {
   "cell_type": "code",
   "execution_count": 13,
   "metadata": {
    "ExecuteTime": {
     "end_time": "2020-03-31T21:22:21.039060Z",
     "start_time": "2020-03-31T21:22:21.034044Z"
    },
    "colab": {
     "base_uri": "https://localhost:8080/",
     "height": 34
    },
    "colab_type": "code",
    "executionInfo": {
     "elapsed": 6391,
     "status": "ok",
     "timestamp": 1582642954368,
     "user": {
      "displayName": "Hanyu Wu",
      "photoUrl": "",
      "userId": "05588030028148674891"
     },
     "user_tz": 300
    },
    "id": "6e7sqwRE3VNX",
    "outputId": "3e7323df-a64e-4271-ec07-9f6fed718264"
   },
   "outputs": [
    {
     "data": {
      "text/plain": [
       "((3715, 314), (3715,))"
      ]
     },
     "execution_count": 13,
     "metadata": {},
     "output_type": "execute_result"
    }
   ],
   "source": [
    "X_.shape, Y_.shape"
   ]
  },
  {
   "cell_type": "code",
   "execution_count": 44,
   "metadata": {
    "ExecuteTime": {
     "end_time": "2020-03-31T21:24:36.181964Z",
     "start_time": "2020-03-31T21:24:36.172988Z"
    },
    "colab": {},
    "colab_type": "code",
    "id": "Qp_NV0Ea3VNZ"
   },
   "outputs": [],
   "source": [
    "index = np.arange(len(X_))\n",
    "X, X_test_2019, Y, Y_test_2019 = sklearn.model_selection.train_test_split(X_[:100000], Y_[:100000], test_size=0.25)"
   ]
  },
  {
   "cell_type": "markdown",
   "metadata": {
    "colab_type": "text",
    "id": "y8zmU96y3VNb"
   },
   "source": [
    "# parameters"
   ]
  },
  {
   "cell_type": "code",
   "execution_count": 15,
   "metadata": {
    "ExecuteTime": {
     "end_time": "2020-03-31T21:22:21.054988Z",
     "start_time": "2020-03-31T21:22:21.050999Z"
    },
    "colab": {},
    "colab_type": "code",
    "id": "qqjcBZKL3VNj"
   },
   "outputs": [],
   "source": [
    "def get_KS(y_prob, y_true):\n",
    "    '''\n",
    "\n",
    "    return the best threshold, maximum ks\n",
    "\n",
    "    '''\n",
    "\n",
    "    fpr, tpr, threshold = roc_curve(y_true, y_prob)\n",
    "    ks = (tpr-fpr)\n",
    "    max_ = np.argmax(ks)\n",
    "\n",
    "    return threshold[max_], np.max(ks)"
   ]
  },
  {
   "cell_type": "markdown",
   "metadata": {
    "colab_type": "text",
    "id": "gKm62lEe3VNl"
   },
   "source": [
    "# Test on important features"
   ]
  },
  {
   "cell_type": "code",
   "execution_count": 16,
   "metadata": {
    "ExecuteTime": {
     "end_time": "2020-03-31T21:22:21.060973Z",
     "start_time": "2020-03-31T21:22:21.055998Z"
    },
    "colab": {},
    "colab_type": "code",
    "id": "O5zG_hPP3VNo"
   },
   "outputs": [],
   "source": [
    "class Get_best(BaseEstimator, ClassifierMixin):\n",
    "    def __init__(self, model, threshold):\n",
    "        self.model = model\n",
    "        self.threshold = threshold\n",
    "\n",
    "    def fit(self, X, Y):\n",
    "        self.model.fit(X, Y)\n",
    "        return self\n",
    "\n",
    "    def predict_proba(self, X):\n",
    "        self.proba = self.model.predict_proba(X)\n",
    "        return self.proba\n",
    "\n",
    "    def predict(self, X):\n",
    "        return self.predict_proba(X)[:, 1] >= self.threshold"
   ]
  },
  {
   "cell_type": "code",
   "execution_count": 17,
   "metadata": {
    "ExecuteTime": {
     "end_time": "2020-03-31T21:22:21.069947Z",
     "start_time": "2020-03-31T21:22:21.061969Z"
    },
    "colab": {},
    "colab_type": "code",
    "id": "WxCwCfoK3VNq"
   },
   "outputs": [],
   "source": [
    "class selection_and_KS:\n",
    "    def __init__(self, model, parameter, model_name=None):\n",
    "        self.model = model\n",
    "        self.parameter = parameter\n",
    "        self.scoring = {'AUC': 'roc_auc'}\n",
    "        self.refit_first = 'AUC'\n",
    "        self.cv = 5\n",
    "        self.clf = RandomizedSearchCV(self.model, param_distributions=self.parameter,\n",
    "                                      cv=self.cv, scoring=self.scoring, refit=self.refit_first)\n",
    "        self.model_name = model_name\n",
    "\n",
    "    def fit(self, X, Y):\n",
    "        if self.model_name == \"SVM\":\n",
    "            self.scoring = {'AUC': 'accuracy'}\n",
    "        self.clf.fit(X, Y)\n",
    "        self.best_model = self.clf.best_estimator_\n",
    "        if self.model_name == \"SVM\":\n",
    "            self.best_model = self.best_model.set_params(probability=True)\n",
    "        self.best_model.fit(X, Y)\n",
    "        self.threshold, self.ks = get_KS(\n",
    "            self.best_model.predict_proba(X)[:, 1], Y)\n",
    "        print(\"ks-value is: {}\".format(self.ks))\n",
    "        self.accuracy = np.mean((self.best_model.predict(X) == Y))\n",
    "        print(self.clf.cv_results_['params'][self.clf.best_index_])\n",
    "        return self\n",
    "\n",
    "    def return_best(self):\n",
    "        return Get_best(model=self.best_model, threshold=self.threshold)"
   ]
  },
  {
   "cell_type": "code",
   "execution_count": 18,
   "metadata": {
    "ExecuteTime": {
     "end_time": "2020-03-31T21:22:21.091919Z",
     "start_time": "2020-03-31T21:22:21.070956Z"
    },
    "colab": {},
    "colab_type": "code",
    "id": "6lpOrXc33VNs"
   },
   "outputs": [],
   "source": [
    "from sklearn.ensemble import RandomForestClassifier, VotingClassifier"
   ]
  },
  {
   "cell_type": "code",
   "execution_count": 19,
   "metadata": {
    "ExecuteTime": {
     "end_time": "2020-03-31T21:22:21.096876Z",
     "start_time": "2020-03-31T21:22:21.092901Z"
    },
    "colab": {},
    "colab_type": "code",
    "id": "Q9B1zVZf3VNw"
   },
   "outputs": [],
   "source": [
    "from sklearn.model_selection import RandomizedSearchCV"
   ]
  },
  {
   "cell_type": "markdown",
   "metadata": {
    "colab_type": "text",
    "id": "9VPdpp3d3VN1"
   },
   "source": [
    "# base model"
   ]
  },
  {
   "cell_type": "markdown",
   "metadata": {
    "colab_type": "text",
    "id": "b3WqAto03VN2"
   },
   "source": [
    "## for voting ensembling"
   ]
  },
  {
   "cell_type": "markdown",
   "metadata": {
    "colab_type": "text",
    "id": "EyVIQ-Wf3VN3"
   },
   "source": [
    "## logistics Ridge"
   ]
  },
  {
   "cell_type": "code",
   "execution_count": 20,
   "metadata": {
    "ExecuteTime": {
     "end_time": "2020-03-31T21:22:21.102859Z",
     "start_time": "2020-03-31T21:22:21.097873Z"
    },
    "colab": {},
    "colab_type": "code",
    "id": "XsH_Da3z3VN3"
   },
   "outputs": [],
   "source": [
    "model_dict = {}\n",
    "model_acc = {}\n",
    "model_ks = {}\n",
    "X_dict = {}\n",
    "Y_dict = {}"
   ]
  },
  {
   "cell_type": "markdown",
   "metadata": {
    "colab_type": "text",
    "id": "RMrR2vb83VN5"
   },
   "source": [
    "## SVM"
   ]
  },
  {
   "cell_type": "markdown",
   "metadata": {
    "colab_type": "text",
    "id": "uwjALGRF3VN7"
   },
   "source": [
    "our dataset is so big that SVM is not appropriate here."
   ]
  },
  {
   "cell_type": "code",
   "execution_count": 21,
   "metadata": {
    "ExecuteTime": {
     "end_time": "2020-03-31T21:22:21.108844Z",
     "start_time": "2020-03-31T21:22:21.103858Z"
    },
    "colab": {},
    "colab_type": "code",
    "id": "bW09yf6F3VN8"
   },
   "outputs": [],
   "source": [
    "from sklearn.ensemble import BaggingClassifier, RandomForestClassifier"
   ]
  },
  {
   "cell_type": "markdown",
   "metadata": {
    "colab_type": "text",
    "id": "zUIO_UMD3VN-"
   },
   "source": [
    "## LDA&QDA"
   ]
  },
  {
   "cell_type": "code",
   "execution_count": 22,
   "metadata": {
    "ExecuteTime": {
     "end_time": "2020-03-31T21:22:21.119838Z",
     "start_time": "2020-03-31T21:22:21.112832Z"
    },
    "colab": {},
    "colab_type": "code",
    "id": "XtTIVRAV3VN_"
   },
   "outputs": [],
   "source": [
    "from sklearn.discriminant_analysis import LinearDiscriminantAnalysis,QuadraticDiscriminantAnalysis"
   ]
  },
  {
   "cell_type": "markdown",
   "metadata": {
    "colab_type": "text",
    "id": "HYYHrHGD3VOB"
   },
   "source": [
    "### LDA"
   ]
  },
  {
   "cell_type": "code",
   "execution_count": 23,
   "metadata": {
    "ExecuteTime": {
     "end_time": "2020-03-31T21:22:23.422742Z",
     "start_time": "2020-03-31T21:22:21.121810Z"
    },
    "colab": {
     "base_uri": "https://localhost:8080/",
     "height": 71
    },
    "colab_type": "code",
    "executionInfo": {
     "elapsed": 9579,
     "status": "ok",
     "timestamp": 1582642957648,
     "user": {
      "displayName": "Hanyu Wu",
      "photoUrl": "",
      "userId": "05588030028148674891"
     },
     "user_tz": 300
    },
    "id": "uRZ3Q9Nj3VOC",
    "outputId": "64b91e10-92e2-483e-83ac-5d18ae06f06e"
   },
   "outputs": [
    {
     "name": "stdout",
     "output_type": "stream",
     "text": [
      "ks-value is: 0.5145390978084762\n",
      "{'solver': 'svd'}\n"
     ]
    }
   ],
   "source": [
    "LDA = LinearDiscriminantAnalysis()\n",
    "search_parameter = {'solver': ['svd', 'lsqr']}\n",
    "m_LDA = selection_and_KS(LDA, parameter=search_parameter)\n",
    "m_LDA.fit(X, Y)\n",
    "model_dict[\"LDA\"] = m_LDA.return_best()\n",
    "model_acc[\"LDA\"] = m_LDA.accuracy\n",
    "model_ks[\"LDA\"] = m_LDA.ks\n",
    "X_dict[\"LDA\"] = X\n",
    "Y_dict[\"LDA\"] = Y"
   ]
  },
  {
   "cell_type": "markdown",
   "metadata": {
    "colab_type": "text",
    "id": "ybLBTPVx3VOF"
   },
   "source": [
    "### QDA"
   ]
  },
  {
   "cell_type": "code",
   "execution_count": 24,
   "metadata": {
    "ExecuteTime": {
     "end_time": "2020-03-31T21:22:25.141141Z",
     "start_time": "2020-03-31T21:22:23.424731Z"
    },
    "colab": {
     "base_uri": "https://localhost:8080/",
     "height": 71
    },
    "colab_type": "code",
    "executionInfo": {
     "elapsed": 10967,
     "status": "ok",
     "timestamp": 1582642959041,
     "user": {
      "displayName": "Hanyu Wu",
      "photoUrl": "",
      "userId": "05588030028148674891"
     },
     "user_tz": 300
    },
    "id": "tNDdJ61T3VOG",
    "outputId": "42645cd5-580d-4231-e539-2f26ff442130"
   },
   "outputs": [
    {
     "name": "stdout",
     "output_type": "stream",
     "text": [
      "ks-value is: 1.0\n",
      "{}\n"
     ]
    }
   ],
   "source": [
    "QDA = QuadraticDiscriminantAnalysis()\n",
    "search_parameter = {}\n",
    "m_QDA = selection_and_KS(QDA, parameter=search_parameter)\n",
    "m_QDA.fit(X, Y)\n",
    "model_dict[\"QDA\"] = m_QDA.return_best()\n",
    "model_acc[\"QDA\"] = m_QDA.accuracy\n",
    "model_ks[\"QDA\"] = m_QDA.ks\n",
    "X_dict[\"QDA\"] = X\n",
    "Y_dict[\"QDA\"] = Y"
   ]
  },
  {
   "cell_type": "markdown",
   "metadata": {
    "colab_type": "text",
    "id": "vtRQgAF73VOJ"
   },
   "source": [
    "## Tree model: Random_forest, XGboost"
   ]
  },
  {
   "cell_type": "markdown",
   "metadata": {
    "colab_type": "text",
    "id": "_TSXE7tQ3VOJ"
   },
   "source": [
    "### random_forest"
   ]
  },
  {
   "cell_type": "code",
   "execution_count": 25,
   "metadata": {
    "ExecuteTime": {
     "end_time": "2020-03-31T21:22:43.868247Z",
     "start_time": "2020-03-31T21:22:25.142139Z"
    },
    "colab": {
     "base_uri": "https://localhost:8080/",
     "height": 51
    },
    "colab_type": "code",
    "executionInfo": {
     "elapsed": 39810,
     "status": "ok",
     "timestamp": 1582642987890,
     "user": {
      "displayName": "Hanyu Wu",
      "photoUrl": "",
      "userId": "05588030028148674891"
     },
     "user_tz": 300
    },
    "id": "YpusoBKa3VOK",
    "outputId": "0019553a-dfbb-42a8-b498-3a6c09056655"
   },
   "outputs": [
    {
     "name": "stdout",
     "output_type": "stream",
     "text": [
      "ks-value is: 1.0\n",
      "{'max_features': 9, 'max_depth': 28}\n"
     ]
    }
   ],
   "source": [
    "params = {\"max_depth\": [i for i in range(\n",
    "    2, 32)], 'max_features': range(3, 11, 2)}\n",
    "model = RandomForestClassifier()\n",
    "random_forest = selection_and_KS(model, parameter=params)\n",
    "random_forest.fit(X, Y)\n",
    "model_dict[\"tree_random_forest\"] = random_forest.return_best()\n",
    "model_acc[\"tree_random_forest\"] = random_forest.accuracy\n",
    "model_ks[\"tree_random_forest\"] = random_forest.ks\n",
    "X_dict[\"tree_random_forest\"] = X\n",
    "Y_dict[\"tree_random_forest\"] = Y"
   ]
  },
  {
   "cell_type": "markdown",
   "metadata": {
    "colab_type": "text",
    "id": "frNclZkO3VOM"
   },
   "source": [
    "### XGBOOST"
   ]
  },
  {
   "cell_type": "code",
   "execution_count": 26,
   "metadata": {
    "ExecuteTime": {
     "end_time": "2020-03-31T21:22:43.887168Z",
     "start_time": "2020-03-31T21:22:43.869216Z"
    },
    "colab": {},
    "colab_type": "code",
    "id": "UnWLvR2-3VON"
   },
   "outputs": [],
   "source": [
    "from xgboost.sklearn import XGBClassifier"
   ]
  },
  {
   "cell_type": "code",
   "execution_count": 27,
   "metadata": {
    "ExecuteTime": {
     "end_time": "2020-03-31T21:23:03.122578Z",
     "start_time": "2020-03-31T21:22:43.888166Z"
    },
    "colab": {
     "base_uri": "https://localhost:8080/",
     "height": 51
    },
    "colab_type": "code",
    "executionInfo": {
     "elapsed": 153599,
     "status": "ok",
     "timestamp": 1582643101689,
     "user": {
      "displayName": "Hanyu Wu",
      "photoUrl": "",
      "userId": "05588030028148674891"
     },
     "user_tz": 300
    },
    "id": "66joGxBe3VOP",
    "outputId": "4fb52298-22d8-4d30-b7d4-c042d9bd9231"
   },
   "outputs": [
    {
     "name": "stdout",
     "output_type": "stream",
     "text": [
      "ks-value is: 0.9171825701372901\n",
      "{'max_features': 16, 'max_depth': 32, 'learning_rate': 0.01}\n"
     ]
    }
   ],
   "source": [
    "params = {\"max_depth\": [i for i in [32]],\n",
    "          'max_features': [16], 'learning_rate': [0.01]}\n",
    "model = XGBClassifier()\n",
    "tree_XGBOOST = selection_and_KS(model, parameter=params)\n",
    "tree_XGBOOST.fit(X, Y)\n",
    "model_dict[\"tree_XGBOOST\"] = tree_XGBOOST.return_best()\n",
    "model_acc[\"tree_XGBOOST\"] = tree_XGBOOST.accuracy\n",
    "model_ks[\"tree_XGBOOST\"] = tree_XGBOOST.ks\n",
    "X_dict[\"tree_XGBOOST\"] = X\n",
    "Y_dict[\"tree_XGBOOST\"] = Y"
   ]
  },
  {
   "cell_type": "markdown",
   "metadata": {
    "colab_type": "text",
    "id": "N_2dOUyo3VOS"
   },
   "source": [
    "# soft_voting"
   ]
  },
  {
   "cell_type": "code",
   "execution_count": 28,
   "metadata": {
    "ExecuteTime": {
     "end_time": "2020-03-31T21:23:03.150504Z",
     "start_time": "2020-03-31T21:23:03.124573Z"
    },
    "colab": {},
    "colab_type": "code",
    "id": "3mIjvEWx3VOS"
   },
   "outputs": [],
   "source": [
    "class soft_voting:\n",
    "    def __init__(self,model_dict,X_dict,Y_dict):\n",
    "        self.model_dict=model_dict\n",
    "        self.X_dict=X_dict\n",
    "        self.Y_dict=Y_dict\n",
    "    def train(self):\n",
    "        for key in self.model_dict:\n",
    "            self.model_dict[key].fit(self.X_dict[key],Y_dict[key])\n",
    "            y_=self.model_dict[key].predict(self.X_dict[key])\n",
    "            tn, fp, fn, tp = confusion_matrix(Y_dict[key],y_).ravel()\n",
    "            \n",
    "            print(\"in sample for model: {}; fpr={}, tpr={}\".format(key,fp/(fp+tn),tp/(tp+fn)))\n",
    "            \n",
    "    def predict_proba(self,X_dict,weight,seperate=\"Tree\"):\n",
    "        non_tree=np.sum([weight[key] for key in weight if \"tree\" not in key])\n",
    "        tree=np.sum([weight[key] for key in weight if \"tree\" in key])\n",
    "        scaler=tree/(non_tree+1e-11)\n",
    "        if seperate=='Tree':\n",
    "            for key in X_dict:\n",
    "                frame=np.zeros(shape=(X_dict[key].shape[0],2))\n",
    "#                 print(key)\n",
    "                if \"tree\" not in key:\n",
    "                    frame=frame+self.model_dict[key].predict_proba(X_dict[key])*scaler\n",
    "                else:\n",
    "                    frame=frame+self.model_dict[key].predict_proba(X_dict[key])\n",
    "        else:\n",
    "            for key in X_dict:\n",
    "                frame=np.zeros(shape=(X_dict[key].shape[0],2))\n",
    "                frame=frame+self.model_dict[key].predict_proba(X_dict[key])\n",
    "        return frame\n",
    "    def predict(self,X_dict,weight,seperate=\"Tree\"):\n",
    "        return np.argmax(self.predict_proba(X_dict,weight,seperate),axis=1)\n",
    "    \n",
    "    \n",
    "    def compare(self,X_dict,Y_dict):\n",
    "        for key in self.model_dict:\n",
    "            y_=self.model_dict[key].predict(X_dict[key])\n",
    "            tn, fp, fn, tp = confusion_matrix(Y_dict[key],y_).ravel()\n",
    "            print(\"in sample for model: {}; fpr={}, tpr={}, acc={}\".format(key,fp/(fp+tn),tp/(tp+fn),np.mean(Y_dict[key]==y_)))\n",
    "            y_proba=self.model_dict[key].predict_proba(X_dict[key])\n",
    "            _,ks=get_KS(y_proba[:,1],Y_dict[key])\n",
    "            print(\"ks for\"+key+\"is :\"+str(ks))        "
   ]
  },
  {
   "cell_type": "code",
   "execution_count": 29,
   "metadata": {
    "ExecuteTime": {
     "end_time": "2020-03-31T21:23:03.156488Z",
     "start_time": "2020-03-31T21:23:03.152498Z"
    },
    "colab": {},
    "colab_type": "code",
    "id": "wUyJPxot3VOU"
   },
   "outputs": [],
   "source": [
    "final_model=soft_voting(model_dict,X_dict,Y_dict)"
   ]
  },
  {
   "cell_type": "code",
   "execution_count": 30,
   "metadata": {
    "ExecuteTime": {
     "end_time": "2020-03-31T21:23:07.660275Z",
     "start_time": "2020-03-31T21:23:03.158483Z"
    },
    "colab": {
     "base_uri": "https://localhost:8080/",
     "height": 85
    },
    "colab_type": "code",
    "executionInfo": {
     "elapsed": 176163,
     "status": "ok",
     "timestamp": 1582643124277,
     "user": {
      "displayName": "Hanyu Wu",
      "photoUrl": "",
      "userId": "05588030028148674891"
     },
     "user_tz": 300
    },
    "id": "BJKKl10G3VOW",
    "outputId": "cb7e5090-3f85-4d34-bd55-8e1b93d03ef9"
   },
   "outputs": [
    {
     "name": "stdout",
     "output_type": "stream",
     "text": [
      "in sample for model: LDA; fpr=0.2632386799693016, tpr=0.7777777777777778\n",
      "in sample for model: QDA; fpr=0.0, tpr=1.0\n",
      "in sample for model: tree_random_forest; fpr=0.0, tpr=0.9888888888888889\n",
      "in sample for model: tree_XGBOOST; fpr=0.03837298541826554, tpr=0.9555555555555556\n"
     ]
    }
   ],
   "source": [
    "final_model.train()"
   ]
  },
  {
   "cell_type": "code",
   "execution_count": 31,
   "metadata": {
    "ExecuteTime": {
     "end_time": "2020-03-31T21:23:07.665261Z",
     "start_time": "2020-03-31T21:23:07.662270Z"
    },
    "colab": {},
    "colab_type": "code",
    "id": "DrszdZIy3VOZ"
   },
   "outputs": [],
   "source": [
    "# X_test_2019,Y_test_2019=X_test_2019[:2000],Y_test_2019[:2000]\n",
    "# X_test_2019_non,Y_test_2019_non=X_test_2019_non[:2000],Y_test_2019_non[:2000]"
   ]
  },
  {
   "cell_type": "code",
   "execution_count": 32,
   "metadata": {
    "ExecuteTime": {
     "end_time": "2020-03-31T21:23:07.672243Z",
     "start_time": "2020-03-31T21:23:07.666259Z"
    },
    "colab": {},
    "colab_type": "code",
    "id": "K9gF4PhK3VOb"
   },
   "outputs": [],
   "source": [
    "Y_test_data={}\n",
    "X_test_data={}\n",
    "for i in X_dict:\n",
    "    if \"tree\" in i:\n",
    "        Y_test_data[i]=Y_test_2019\n",
    "        X_test_data[i]=X_test_2019\n",
    "    else:\n",
    "        Y_test_data[i]=Y_test_2019\n",
    "        X_test_data[i]=X_test_2019"
   ]
  },
  {
   "cell_type": "markdown",
   "metadata": {
    "colab_type": "text",
    "id": "crxwQeQN3VOd"
   },
   "source": [
    "# with the model trained before, lets select"
   ]
  },
  {
   "cell_type": "markdown",
   "metadata": {
    "colab_type": "text",
    "id": "t4Rhqkh_3VOe"
   },
   "source": [
    "## First lets see in-sample metrcs"
   ]
  },
  {
   "cell_type": "markdown",
   "metadata": {
    "colab_type": "text",
    "id": "HQfaobUj3VOe"
   },
   "source": [
    "### imbalance weight：tree=50%, linear=50%"
   ]
  },
  {
   "cell_type": "code",
   "execution_count": 33,
   "metadata": {
    "ExecuteTime": {
     "end_time": "2020-03-31T21:23:07.926563Z",
     "start_time": "2020-03-31T21:23:07.674238Z"
    },
    "colab": {
     "base_uri": "https://localhost:8080/",
     "height": 54
    },
    "colab_type": "code",
    "executionInfo": {
     "elapsed": 176263,
     "status": "ok",
     "timestamp": 1582643124398,
     "user": {
      "displayName": "Hanyu Wu",
      "photoUrl": "",
      "userId": "05588030028148674891"
     },
     "user_tz": 300
    },
    "id": "u2AbHbG03VOf",
    "outputId": "fd426f42-a44e-49a2-bce0-07e9d3e3a6d1"
   },
   "outputs": [
    {
     "name": "stdout",
     "output_type": "stream",
     "text": [
      "in sample for model: voting; fpr=0.03518518518518519, tpr=0.9883720930232558, acc=0.9655419956927495\n"
     ]
    }
   ],
   "source": [
    "proba=final_model.predict_proba(X_dict,weight=model_ks)\n",
    "predict=final_model.predict(X_dict,weight=model_ks)\n",
    "tn, fp, fn, tp = confusion_matrix(predict,Y).ravel()\n",
    "print(\"in sample for model: {}; fpr={}, tpr={}, acc={}\".format(\"voting\",fp/(fp+tn),tp/(tp+fn),np.mean(predict==Y)))"
   ]
  },
  {
   "cell_type": "code",
   "execution_count": 34,
   "metadata": {
    "ExecuteTime": {
     "end_time": "2020-03-31T21:23:07.935540Z",
     "start_time": "2020-03-31T21:23:07.928558Z"
    },
    "colab": {
     "base_uri": "https://localhost:8080/",
     "height": 71
    },
    "colab_type": "code",
    "executionInfo": {
     "elapsed": 176259,
     "status": "ok",
     "timestamp": 1582643124399,
     "user": {
      "displayName": "Hanyu Wu",
      "photoUrl": "",
      "userId": "05588030028148674891"
     },
     "user_tz": 300
    },
    "id": "ql9MCQJC3VOh",
    "outputId": "485b33d0-9f17-4291-db64-f17c62b6cdb3"
   },
   "outputs": [
    {
     "data": {
      "text/plain": [
       "array([0.19244359, 0.24120206, 0.19441538, ..., 0.22799245, 0.20492069,\n",
       "       0.19328833])"
      ]
     },
     "execution_count": 34,
     "metadata": {},
     "output_type": "execute_result"
    }
   ],
   "source": [
    "proba[:,1]"
   ]
  },
  {
   "cell_type": "code",
   "execution_count": 35,
   "metadata": {
    "ExecuteTime": {
     "end_time": "2020-03-31T21:23:07.944516Z",
     "start_time": "2020-03-31T21:23:07.937534Z"
    },
    "colab": {
     "base_uri": "https://localhost:8080/",
     "height": 54
    },
    "colab_type": "code",
    "executionInfo": {
     "elapsed": 176253,
     "status": "ok",
     "timestamp": 1582643124399,
     "user": {
      "displayName": "Hanyu Wu",
      "photoUrl": "",
      "userId": "05588030028148674891"
     },
     "user_tz": 300
    },
    "id": "JTEXp6HD3VOj",
    "outputId": "01a7e489-b5c2-451f-a12b-7f1a230a3c8f"
   },
   "outputs": [
    {
     "data": {
      "text/plain": [
       "(0.27197638154029846, 0.9171825701372901)"
      ]
     },
     "execution_count": 35,
     "metadata": {},
     "output_type": "execute_result"
    }
   ],
   "source": [
    "get_KS(proba[:,1],Y)"
   ]
  },
  {
   "cell_type": "markdown",
   "metadata": {
    "colab_type": "text",
    "id": "A0LOQVbN3VOl"
   },
   "source": [
    "### balance weight"
   ]
  },
  {
   "cell_type": "code",
   "execution_count": 36,
   "metadata": {
    "ExecuteTime": {
     "end_time": "2020-03-31T21:23:08.198835Z",
     "start_time": "2020-03-31T21:23:07.946510Z"
    },
    "colab": {
     "base_uri": "https://localhost:8080/",
     "height": 54
    },
    "colab_type": "code",
    "executionInfo": {
     "elapsed": 176695,
     "status": "ok",
     "timestamp": 1582643124849,
     "user": {
      "displayName": "Hanyu Wu",
      "photoUrl": "",
      "userId": "05588030028148674891"
     },
     "user_tz": 300
    },
    "id": "NgioQqux3VOm",
    "outputId": "d92d15ae-6779-4587-bc1f-91a50d696534"
   },
   "outputs": [
    {
     "name": "stdout",
     "output_type": "stream",
     "text": [
      "in sample for model: voting; fpr=0.03518518518518519, tpr=0.9883720930232558, acc=0.9655419956927495\n"
     ]
    }
   ],
   "source": [
    "proba = final_model.predict_proba(X_dict, weight=model_ks, seperate=\"None\")\n",
    "predict = final_model.predict(X_dict, weight=model_ks, seperate=\"None\")\n",
    "tn, fp, fn, tp = confusion_matrix(predict, Y).ravel()\n",
    "print(\"in sample for model: {}; fpr={}, tpr={}, acc={}\".format(\n",
    "    \"voting\", fp/(fp+tn), tp/(tp+fn), np.mean(predict == Y)))"
   ]
  },
  {
   "cell_type": "code",
   "execution_count": 37,
   "metadata": {
    "ExecuteTime": {
     "end_time": "2020-03-31T21:23:08.206814Z",
     "start_time": "2020-03-31T21:23:08.199833Z"
    },
    "colab": {
     "base_uri": "https://localhost:8080/",
     "height": 54
    },
    "colab_type": "code",
    "executionInfo": {
     "elapsed": 176690,
     "status": "ok",
     "timestamp": 1582643124850,
     "user": {
      "displayName": "Hanyu Wu",
      "photoUrl": "",
      "userId": "05588030028148674891"
     },
     "user_tz": 300
    },
    "id": "Fcx7BS-93VOp",
    "outputId": "5d2df000-8757-406a-fbd5-28b8c9bd284f"
   },
   "outputs": [
    {
     "data": {
      "text/plain": [
       "(0.27197638154029846, 0.9171825701372901)"
      ]
     },
     "execution_count": 37,
     "metadata": {},
     "output_type": "execute_result"
    }
   ],
   "source": [
    "get_KS(proba[:,1],Y)"
   ]
  },
  {
   "cell_type": "markdown",
   "metadata": {
    "colab_type": "text",
    "id": "zRTJ6paL3VOs"
   },
   "source": [
    "### compare"
   ]
  },
  {
   "cell_type": "code",
   "execution_count": 38,
   "metadata": {
    "ExecuteTime": {
     "end_time": "2020-03-31T21:23:08.475097Z",
     "start_time": "2020-03-31T21:23:08.208808Z"
    },
    "colab": {
     "base_uri": "https://localhost:8080/",
     "height": 173
    },
    "colab_type": "code",
    "executionInfo": {
     "elapsed": 177108,
     "status": "ok",
     "timestamp": 1582643125274,
     "user": {
      "displayName": "Hanyu Wu",
      "photoUrl": "",
      "userId": "05588030028148674891"
     },
     "user_tz": 300
    },
    "id": "S9a57dFK3VOs",
    "outputId": "653e3c7c-9e68-40f9-e5c9-e13c42ecbc68"
   },
   "outputs": [
    {
     "name": "stdout",
     "output_type": "stream",
     "text": [
      "in sample for model: LDA; fpr=0.2632386799693016, tpr=0.7777777777777778, acc=0.7394113424264178\n",
      "ks forLDAis :0.5145390978084762\n",
      "in sample for model: QDA; fpr=0.0, tpr=1.0, acc=1.0\n",
      "ks forQDAis :1.0\n",
      "in sample for model: tree_random_forest; fpr=0.0, tpr=0.9888888888888889, acc=0.9992821249102656\n",
      "ks fortree_random_forestis :1.0\n",
      "in sample for model: tree_XGBOOST; fpr=0.03837298541826554, tpr=0.9555555555555556, acc=0.9612347451543432\n",
      "ks fortree_XGBOOSTis :0.9171825701372901\n"
     ]
    }
   ],
   "source": [
    "final_model.compare(X_dict,Y_dict)"
   ]
  },
  {
   "cell_type": "markdown",
   "metadata": {
    "colab_type": "text",
    "id": "q8dtmo5y3VOu"
   },
   "source": [
    "## the test dataset metrics"
   ]
  },
  {
   "cell_type": "markdown",
   "metadata": {
    "colab_type": "text",
    "id": "_qwdX_P93VOv"
   },
   "source": [
    "### imbalance"
   ]
  },
  {
   "cell_type": "code",
   "execution_count": 39,
   "metadata": {
    "ExecuteTime": {
     "end_time": "2020-03-31T21:23:08.604750Z",
     "start_time": "2020-03-31T21:23:08.476094Z"
    },
    "colab": {
     "base_uri": "https://localhost:8080/",
     "height": 54
    },
    "colab_type": "code",
    "executionInfo": {
     "elapsed": 177246,
     "status": "ok",
     "timestamp": 1582643125417,
     "user": {
      "displayName": "Hanyu Wu",
      "photoUrl": "",
      "userId": "05588030028148674891"
     },
     "user_tz": 300
    },
    "id": "Y963sycp3VOw",
    "outputId": "b5dbdc28-0599-488a-f1f2-a0c676d451f9"
   },
   "outputs": [
    {
     "name": "stdout",
     "output_type": "stream",
     "text": [
      "out sample for model: voting; fpr=0.07883369330453564, tpr=0.3333333333333333, acc=0.9192680301399354\n"
     ]
    }
   ],
   "source": [
    "proba=final_model.predict_proba(X_test_data,weight=model_ks)\n",
    "predict=final_model.predict(X_test_data,weight=model_ks)\n",
    "tn, fp, fn, tp = confusion_matrix(predict,Y_test_2019).ravel()\n",
    "print(\"out sample for model: {}; fpr={}, tpr={}, acc={}\".format(\"voting\",fp/(fp+tn),tp/(tp+fn),np.mean(predict==Y_test_2019)))"
   ]
  },
  {
   "cell_type": "code",
   "execution_count": 40,
   "metadata": {
    "ExecuteTime": {
     "end_time": "2020-03-31T21:23:08.613726Z",
     "start_time": "2020-03-31T21:23:08.605747Z"
    },
    "colab": {
     "base_uri": "https://localhost:8080/",
     "height": 54
    },
    "colab_type": "code",
    "executionInfo": {
     "elapsed": 177241,
     "status": "ok",
     "timestamp": 1582643125417,
     "user": {
      "displayName": "Hanyu Wu",
      "photoUrl": "",
      "userId": "05588030028148674891"
     },
     "user_tz": 300
    },
    "id": "5hWPJZsP3VOx",
    "outputId": "c61b1f21-218b-4f02-8acd-734f6da30551"
   },
   "outputs": [
    {
     "data": {
      "text/plain": [
       "(0.25037384033203125, 0.17253042516200412)"
      ]
     },
     "execution_count": 40,
     "metadata": {},
     "output_type": "execute_result"
    }
   ],
   "source": [
    "get_KS(proba[:,1],Y_test_2019)"
   ]
  },
  {
   "cell_type": "markdown",
   "metadata": {
    "colab_type": "text",
    "id": "UtzdWP8z3VO0"
   },
   "source": [
    "### balance"
   ]
  },
  {
   "cell_type": "code",
   "execution_count": 41,
   "metadata": {
    "ExecuteTime": {
     "end_time": "2020-03-31T21:23:08.734403Z",
     "start_time": "2020-03-31T21:23:08.615721Z"
    },
    "colab": {
     "base_uri": "https://localhost:8080/",
     "height": 54
    },
    "colab_type": "code",
    "executionInfo": {
     "elapsed": 177546,
     "status": "ok",
     "timestamp": 1582643125727,
     "user": {
      "displayName": "Hanyu Wu",
      "photoUrl": "",
      "userId": "05588030028148674891"
     },
     "user_tz": 300
    },
    "id": "SWfG_0cU3VO0",
    "outputId": "8edc657c-75f1-43a4-9d2c-f0d6df8bd7c4"
   },
   "outputs": [
    {
     "name": "stdout",
     "output_type": "stream",
     "text": [
      "out sample for model: voting; fpr=0.07883369330453564, tpr=0.3333333333333333, acc=0.9192680301399354\n"
     ]
    }
   ],
   "source": [
    "proba = final_model.predict_proba(X_test_data, weight=model_ks, seperate=\"None\")\n",
    "predict = final_model.predict(X_test_data, weight=model_ks, seperate=\"None\")\n",
    "tn, fp, fn, tp = confusion_matrix(predict, Y_test_2019).ravel()\n",
    "print(\"out sample for model: {}; fpr={}, tpr={}, acc={}\".format(\n",
    "    \"voting\", fp/(fp+tn), tp/(tp+fn), np.mean(predict == Y_test_2019)))"
   ]
  },
  {
   "cell_type": "code",
   "execution_count": 42,
   "metadata": {
    "ExecuteTime": {
     "end_time": "2020-03-31T21:23:08.743380Z",
     "start_time": "2020-03-31T21:23:08.736398Z"
    },
    "colab": {
     "base_uri": "https://localhost:8080/",
     "height": 54
    },
    "colab_type": "code",
    "executionInfo": {
     "elapsed": 177542,
     "status": "ok",
     "timestamp": 1582643125728,
     "user": {
      "displayName": "Hanyu Wu",
      "photoUrl": "",
      "userId": "05588030028148674891"
     },
     "user_tz": 300
    },
    "id": "XNP5N0NX3VO2",
    "outputId": "27f781a2-b0bb-470f-e35f-d2f180895a9b"
   },
   "outputs": [
    {
     "data": {
      "text/plain": [
       "(0.25037384033203125, 0.17253042516200412)"
      ]
     },
     "execution_count": 42,
     "metadata": {},
     "output_type": "execute_result"
    }
   ],
   "source": [
    "get_KS(proba[:,1],Y_test_2019)"
   ]
  },
  {
   "cell_type": "markdown",
   "metadata": {
    "colab_type": "text",
    "id": "hCRPpRCv3VO4"
   },
   "source": [
    "### compare"
   ]
  },
  {
   "cell_type": "code",
   "execution_count": 43,
   "metadata": {
    "ExecuteTime": {
     "end_time": "2020-03-31T21:23:08.873033Z",
     "start_time": "2020-03-31T21:23:08.745374Z"
    },
    "colab": {
     "base_uri": "https://localhost:8080/",
     "height": 173
    },
    "colab_type": "code",
    "executionInfo": {
     "elapsed": 177789,
     "status": "ok",
     "timestamp": 1582643125979,
     "user": {
      "displayName": "Hanyu Wu",
      "photoUrl": "",
      "userId": "05588030028148674891"
     },
     "user_tz": 300
    },
    "id": "hT9roCAO3VO4",
    "outputId": "611f14e7-ab90-4866-d0c0-5b33ce4762ec"
   },
   "outputs": [
    {
     "name": "stdout",
     "output_type": "stream",
     "text": [
      "in sample for model: LDA; fpr=0.3146198830409357, tpr=0.32432432432432434, acc=0.6566200215285253\n",
      "ks forLDAis :0.06867393709498976\n",
      "in sample for model: QDA; fpr=0.0, tpr=0.0, acc=0.9203444564047363\n",
      "ks forQDAis :0.0\n",
      "in sample for model: tree_random_forest; fpr=0.0, tpr=0.0, acc=0.9203444564047363\n",
      "ks fortree_random_forestis :0.03960802908171329\n",
      "in sample for model: tree_XGBOOST; fpr=0.1368421052631579, tpr=0.22972972972972974, acc=0.8127018299246501\n",
      "ks fortree_XGBOOSTis :0.17253042516200412\n"
     ]
    }
   ],
   "source": [
    "final_model.compare(X_test_data,Y_test_data)"
   ]
  },
  {
   "cell_type": "code",
   "execution_count": null,
   "metadata": {
    "colab": {},
    "colab_type": "code",
    "id": "zAWWDWFF3VO7"
   },
   "outputs": [],
   "source": []
  }
 ],
 "metadata": {
  "colab": {
   "collapsed_sections": [
    "b3WqAto03VN2",
    "EyVIQ-Wf3VN3",
    "RMrR2vb83VN5",
    "zUIO_UMD3VN-",
    "HYYHrHGD3VOB",
    "ybLBTPVx3VOF",
    "vtRQgAF73VOJ",
    "_TSXE7tQ3VOJ",
    "frNclZkO3VOM",
    "t4Rhqkh_3VOe",
    "HQfaobUj3VOe",
    "A0LOQVbN3VOl",
    "zRTJ6paL3VOs",
    "q8dtmo5y3VOu",
    "_qwdX_P93VOv",
    "UtzdWP8z3VO0",
    "hCRPpRCv3VO4"
   ],
   "name": "2.Other_simple_models.ipynb",
   "provenance": []
  },
  "kernelspec": {
   "display_name": "Python 3",
   "language": "python",
   "name": "python3"
  },
  "language_info": {
   "codemirror_mode": {
    "name": "ipython",
    "version": 3
   },
   "file_extension": ".py",
   "mimetype": "text/x-python",
   "name": "python",
   "nbconvert_exporter": "python",
   "pygments_lexer": "ipython3",
   "version": "3.7.7"
  },
  "toc": {
   "base_numbering": 1,
   "nav_menu": {},
   "number_sections": true,
   "sideBar": true,
   "skip_h1_title": false,
   "title_cell": "Table of Contents",
   "title_sidebar": "Contents",
   "toc_cell": false,
   "toc_position": {},
   "toc_section_display": true,
   "toc_window_display": false
  },
  "varInspector": {
   "cols": {
    "lenName": 16,
    "lenType": 16,
    "lenVar": 40
   },
   "kernels_config": {
    "python": {
     "delete_cmd_postfix": "",
     "delete_cmd_prefix": "del ",
     "library": "var_list.py",
     "varRefreshCmd": "print(var_dic_list())"
    },
    "r": {
     "delete_cmd_postfix": ") ",
     "delete_cmd_prefix": "rm(",
     "library": "var_list.r",
     "varRefreshCmd": "cat(var_dic_list()) "
    }
   },
   "types_to_exclude": [
    "module",
    "function",
    "builtin_function_or_method",
    "instance",
    "_Feature"
   ],
   "window_display": false
  }
 },
 "nbformat": 4,
 "nbformat_minor": 1
}
