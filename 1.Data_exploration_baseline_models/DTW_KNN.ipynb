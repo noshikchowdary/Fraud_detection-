{
 "cells": [
  {
   "cell_type": "code",
   "execution_count": 1,
   "metadata": {
    "ExecuteTime": {
     "end_time": "2020-03-31T21:53:12.005756Z",
     "start_time": "2020-03-31T21:53:11.282690Z"
    },
    "colab": {},
    "colab_type": "code",
    "id": "crL6M_cU4iHQ"
   },
   "outputs": [],
   "source": [
    "from datetime import datetime\n",
    "import numpy as np\n",
    "import pandas as pd\n",
    "from tqdm import tqdm\n",
    "import json\n",
    "from sklearn.preprocessing import LabelEncoder"
   ]
  },
  {
   "cell_type": "code",
   "execution_count": 2,
   "metadata": {
    "ExecuteTime": {
     "end_time": "2020-03-31T21:53:12.010744Z",
     "start_time": "2020-03-31T21:53:12.006753Z"
    }
   },
   "outputs": [],
   "source": [
    "data_dir = '../../data/processed/'"
   ]
  },
  {
   "cell_type": "markdown",
   "metadata": {
    "colab_type": "text",
    "id": "hAUSoQ-L4iHg"
   },
   "source": [
    "## data loading for sequential embedding"
   ]
  },
  {
   "cell_type": "code",
   "execution_count": 3,
   "metadata": {
    "ExecuteTime": {
     "end_time": "2020-03-31T21:53:12.416691Z",
     "start_time": "2020-03-31T21:53:12.012748Z"
    },
    "colab": {
     "base_uri": "https://localhost:8080/",
     "height": 51
    },
    "colab_type": "code",
    "executionInfo": {
     "elapsed": 3801,
     "status": "ok",
     "timestamp": 1582559566655,
     "user": {
      "displayName": "Hanyu Wu",
      "photoUrl": "",
      "userId": "05588030028148674891"
     },
     "user_tz": 300
    },
    "id": "2tWqr9584iHl",
    "outputId": "a21c730c-dd98-4049-863e-6e253247294a"
   },
   "outputs": [
    {
     "name": "stdout",
     "output_type": "stream",
     "text": [
      "Wall time: 397 ms\n"
     ]
    }
   ],
   "source": [
    "%%time\n",
    "sequential_data = []\n",
    "\n",
    "line_number = 0\n",
    "max_lines = 5000\n",
    "\n",
    "with open('../../data/raw/data_train.json', 'r') as f:\n",
    "    for line in f:\n",
    "        line_number += 1\n",
    "        if line_number > max_lines:\n",
    "            break\n",
    "        sequential_data.append(json.loads(line))"
   ]
  },
  {
   "cell_type": "markdown",
   "metadata": {
    "colab_type": "text",
    "id": "3X-8mjPC4iHz"
   },
   "source": [
    "- the unique key for each sample is the combination of userid and application time\n",
    "- applicants might apply more than one time (same userid, differenty application time)"
   ]
  },
  {
   "cell_type": "code",
   "execution_count": 4,
   "metadata": {
    "ExecuteTime": {
     "end_time": "2020-03-31T21:53:12.464555Z",
     "start_time": "2020-03-31T21:53:12.417655Z"
    },
    "colab": {
     "base_uri": "https://localhost:8080/",
     "height": 51
    },
    "colab_type": "code",
    "executionInfo": {
     "elapsed": 3790,
     "status": "ok",
     "timestamp": 1582559566655,
     "user": {
      "displayName": "Hanyu Wu",
      "photoUrl": "",
      "userId": "05588030028148674891"
     },
     "user_tz": 300
    },
    "id": "IhrPUB3k4iH4",
    "outputId": "7a29ce7f-7f29-4db2-a1fe-3ec1c8a63001"
   },
   "outputs": [
    {
     "name": "stdout",
     "output_type": "stream",
     "text": [
      "Wall time: 41.9 ms\n"
     ]
    }
   ],
   "source": [
    "%%time\n",
    "sequential_driver = {} \n",
    "\n",
    "sequential_behavior = {}\n",
    "\n",
    "for item in sequential_data:   \n",
    "    user_id = item[0]\n",
    "    application_time = int(item[1]['order_info']['order_time'])\n",
    "    sequential_driver.update({f\"{user_id}|{application_time}\" : item[1]['order_info']})\n",
    "    sub_data = [x for x in item[1]['data'] if x['petime']<=application_time-100]\n",
    "    # we only keep data occurs before application time. \"-100\" is not neccessary for offline data cleaning.\n",
    "    ## but sometimes we use this trick for online calculation to avoid network slowdown \n",
    "    sequential_behavior.update({f\"{user_id}|{application_time}\":sub_data})"
   ]
  },
  {
   "cell_type": "markdown",
   "metadata": {
    "colab_type": "text",
    "id": "MsR2jiDU4iIA"
   },
   "source": [
    "### driver understanding"
   ]
  },
  {
   "cell_type": "code",
   "execution_count": 5,
   "metadata": {
    "ExecuteTime": {
     "end_time": "2020-03-31T21:53:12.748769Z",
     "start_time": "2020-03-31T21:53:12.465527Z"
    },
    "colab": {},
    "colab_type": "code",
    "id": "gCTbkZXd4iID"
   },
   "outputs": [],
   "source": [
    "driver = pd.DataFrame(sequential_driver).T.reset_index()\n",
    "driver['user_id'] = driver['index'].apply(lambda x : x.split('|')[0])\n",
    "driver['application_time'] = driver['index'].apply(lambda x : x.split('|')[1])"
   ]
  },
  {
   "cell_type": "code",
   "execution_count": 6,
   "metadata": {
    "ExecuteTime": {
     "end_time": "2020-03-31T21:53:12.758748Z",
     "start_time": "2020-03-31T21:53:12.749766Z"
    },
    "colab": {
     "base_uri": "https://localhost:8080/",
     "height": 68
    },
    "colab_type": "code",
    "executionInfo": {
     "elapsed": 4029,
     "status": "ok",
     "timestamp": 1582559566918,
     "user": {
      "displayName": "Hanyu Wu",
      "photoUrl": "",
      "userId": "05588030028148674891"
     },
     "user_tz": 300
    },
    "id": "GY7mtXLm4iIK",
    "outputId": "1451a74e-f22c-449c-cfef-7f43664291cb",
    "scrolled": true
   },
   "outputs": [
    {
     "data": {
      "text/plain": [
       "0.0    3027\n",
       "1.0    1973\n",
       "Name: new_client, dtype: int64"
      ]
     },
     "execution_count": 6,
     "metadata": {},
     "output_type": "execute_result"
    }
   ],
   "source": [
    "driver['new_client'].value_counts()\n",
    "\n",
    "# we normally separate new client (0) and old client (1) because they have different data pattern and data density"
   ]
  },
  {
   "cell_type": "code",
   "execution_count": 7,
   "metadata": {
    "ExecuteTime": {
     "end_time": "2020-03-31T21:53:12.796671Z",
     "start_time": "2020-03-31T21:53:12.761736Z"
    },
    "colab": {},
    "colab_type": "code",
    "id": "HzEi3zl94iIP"
   },
   "outputs": [],
   "source": [
    "# converting unix time to real time\n",
    "driver['application_date'] = pd.to_datetime(driver['order_time'],unit='ms')"
   ]
  },
  {
   "cell_type": "code",
   "execution_count": 8,
   "metadata": {
    "ExecuteTime": {
     "end_time": "2020-03-31T21:53:12.811602Z",
     "start_time": "2020-03-31T21:53:12.797654Z"
    },
    "colab": {
     "base_uri": "https://localhost:8080/",
     "height": 224
    },
    "colab_type": "code",
    "executionInfo": {
     "elapsed": 4456,
     "status": "ok",
     "timestamp": 1582559567369,
     "user": {
      "displayName": "Hanyu Wu",
      "photoUrl": "",
      "userId": "05588030028148674891"
     },
     "user_tz": 300
    },
    "id": "jna2Ka7T4iIS",
    "outputId": "29495299-8376-461c-a528-754a9d9c6175"
   },
   "outputs": [
    {
     "data": {
      "text/html": [
       "<div>\n",
       "<style scoped>\n",
       "    .dataframe tbody tr th:only-of-type {\n",
       "        vertical-align: middle;\n",
       "    }\n",
       "\n",
       "    .dataframe tbody tr th {\n",
       "        vertical-align: top;\n",
       "    }\n",
       "\n",
       "    .dataframe thead th {\n",
       "        text-align: right;\n",
       "    }\n",
       "</style>\n",
       "<table border=\"1\" class=\"dataframe\">\n",
       "  <thead>\n",
       "    <tr style=\"text-align: right;\">\n",
       "      <th></th>\n",
       "      <th>index</th>\n",
       "      <th>overdue</th>\n",
       "      <th>new_client</th>\n",
       "      <th>order_time</th>\n",
       "      <th>label</th>\n",
       "      <th>user_id</th>\n",
       "      <th>application_time</th>\n",
       "      <th>application_date</th>\n",
       "    </tr>\n",
       "  </thead>\n",
       "  <tbody>\n",
       "    <tr>\n",
       "      <th>0</th>\n",
       "      <td>56f889ee11df4a72955147cb2f29a638|1509322980000</td>\n",
       "      <td>0.0</td>\n",
       "      <td>0.0</td>\n",
       "      <td>1.509323e+12</td>\n",
       "      <td>0.0</td>\n",
       "      <td>56f889ee11df4a72955147cb2f29a638</td>\n",
       "      <td>1509322980000</td>\n",
       "      <td>2017-10-30 00:23:00</td>\n",
       "    </tr>\n",
       "    <tr>\n",
       "      <th>1</th>\n",
       "      <td>82ba63c78d5543b7b2fd1b44412ea954|1507609140000</td>\n",
       "      <td>1.0</td>\n",
       "      <td>0.0</td>\n",
       "      <td>1.507609e+12</td>\n",
       "      <td>0.0</td>\n",
       "      <td>82ba63c78d5543b7b2fd1b44412ea954</td>\n",
       "      <td>1507609140000</td>\n",
       "      <td>2017-10-10 04:19:00</td>\n",
       "    </tr>\n",
       "    <tr>\n",
       "      <th>2</th>\n",
       "      <td>d84540c274cc43b894997f633fcf47b9|1509373080000</td>\n",
       "      <td>1.0</td>\n",
       "      <td>0.0</td>\n",
       "      <td>1.509373e+12</td>\n",
       "      <td>0.0</td>\n",
       "      <td>d84540c274cc43b894997f633fcf47b9</td>\n",
       "      <td>1509373080000</td>\n",
       "      <td>2017-10-30 14:18:00</td>\n",
       "    </tr>\n",
       "    <tr>\n",
       "      <th>3</th>\n",
       "      <td>b8206ff0ea1f4cf4abda18d0e0145497|1507529520000</td>\n",
       "      <td>0.0</td>\n",
       "      <td>1.0</td>\n",
       "      <td>1.507530e+12</td>\n",
       "      <td>0.0</td>\n",
       "      <td>b8206ff0ea1f4cf4abda18d0e0145497</td>\n",
       "      <td>1507529520000</td>\n",
       "      <td>2017-10-09 06:12:00</td>\n",
       "    </tr>\n",
       "    <tr>\n",
       "      <th>4</th>\n",
       "      <td>6e5f6b151edd4d40b51ca3b75e392f8d|1506805920000</td>\n",
       "      <td>0.0</td>\n",
       "      <td>1.0</td>\n",
       "      <td>1.506806e+12</td>\n",
       "      <td>0.0</td>\n",
       "      <td>6e5f6b151edd4d40b51ca3b75e392f8d</td>\n",
       "      <td>1506805920000</td>\n",
       "      <td>2017-09-30 21:12:00</td>\n",
       "    </tr>\n",
       "  </tbody>\n",
       "</table>\n",
       "</div>"
      ],
      "text/plain": [
       "                                            index  overdue  new_client  \\\n",
       "0  56f889ee11df4a72955147cb2f29a638|1509322980000      0.0         0.0   \n",
       "1  82ba63c78d5543b7b2fd1b44412ea954|1507609140000      1.0         0.0   \n",
       "2  d84540c274cc43b894997f633fcf47b9|1509373080000      1.0         0.0   \n",
       "3  b8206ff0ea1f4cf4abda18d0e0145497|1507529520000      0.0         1.0   \n",
       "4  6e5f6b151edd4d40b51ca3b75e392f8d|1506805920000      0.0         1.0   \n",
       "\n",
       "     order_time  label                           user_id application_time  \\\n",
       "0  1.509323e+12    0.0  56f889ee11df4a72955147cb2f29a638    1509322980000   \n",
       "1  1.507609e+12    0.0  82ba63c78d5543b7b2fd1b44412ea954    1507609140000   \n",
       "2  1.509373e+12    0.0  d84540c274cc43b894997f633fcf47b9    1509373080000   \n",
       "3  1.507530e+12    0.0  b8206ff0ea1f4cf4abda18d0e0145497    1507529520000   \n",
       "4  1.506806e+12    0.0  6e5f6b151edd4d40b51ca3b75e392f8d    1506805920000   \n",
       "\n",
       "     application_date  \n",
       "0 2017-10-30 00:23:00  \n",
       "1 2017-10-10 04:19:00  \n",
       "2 2017-10-30 14:18:00  \n",
       "3 2017-10-09 06:12:00  \n",
       "4 2017-09-30 21:12:00  "
      ]
     },
     "execution_count": 8,
     "metadata": {},
     "output_type": "execute_result"
    }
   ],
   "source": [
    "driver.head()"
   ]
  },
  {
   "cell_type": "code",
   "execution_count": 9,
   "metadata": {
    "ExecuteTime": {
     "end_time": "2020-03-31T21:53:12.816622Z",
     "start_time": "2020-03-31T21:53:12.812598Z"
    },
    "colab": {},
    "colab_type": "code",
    "id": "DeLjmxKb4iIW"
   },
   "outputs": [],
   "source": [
    "a=sequential_behavior[\"b8206ff0ea1f4cf4abda18d0e0145497|1507529520000\"]"
   ]
  },
  {
   "cell_type": "code",
   "execution_count": 10,
   "metadata": {
    "ExecuteTime": {
     "end_time": "2020-03-31T21:53:12.824569Z",
     "start_time": "2020-03-31T21:53:12.818583Z"
    },
    "colab": {
     "base_uri": "https://localhost:8080/",
     "height": 68
    },
    "colab_type": "code",
    "executionInfo": {
     "elapsed": 4433,
     "status": "ok",
     "timestamp": 1582559567370,
     "user": {
      "displayName": "Hanyu Wu",
      "photoUrl": "",
      "userId": "05588030028148674891"
     },
     "user_tz": 300
    },
    "id": "rX9ThkAa4iIZ",
    "outputId": "79d449fd-8462-4403-a138-341978412cde"
   },
   "outputs": [
    {
     "data": {
      "text/plain": [
       "0.0    4609\n",
       "1.0     391\n",
       "Name: label, dtype: int64"
      ]
     },
     "execution_count": 10,
     "metadata": {},
     "output_type": "execute_result"
    }
   ],
   "source": [
    "driver['label'].value_counts()"
   ]
  },
  {
   "cell_type": "code",
   "execution_count": 11,
   "metadata": {
    "ExecuteTime": {
     "end_time": "2020-03-31T21:53:12.844542Z",
     "start_time": "2020-03-31T21:53:12.825565Z"
    },
    "colab": {
     "base_uri": "https://localhost:8080/",
     "height": 142
    },
    "colab_type": "code",
    "executionInfo": {
     "elapsed": 4421,
     "status": "ok",
     "timestamp": 1582559567370,
     "user": {
      "displayName": "Hanyu Wu",
      "photoUrl": "",
      "userId": "05588030028148674891"
     },
     "user_tz": 300
    },
    "id": "7wVq2t5d4iIc",
    "outputId": "ec2782bc-4da1-43b3-9a9e-2ff98d2a8c0d"
   },
   "outputs": [
    {
     "data": {
      "text/html": [
       "<div>\n",
       "<style scoped>\n",
       "    .dataframe tbody tr th:only-of-type {\n",
       "        vertical-align: middle;\n",
       "    }\n",
       "\n",
       "    .dataframe tbody tr th {\n",
       "        vertical-align: top;\n",
       "    }\n",
       "\n",
       "    .dataframe thead th {\n",
       "        text-align: right;\n",
       "    }\n",
       "</style>\n",
       "<table border=\"1\" class=\"dataframe\">\n",
       "  <thead>\n",
       "    <tr style=\"text-align: right;\">\n",
       "      <th></th>\n",
       "      <th>count</th>\n",
       "      <th>mean</th>\n",
       "      <th>std</th>\n",
       "      <th>min</th>\n",
       "      <th>25%</th>\n",
       "      <th>50%</th>\n",
       "      <th>75%</th>\n",
       "      <th>max</th>\n",
       "    </tr>\n",
       "    <tr>\n",
       "      <th>label</th>\n",
       "      <th></th>\n",
       "      <th></th>\n",
       "      <th></th>\n",
       "      <th></th>\n",
       "      <th></th>\n",
       "      <th></th>\n",
       "      <th></th>\n",
       "      <th></th>\n",
       "    </tr>\n",
       "  </thead>\n",
       "  <tbody>\n",
       "    <tr>\n",
       "      <th>0.0</th>\n",
       "      <td>4609.0</td>\n",
       "      <td>0.305272</td>\n",
       "      <td>0.744698</td>\n",
       "      <td>0.0</td>\n",
       "      <td>0.0</td>\n",
       "      <td>0.0</td>\n",
       "      <td>0.0</td>\n",
       "      <td>5.0</td>\n",
       "    </tr>\n",
       "    <tr>\n",
       "      <th>1.0</th>\n",
       "      <td>391.0</td>\n",
       "      <td>20.992327</td>\n",
       "      <td>9.770045</td>\n",
       "      <td>6.0</td>\n",
       "      <td>12.0</td>\n",
       "      <td>20.0</td>\n",
       "      <td>29.0</td>\n",
       "      <td>38.0</td>\n",
       "    </tr>\n",
       "  </tbody>\n",
       "</table>\n",
       "</div>"
      ],
      "text/plain": [
       "        count       mean       std  min   25%   50%   75%   max\n",
       "label                                                          \n",
       "0.0    4609.0   0.305272  0.744698  0.0   0.0   0.0   0.0   5.0\n",
       "1.0     391.0  20.992327  9.770045  6.0  12.0  20.0  29.0  38.0"
      ]
     },
     "execution_count": 11,
     "metadata": {},
     "output_type": "execute_result"
    }
   ],
   "source": [
    "driver.groupby('label')['overdue'].describe()\n",
    "# we only regard sample with more than 5 overdue days as bad sample (1)"
   ]
  },
  {
   "cell_type": "code",
   "execution_count": 12,
   "metadata": {
    "ExecuteTime": {
     "end_time": "2020-03-31T21:53:12.852496Z",
     "start_time": "2020-03-31T21:53:12.845513Z"
    },
    "colab": {
     "base_uri": "https://localhost:8080/",
     "height": 34
    },
    "colab_type": "code",
    "executionInfo": {
     "elapsed": 4410,
     "status": "ok",
     "timestamp": 1582559567370,
     "user": {
      "displayName": "Hanyu Wu",
      "photoUrl": "",
      "userId": "05588030028148674891"
     },
     "user_tz": 300
    },
    "id": "-Lym-bHt4iIh",
    "outputId": "2d5fa1da-64f7-417a-b5a2-eb57bde7d363"
   },
   "outputs": [
    {
     "data": {
      "text/plain": [
       "4967"
      ]
     },
     "execution_count": 12,
     "metadata": {},
     "output_type": "execute_result"
    }
   ],
   "source": [
    "driver['user_id'].nunique()"
   ]
  },
  {
   "cell_type": "code",
   "execution_count": 13,
   "metadata": {
    "ExecuteTime": {
     "end_time": "2020-03-31T21:53:12.858476Z",
     "start_time": "2020-03-31T21:53:12.853491Z"
    },
    "colab": {
     "base_uri": "https://localhost:8080/",
     "height": 34
    },
    "colab_type": "code",
    "executionInfo": {
     "elapsed": 943,
     "status": "ok",
     "timestamp": 1582561286912,
     "user": {
      "displayName": "Hanyu Wu",
      "photoUrl": "",
      "userId": "05588030028148674891"
     },
     "user_tz": 300
    },
    "id": "V44Bsl6h4iIk",
    "outputId": "3b02c9f6-b4b0-4ca4-d421-bd5b52d2e27f"
   },
   "outputs": [
    {
     "data": {
      "text/plain": [
       "5000"
      ]
     },
     "execution_count": 13,
     "metadata": {},
     "output_type": "execute_result"
    }
   ],
   "source": [
    "driver['user_id'].size"
   ]
  },
  {
   "cell_type": "code",
   "execution_count": 14,
   "metadata": {
    "ExecuteTime": {
     "end_time": "2020-03-31T21:53:12.871442Z",
     "start_time": "2020-03-31T21:53:12.860471Z"
    },
    "colab": {
     "base_uri": "https://localhost:8080/",
     "height": 255
    },
    "colab_type": "code",
    "executionInfo": {
     "elapsed": 630,
     "status": "ok",
     "timestamp": 1582561293696,
     "user": {
      "displayName": "Hanyu Wu",
      "photoUrl": "",
      "userId": "05588030028148674891"
     },
     "user_tz": 300
    },
    "id": "omL-YrUiANaP",
    "outputId": "a7fb40f0-a947-4c48-997a-41e9f00c35dd"
   },
   "outputs": [
    {
     "data": {
      "text/html": [
       "<div>\n",
       "<style scoped>\n",
       "    .dataframe tbody tr th:only-of-type {\n",
       "        vertical-align: middle;\n",
       "    }\n",
       "\n",
       "    .dataframe tbody tr th {\n",
       "        vertical-align: top;\n",
       "    }\n",
       "\n",
       "    .dataframe thead th {\n",
       "        text-align: right;\n",
       "    }\n",
       "</style>\n",
       "<table border=\"1\" class=\"dataframe\">\n",
       "  <thead>\n",
       "    <tr style=\"text-align: right;\">\n",
       "      <th></th>\n",
       "      <th>index</th>\n",
       "      <th>overdue</th>\n",
       "      <th>new_client</th>\n",
       "      <th>order_time</th>\n",
       "      <th>label</th>\n",
       "      <th>user_id</th>\n",
       "      <th>application_time</th>\n",
       "      <th>application_date</th>\n",
       "    </tr>\n",
       "  </thead>\n",
       "  <tbody>\n",
       "    <tr>\n",
       "      <th>0</th>\n",
       "      <td>56f889ee11df4a72955147cb2f29a638|1509322980000</td>\n",
       "      <td>0.0</td>\n",
       "      <td>0.0</td>\n",
       "      <td>1.509323e+12</td>\n",
       "      <td>0.0</td>\n",
       "      <td>56f889ee11df4a72955147cb2f29a638</td>\n",
       "      <td>1509322980000</td>\n",
       "      <td>2017-10-30 00:23:00</td>\n",
       "    </tr>\n",
       "    <tr>\n",
       "      <th>1</th>\n",
       "      <td>82ba63c78d5543b7b2fd1b44412ea954|1507609140000</td>\n",
       "      <td>1.0</td>\n",
       "      <td>0.0</td>\n",
       "      <td>1.507609e+12</td>\n",
       "      <td>0.0</td>\n",
       "      <td>82ba63c78d5543b7b2fd1b44412ea954</td>\n",
       "      <td>1507609140000</td>\n",
       "      <td>2017-10-10 04:19:00</td>\n",
       "    </tr>\n",
       "    <tr>\n",
       "      <th>2</th>\n",
       "      <td>d84540c274cc43b894997f633fcf47b9|1509373080000</td>\n",
       "      <td>1.0</td>\n",
       "      <td>0.0</td>\n",
       "      <td>1.509373e+12</td>\n",
       "      <td>0.0</td>\n",
       "      <td>d84540c274cc43b894997f633fcf47b9</td>\n",
       "      <td>1509373080000</td>\n",
       "      <td>2017-10-30 14:18:00</td>\n",
       "    </tr>\n",
       "    <tr>\n",
       "      <th>3</th>\n",
       "      <td>b8206ff0ea1f4cf4abda18d0e0145497|1507529520000</td>\n",
       "      <td>0.0</td>\n",
       "      <td>1.0</td>\n",
       "      <td>1.507530e+12</td>\n",
       "      <td>0.0</td>\n",
       "      <td>b8206ff0ea1f4cf4abda18d0e0145497</td>\n",
       "      <td>1507529520000</td>\n",
       "      <td>2017-10-09 06:12:00</td>\n",
       "    </tr>\n",
       "    <tr>\n",
       "      <th>4</th>\n",
       "      <td>6e5f6b151edd4d40b51ca3b75e392f8d|1506805920000</td>\n",
       "      <td>0.0</td>\n",
       "      <td>1.0</td>\n",
       "      <td>1.506806e+12</td>\n",
       "      <td>0.0</td>\n",
       "      <td>6e5f6b151edd4d40b51ca3b75e392f8d</td>\n",
       "      <td>1506805920000</td>\n",
       "      <td>2017-09-30 21:12:00</td>\n",
       "    </tr>\n",
       "  </tbody>\n",
       "</table>\n",
       "</div>"
      ],
      "text/plain": [
       "                                            index  overdue  new_client  \\\n",
       "0  56f889ee11df4a72955147cb2f29a638|1509322980000      0.0         0.0   \n",
       "1  82ba63c78d5543b7b2fd1b44412ea954|1507609140000      1.0         0.0   \n",
       "2  d84540c274cc43b894997f633fcf47b9|1509373080000      1.0         0.0   \n",
       "3  b8206ff0ea1f4cf4abda18d0e0145497|1507529520000      0.0         1.0   \n",
       "4  6e5f6b151edd4d40b51ca3b75e392f8d|1506805920000      0.0         1.0   \n",
       "\n",
       "     order_time  label                           user_id application_time  \\\n",
       "0  1.509323e+12    0.0  56f889ee11df4a72955147cb2f29a638    1509322980000   \n",
       "1  1.507609e+12    0.0  82ba63c78d5543b7b2fd1b44412ea954    1507609140000   \n",
       "2  1.509373e+12    0.0  d84540c274cc43b894997f633fcf47b9    1509373080000   \n",
       "3  1.507530e+12    0.0  b8206ff0ea1f4cf4abda18d0e0145497    1507529520000   \n",
       "4  1.506806e+12    0.0  6e5f6b151edd4d40b51ca3b75e392f8d    1506805920000   \n",
       "\n",
       "     application_date  \n",
       "0 2017-10-30 00:23:00  \n",
       "1 2017-10-10 04:19:00  \n",
       "2 2017-10-30 14:18:00  \n",
       "3 2017-10-09 06:12:00  \n",
       "4 2017-09-30 21:12:00  "
      ]
     },
     "execution_count": 14,
     "metadata": {},
     "output_type": "execute_result"
    }
   ],
   "source": [
    "driver.head()"
   ]
  },
  {
   "cell_type": "markdown",
   "metadata": {
    "colab_type": "text",
    "id": "OrxSG7AE4iIm"
   },
   "source": [
    "### data understanding"
   ]
  },
  {
   "cell_type": "code",
   "execution_count": 15,
   "metadata": {
    "ExecuteTime": {
     "end_time": "2020-03-31T21:53:12.955259Z",
     "start_time": "2020-03-31T21:53:12.872440Z"
    },
    "colab": {
     "base_uri": "https://localhost:8080/",
     "height": 51
    },
    "colab_type": "code",
    "executionInfo": {
     "elapsed": 4736,
     "status": "ok",
     "timestamp": 1582559567721,
     "user": {
      "displayName": "Hanyu Wu",
      "photoUrl": "",
      "userId": "05588030028148674891"
     },
     "user_tz": 300
    },
    "id": "53_MjOeY4iIo",
    "outputId": "319cf0a0-5552-43b7-c01b-95f9a64be9f2"
   },
   "outputs": [
    {
     "name": "stdout",
     "output_type": "stream",
     "text": [
      "Wall time: 78.8 ms\n"
     ]
    }
   ],
   "source": [
    "%%time\n",
    "# converting data into dataframe \n",
    "## this is not neccessary during modeling phase cause we can use data_generator (presented in data usage)\n",
    "\n",
    "behavior = []\n",
    "for user_keys in sequential_behavior:    \n",
    "    user_id, application_time = user_keys.split(\"|\")\n",
    "    for item in sequential_behavior[user_keys]:    \n",
    "        subitem = item.copy()\n",
    "        subitem.update({\"user_id\":user_id, \"application_time\":application_time})\n",
    "        behavior.append(subitem)"
   ]
  },
  {
   "cell_type": "code",
   "execution_count": 16,
   "metadata": {
    "ExecuteTime": {
     "end_time": "2020-03-31T21:53:13.198596Z",
     "start_time": "2020-03-31T21:53:12.956231Z"
    },
    "colab": {},
    "colab_type": "code",
    "id": "n_xJTDFy4iIq"
   },
   "outputs": [],
   "source": [
    "behavior = pd.DataFrame(behavior)"
   ]
  },
  {
   "cell_type": "code",
   "execution_count": 17,
   "metadata": {
    "ExecuteTime": {
     "end_time": "2020-03-31T21:53:13.350163Z",
     "start_time": "2020-03-31T21:53:13.199566Z"
    },
    "colab": {},
    "colab_type": "code",
    "id": "G9Fud4vq4iIt"
   },
   "outputs": [],
   "source": [
    "behavior.to_pickle(\"x_train.pkl\")"
   ]
  },
  {
   "cell_type": "code",
   "execution_count": 18,
   "metadata": {
    "ExecuteTime": {
     "end_time": "2020-03-31T21:53:13.366121Z",
     "start_time": "2020-03-31T21:53:13.351161Z"
    },
    "colab": {
     "base_uri": "https://localhost:8080/",
     "height": 979
    },
    "colab_type": "code",
    "executionInfo": {
     "elapsed": 5461,
     "status": "ok",
     "timestamp": 1582559568482,
     "user": {
      "displayName": "Hanyu Wu",
      "photoUrl": "",
      "userId": "05588030028148674891"
     },
     "user_tz": 300
    },
    "id": "QjzI7EsS4iIv",
    "outputId": "2bfa08f0-910e-494e-c93f-106883f5dfce"
   },
   "outputs": [
    {
     "data": {
      "text/html": [
       "<div>\n",
       "<style scoped>\n",
       "    .dataframe tbody tr th:only-of-type {\n",
       "        vertical-align: middle;\n",
       "    }\n",
       "\n",
       "    .dataframe tbody tr th {\n",
       "        vertical-align: top;\n",
       "    }\n",
       "\n",
       "    .dataframe thead th {\n",
       "        text-align: right;\n",
       "    }\n",
       "</style>\n",
       "<table border=\"1\" class=\"dataframe\">\n",
       "  <thead>\n",
       "    <tr style=\"text-align: right;\">\n",
       "      <th></th>\n",
       "      <th>pname</th>\n",
       "      <th>pstime</th>\n",
       "      <th>petime</th>\n",
       "      <th>pid</th>\n",
       "      <th>sid</th>\n",
       "      <th>user_id</th>\n",
       "      <th>application_time</th>\n",
       "    </tr>\n",
       "  </thead>\n",
       "  <tbody>\n",
       "    <tr>\n",
       "      <th>40</th>\n",
       "      <td>bind_debit_card</td>\n",
       "      <td>1507192491471</td>\n",
       "      <td>1507192492080</td>\n",
       "      <td>1507192437437X6356</td>\n",
       "      <td>1507192437995</td>\n",
       "      <td>d84540c274cc43b894997f633fcf47b9</td>\n",
       "      <td>1509373080000</td>\n",
       "    </tr>\n",
       "    <tr>\n",
       "      <th>41</th>\n",
       "      <td>loan_index</td>\n",
       "      <td>1507192852076</td>\n",
       "      <td>1507192867020</td>\n",
       "      <td>1507192437437X6356</td>\n",
       "      <td>1507192810192-26685</td>\n",
       "      <td>d84540c274cc43b894997f633fcf47b9</td>\n",
       "      <td>1509373080000</td>\n",
       "    </tr>\n",
       "    <tr>\n",
       "      <th>42</th>\n",
       "      <td>loan_index</td>\n",
       "      <td>1507192871348</td>\n",
       "      <td>1507192875537</td>\n",
       "      <td>1507192437437X6356</td>\n",
       "      <td>1507192871339-3233</td>\n",
       "      <td>d84540c274cc43b894997f633fcf47b9</td>\n",
       "      <td>1509373080000</td>\n",
       "    </tr>\n",
       "    <tr>\n",
       "      <th>43</th>\n",
       "      <td>loan_index</td>\n",
       "      <td>1507192879948</td>\n",
       "      <td>1507192881293</td>\n",
       "      <td>1507192437437X6356</td>\n",
       "      <td>1507192879940-3819</td>\n",
       "      <td>d84540c274cc43b894997f633fcf47b9</td>\n",
       "      <td>1509373080000</td>\n",
       "    </tr>\n",
       "    <tr>\n",
       "      <th>44</th>\n",
       "      <td>loan_submission</td>\n",
       "      <td>1507192881420</td>\n",
       "      <td>1507192885233</td>\n",
       "      <td>1507192437437X6356</td>\n",
       "      <td>1507192879940-3819</td>\n",
       "      <td>d84540c274cc43b894997f633fcf47b9</td>\n",
       "      <td>1509373080000</td>\n",
       "    </tr>\n",
       "    <tr>\n",
       "      <th>45</th>\n",
       "      <td>loan_index</td>\n",
       "      <td>1507192885316</td>\n",
       "      <td>1507192918124</td>\n",
       "      <td>1507192437437X6356</td>\n",
       "      <td>1507192879940-3819</td>\n",
       "      <td>d84540c274cc43b894997f633fcf47b9</td>\n",
       "      <td>1509373080000</td>\n",
       "    </tr>\n",
       "    <tr>\n",
       "      <th>46</th>\n",
       "      <td>loan_index</td>\n",
       "      <td>1508280658201</td>\n",
       "      <td>1508280662085</td>\n",
       "      <td>1508280646788X10764</td>\n",
       "      <td>1508280647318</td>\n",
       "      <td>d84540c274cc43b894997f633fcf47b9</td>\n",
       "      <td>1509373080000</td>\n",
       "    </tr>\n",
       "    <tr>\n",
       "      <th>47</th>\n",
       "      <td>loan_index</td>\n",
       "      <td>1508292424840</td>\n",
       "      <td>1508292427610</td>\n",
       "      <td>1508292424448X25496</td>\n",
       "      <td>1508292424829</td>\n",
       "      <td>d84540c274cc43b894997f633fcf47b9</td>\n",
       "      <td>1509373080000</td>\n",
       "    </tr>\n",
       "    <tr>\n",
       "      <th>48</th>\n",
       "      <td>loan_index</td>\n",
       "      <td>1508292450329</td>\n",
       "      <td>1508292463360</td>\n",
       "      <td>1508292424448X25496</td>\n",
       "      <td>1508292424829</td>\n",
       "      <td>d84540c274cc43b894997f633fcf47b9</td>\n",
       "      <td>1509373080000</td>\n",
       "    </tr>\n",
       "    <tr>\n",
       "      <th>49</th>\n",
       "      <td>loan_index</td>\n",
       "      <td>1508292476849</td>\n",
       "      <td>1508292478229</td>\n",
       "      <td>1508292424448X25496</td>\n",
       "      <td>1508292476841-12536</td>\n",
       "      <td>d84540c274cc43b894997f633fcf47b9</td>\n",
       "      <td>1509373080000</td>\n",
       "    </tr>\n",
       "    <tr>\n",
       "      <th>50</th>\n",
       "      <td>loan_submission</td>\n",
       "      <td>1508292478363</td>\n",
       "      <td>1508292483207</td>\n",
       "      <td>1508292424448X25496</td>\n",
       "      <td>1508292476841-12536</td>\n",
       "      <td>d84540c274cc43b894997f633fcf47b9</td>\n",
       "      <td>1509373080000</td>\n",
       "    </tr>\n",
       "    <tr>\n",
       "      <th>51</th>\n",
       "      <td>loan_index</td>\n",
       "      <td>1508280647333</td>\n",
       "      <td>1508280650207</td>\n",
       "      <td>1508280646788X10764</td>\n",
       "      <td>1508280647318</td>\n",
       "      <td>d84540c274cc43b894997f633fcf47b9</td>\n",
       "      <td>1509373080000</td>\n",
       "    </tr>\n",
       "    <tr>\n",
       "      <th>52</th>\n",
       "      <td>login</td>\n",
       "      <td>1506795319051</td>\n",
       "      <td>1506795330621</td>\n",
       "      <td>1506795306462X24937</td>\n",
       "      <td>1506795307546</td>\n",
       "      <td>6e5f6b151edd4d40b51ca3b75e392f8d</td>\n",
       "      <td>1506805920000</td>\n",
       "    </tr>\n",
       "    <tr>\n",
       "      <th>53</th>\n",
       "      <td>loan_index</td>\n",
       "      <td>1506795330940</td>\n",
       "      <td>1506795334703</td>\n",
       "      <td>1506795306462X24937</td>\n",
       "      <td>1506795307546</td>\n",
       "      <td>6e5f6b151edd4d40b51ca3b75e392f8d</td>\n",
       "      <td>1506805920000</td>\n",
       "    </tr>\n",
       "    <tr>\n",
       "      <th>54</th>\n",
       "      <td>id_verify</td>\n",
       "      <td>1506795336490</td>\n",
       "      <td>1506795338051</td>\n",
       "      <td>1506795306462X24937</td>\n",
       "      <td>1506795307546</td>\n",
       "      <td>6e5f6b151edd4d40b51ca3b75e392f8d</td>\n",
       "      <td>1506805920000</td>\n",
       "    </tr>\n",
       "    <tr>\n",
       "      <th>55</th>\n",
       "      <td>loan_index</td>\n",
       "      <td>1506795338168</td>\n",
       "      <td>1506795340318</td>\n",
       "      <td>1506795306462X24937</td>\n",
       "      <td>1506795307546</td>\n",
       "      <td>6e5f6b151edd4d40b51ca3b75e392f8d</td>\n",
       "      <td>1506805920000</td>\n",
       "    </tr>\n",
       "    <tr>\n",
       "      <th>56</th>\n",
       "      <td>loan_index</td>\n",
       "      <td>1506795341538</td>\n",
       "      <td>1506795349933</td>\n",
       "      <td>1506795306462X24937</td>\n",
       "      <td>1506795307546</td>\n",
       "      <td>6e5f6b151edd4d40b51ca3b75e392f8d</td>\n",
       "      <td>1506805920000</td>\n",
       "    </tr>\n",
       "    <tr>\n",
       "      <th>57</th>\n",
       "      <td>login</td>\n",
       "      <td>1509326032514</td>\n",
       "      <td>1509326045739</td>\n",
       "      <td>1509325923971X32503</td>\n",
       "      <td>1509325924789</td>\n",
       "      <td>7f3ab6b866d04070b60fe1cadf54eaa8</td>\n",
       "      <td>1509405360000</td>\n",
       "    </tr>\n",
       "    <tr>\n",
       "      <th>58</th>\n",
       "      <td>loan_index</td>\n",
       "      <td>1509326046375</td>\n",
       "      <td>1509326060964</td>\n",
       "      <td>1509325923971X32503</td>\n",
       "      <td>1509325924789</td>\n",
       "      <td>7f3ab6b866d04070b60fe1cadf54eaa8</td>\n",
       "      <td>1509405360000</td>\n",
       "    </tr>\n",
       "    <tr>\n",
       "      <th>59</th>\n",
       "      <td>loan_index</td>\n",
       "      <td>1509326076008</td>\n",
       "      <td>1509326088744</td>\n",
       "      <td>1509326075074X1483</td>\n",
       "      <td>1509326075873</td>\n",
       "      <td>7f3ab6b866d04070b60fe1cadf54eaa8</td>\n",
       "      <td>1509405360000</td>\n",
       "    </tr>\n",
       "    <tr>\n",
       "      <th>60</th>\n",
       "      <td>loan_index</td>\n",
       "      <td>1509326254413</td>\n",
       "      <td>1509326260325</td>\n",
       "      <td>1509326253599X3155</td>\n",
       "      <td>1509326254379</td>\n",
       "      <td>7f3ab6b866d04070b60fe1cadf54eaa8</td>\n",
       "      <td>1509405360000</td>\n",
       "    </tr>\n",
       "    <tr>\n",
       "      <th>61</th>\n",
       "      <td>loan_submission</td>\n",
       "      <td>1509326260691</td>\n",
       "      <td>1509326276496</td>\n",
       "      <td>1509326253599X3155</td>\n",
       "      <td>1509326254379</td>\n",
       "      <td>7f3ab6b866d04070b60fe1cadf54eaa8</td>\n",
       "      <td>1509405360000</td>\n",
       "    </tr>\n",
       "    <tr>\n",
       "      <th>62</th>\n",
       "      <td>loan_index</td>\n",
       "      <td>1509326276609</td>\n",
       "      <td>1509326306857</td>\n",
       "      <td>1509326253599X3155</td>\n",
       "      <td>1509326254379</td>\n",
       "      <td>7f3ab6b866d04070b60fe1cadf54eaa8</td>\n",
       "      <td>1509405360000</td>\n",
       "    </tr>\n",
       "    <tr>\n",
       "      <th>63</th>\n",
       "      <td>loan_index</td>\n",
       "      <td>1509327364379</td>\n",
       "      <td>1509327369447</td>\n",
       "      <td>1509326253599X3155</td>\n",
       "      <td>1509327364348-1057323</td>\n",
       "      <td>7f3ab6b866d04070b60fe1cadf54eaa8</td>\n",
       "      <td>1509405360000</td>\n",
       "    </tr>\n",
       "    <tr>\n",
       "      <th>64</th>\n",
       "      <td>loan_submission</td>\n",
       "      <td>1509327369752</td>\n",
       "      <td>1509327373570</td>\n",
       "      <td>1509326253599X3155</td>\n",
       "      <td>1509327364348-1057323</td>\n",
       "      <td>7f3ab6b866d04070b60fe1cadf54eaa8</td>\n",
       "      <td>1509405360000</td>\n",
       "    </tr>\n",
       "    <tr>\n",
       "      <th>65</th>\n",
       "      <td>loan_index</td>\n",
       "      <td>1509333387854</td>\n",
       "      <td>1509333401283</td>\n",
       "      <td>1509333385512X6840</td>\n",
       "      <td>1509333387807</td>\n",
       "      <td>7f3ab6b866d04070b60fe1cadf54eaa8</td>\n",
       "      <td>1509405360000</td>\n",
       "    </tr>\n",
       "    <tr>\n",
       "      <th>66</th>\n",
       "      <td>loan_index</td>\n",
       "      <td>1509333435803</td>\n",
       "      <td>1509333436458</td>\n",
       "      <td>1509333385512X6840</td>\n",
       "      <td>1509333387807</td>\n",
       "      <td>7f3ab6b866d04070b60fe1cadf54eaa8</td>\n",
       "      <td>1509405360000</td>\n",
       "    </tr>\n",
       "    <tr>\n",
       "      <th>67</th>\n",
       "      <td>loan_index</td>\n",
       "      <td>1509333441950</td>\n",
       "      <td>1509333454607</td>\n",
       "      <td>1509333385512X6840</td>\n",
       "      <td>1509333441917-5317</td>\n",
       "      <td>7f3ab6b866d04070b60fe1cadf54eaa8</td>\n",
       "      <td>1509405360000</td>\n",
       "    </tr>\n",
       "    <tr>\n",
       "      <th>68</th>\n",
       "      <td>loan_submission</td>\n",
       "      <td>1509333454947</td>\n",
       "      <td>1509333455995</td>\n",
       "      <td>1509333385512X6840</td>\n",
       "      <td>1509333441917-5317</td>\n",
       "      <td>7f3ab6b866d04070b60fe1cadf54eaa8</td>\n",
       "      <td>1509405360000</td>\n",
       "    </tr>\n",
       "    <tr>\n",
       "      <th>69</th>\n",
       "      <td>loan_submission</td>\n",
       "      <td>1509333459576</td>\n",
       "      <td>1509333475132</td>\n",
       "      <td>1509333385512X6840</td>\n",
       "      <td>1509333441917-5317</td>\n",
       "      <td>7f3ab6b866d04070b60fe1cadf54eaa8</td>\n",
       "      <td>1509405360000</td>\n",
       "    </tr>\n",
       "  </tbody>\n",
       "</table>\n",
       "</div>"
      ],
      "text/plain": [
       "              pname         pstime         petime                  pid  \\\n",
       "40  bind_debit_card  1507192491471  1507192492080   1507192437437X6356   \n",
       "41       loan_index  1507192852076  1507192867020   1507192437437X6356   \n",
       "42       loan_index  1507192871348  1507192875537   1507192437437X6356   \n",
       "43       loan_index  1507192879948  1507192881293   1507192437437X6356   \n",
       "44  loan_submission  1507192881420  1507192885233   1507192437437X6356   \n",
       "45       loan_index  1507192885316  1507192918124   1507192437437X6356   \n",
       "46       loan_index  1508280658201  1508280662085  1508280646788X10764   \n",
       "47       loan_index  1508292424840  1508292427610  1508292424448X25496   \n",
       "48       loan_index  1508292450329  1508292463360  1508292424448X25496   \n",
       "49       loan_index  1508292476849  1508292478229  1508292424448X25496   \n",
       "50  loan_submission  1508292478363  1508292483207  1508292424448X25496   \n",
       "51       loan_index  1508280647333  1508280650207  1508280646788X10764   \n",
       "52            login  1506795319051  1506795330621  1506795306462X24937   \n",
       "53       loan_index  1506795330940  1506795334703  1506795306462X24937   \n",
       "54        id_verify  1506795336490  1506795338051  1506795306462X24937   \n",
       "55       loan_index  1506795338168  1506795340318  1506795306462X24937   \n",
       "56       loan_index  1506795341538  1506795349933  1506795306462X24937   \n",
       "57            login  1509326032514  1509326045739  1509325923971X32503   \n",
       "58       loan_index  1509326046375  1509326060964  1509325923971X32503   \n",
       "59       loan_index  1509326076008  1509326088744   1509326075074X1483   \n",
       "60       loan_index  1509326254413  1509326260325   1509326253599X3155   \n",
       "61  loan_submission  1509326260691  1509326276496   1509326253599X3155   \n",
       "62       loan_index  1509326276609  1509326306857   1509326253599X3155   \n",
       "63       loan_index  1509327364379  1509327369447   1509326253599X3155   \n",
       "64  loan_submission  1509327369752  1509327373570   1509326253599X3155   \n",
       "65       loan_index  1509333387854  1509333401283   1509333385512X6840   \n",
       "66       loan_index  1509333435803  1509333436458   1509333385512X6840   \n",
       "67       loan_index  1509333441950  1509333454607   1509333385512X6840   \n",
       "68  loan_submission  1509333454947  1509333455995   1509333385512X6840   \n",
       "69  loan_submission  1509333459576  1509333475132   1509333385512X6840   \n",
       "\n",
       "                      sid                           user_id application_time  \n",
       "40          1507192437995  d84540c274cc43b894997f633fcf47b9    1509373080000  \n",
       "41    1507192810192-26685  d84540c274cc43b894997f633fcf47b9    1509373080000  \n",
       "42     1507192871339-3233  d84540c274cc43b894997f633fcf47b9    1509373080000  \n",
       "43     1507192879940-3819  d84540c274cc43b894997f633fcf47b9    1509373080000  \n",
       "44     1507192879940-3819  d84540c274cc43b894997f633fcf47b9    1509373080000  \n",
       "45     1507192879940-3819  d84540c274cc43b894997f633fcf47b9    1509373080000  \n",
       "46          1508280647318  d84540c274cc43b894997f633fcf47b9    1509373080000  \n",
       "47          1508292424829  d84540c274cc43b894997f633fcf47b9    1509373080000  \n",
       "48          1508292424829  d84540c274cc43b894997f633fcf47b9    1509373080000  \n",
       "49    1508292476841-12536  d84540c274cc43b894997f633fcf47b9    1509373080000  \n",
       "50    1508292476841-12536  d84540c274cc43b894997f633fcf47b9    1509373080000  \n",
       "51          1508280647318  d84540c274cc43b894997f633fcf47b9    1509373080000  \n",
       "52          1506795307546  6e5f6b151edd4d40b51ca3b75e392f8d    1506805920000  \n",
       "53          1506795307546  6e5f6b151edd4d40b51ca3b75e392f8d    1506805920000  \n",
       "54          1506795307546  6e5f6b151edd4d40b51ca3b75e392f8d    1506805920000  \n",
       "55          1506795307546  6e5f6b151edd4d40b51ca3b75e392f8d    1506805920000  \n",
       "56          1506795307546  6e5f6b151edd4d40b51ca3b75e392f8d    1506805920000  \n",
       "57          1509325924789  7f3ab6b866d04070b60fe1cadf54eaa8    1509405360000  \n",
       "58          1509325924789  7f3ab6b866d04070b60fe1cadf54eaa8    1509405360000  \n",
       "59          1509326075873  7f3ab6b866d04070b60fe1cadf54eaa8    1509405360000  \n",
       "60          1509326254379  7f3ab6b866d04070b60fe1cadf54eaa8    1509405360000  \n",
       "61          1509326254379  7f3ab6b866d04070b60fe1cadf54eaa8    1509405360000  \n",
       "62          1509326254379  7f3ab6b866d04070b60fe1cadf54eaa8    1509405360000  \n",
       "63  1509327364348-1057323  7f3ab6b866d04070b60fe1cadf54eaa8    1509405360000  \n",
       "64  1509327364348-1057323  7f3ab6b866d04070b60fe1cadf54eaa8    1509405360000  \n",
       "65          1509333387807  7f3ab6b866d04070b60fe1cadf54eaa8    1509405360000  \n",
       "66          1509333387807  7f3ab6b866d04070b60fe1cadf54eaa8    1509405360000  \n",
       "67     1509333441917-5317  7f3ab6b866d04070b60fe1cadf54eaa8    1509405360000  \n",
       "68     1509333441917-5317  7f3ab6b866d04070b60fe1cadf54eaa8    1509405360000  \n",
       "69     1509333441917-5317  7f3ab6b866d04070b60fe1cadf54eaa8    1509405360000  "
      ]
     },
     "execution_count": 18,
     "metadata": {},
     "output_type": "execute_result"
    }
   ],
   "source": [
    "behavior[40:70]\n",
    "#- process id `pid` : as long as the app is open, pid will be the same, no matter whether it's running or hanging in the background. It will be reset if the app is killed.\n",
    "# session id `sid` : every time when an app is recovered from background, sid will be reset."
   ]
  },
  {
   "cell_type": "code",
   "execution_count": 19,
   "metadata": {
    "ExecuteTime": {
     "end_time": "2020-03-31T21:53:13.385069Z",
     "start_time": "2020-03-31T21:53:13.367118Z"
    },
    "colab": {
     "base_uri": "https://localhost:8080/",
     "height": 419
    },
    "colab_type": "code",
    "executionInfo": {
     "elapsed": 5450,
     "status": "ok",
     "timestamp": 1582559568483,
     "user": {
      "displayName": "Hanyu Wu",
      "photoUrl": "",
      "userId": "05588030028148674891"
     },
     "user_tz": 300
    },
    "id": "JYK7mQ9U4iIy",
    "outputId": "6bd0c9b7-1724-4e68-93ad-e1e513f7a77b"
   },
   "outputs": [
    {
     "data": {
      "text/html": [
       "<div>\n",
       "<style scoped>\n",
       "    .dataframe tbody tr th:only-of-type {\n",
       "        vertical-align: middle;\n",
       "    }\n",
       "\n",
       "    .dataframe tbody tr th {\n",
       "        vertical-align: top;\n",
       "    }\n",
       "\n",
       "    .dataframe thead th {\n",
       "        text-align: right;\n",
       "    }\n",
       "</style>\n",
       "<table border=\"1\" class=\"dataframe\">\n",
       "  <thead>\n",
       "    <tr style=\"text-align: right;\">\n",
       "      <th></th>\n",
       "      <th>pname</th>\n",
       "      <th>pstime</th>\n",
       "      <th>petime</th>\n",
       "      <th>pid</th>\n",
       "      <th>sid</th>\n",
       "      <th>user_id</th>\n",
       "      <th>application_time</th>\n",
       "    </tr>\n",
       "  </thead>\n",
       "  <tbody>\n",
       "    <tr>\n",
       "      <th>0</th>\n",
       "      <td>loan_index</td>\n",
       "      <td>1508169825905</td>\n",
       "      <td>1508169827989</td>\n",
       "      <td>1508169825083X3005</td>\n",
       "      <td>1508169825895</td>\n",
       "      <td>56f889ee11df4a72955147cb2f29a638</td>\n",
       "      <td>1509322980000</td>\n",
       "    </tr>\n",
       "    <tr>\n",
       "      <th>1</th>\n",
       "      <td>loan_submission</td>\n",
       "      <td>1508169828161</td>\n",
       "      <td>1508169832016</td>\n",
       "      <td>1508169825083X3005</td>\n",
       "      <td>1508169825895</td>\n",
       "      <td>56f889ee11df4a72955147cb2f29a638</td>\n",
       "      <td>1509322980000</td>\n",
       "    </tr>\n",
       "    <tr>\n",
       "      <th>2</th>\n",
       "      <td>login</td>\n",
       "      <td>1508159705613</td>\n",
       "      <td>1508159717957</td>\n",
       "      <td>1508159674269X6362</td>\n",
       "      <td>1508159674838</td>\n",
       "      <td>56f889ee11df4a72955147cb2f29a638</td>\n",
       "      <td>1509322980000</td>\n",
       "    </tr>\n",
       "    <tr>\n",
       "      <th>3</th>\n",
       "      <td>loan_index</td>\n",
       "      <td>1508159718330</td>\n",
       "      <td>1508159727708</td>\n",
       "      <td>1508159674269X6362</td>\n",
       "      <td>1508159674838</td>\n",
       "      <td>56f889ee11df4a72955147cb2f29a638</td>\n",
       "      <td>1509322980000</td>\n",
       "    </tr>\n",
       "    <tr>\n",
       "      <th>4</th>\n",
       "      <td>loan_index</td>\n",
       "      <td>1508159730618</td>\n",
       "      <td>1508159735192</td>\n",
       "      <td>1508159674269X6362</td>\n",
       "      <td>1508159674838</td>\n",
       "      <td>56f889ee11df4a72955147cb2f29a638</td>\n",
       "      <td>1509322980000</td>\n",
       "    </tr>\n",
       "    <tr>\n",
       "      <th>...</th>\n",
       "      <td>...</td>\n",
       "      <td>...</td>\n",
       "      <td>...</td>\n",
       "      <td>...</td>\n",
       "      <td>...</td>\n",
       "      <td>...</td>\n",
       "      <td>...</td>\n",
       "    </tr>\n",
       "    <tr>\n",
       "      <th>137787</th>\n",
       "      <td>loan_index</td>\n",
       "      <td>1507025631503</td>\n",
       "      <td>1507025633556</td>\n",
       "      <td>1507025265754X13178</td>\n",
       "      <td>1507025631494-8561</td>\n",
       "      <td>dbaf814462be46c18613bed7fcb5c589</td>\n",
       "      <td>1508168640000</td>\n",
       "    </tr>\n",
       "    <tr>\n",
       "      <th>137788</th>\n",
       "      <td>loan_submission</td>\n",
       "      <td>1507025633826</td>\n",
       "      <td>1507025641681</td>\n",
       "      <td>1507025265754X13178</td>\n",
       "      <td>1507025631494-8561</td>\n",
       "      <td>dbaf814462be46c18613bed7fcb5c589</td>\n",
       "      <td>1508168640000</td>\n",
       "    </tr>\n",
       "    <tr>\n",
       "      <th>137789</th>\n",
       "      <td>loan_index</td>\n",
       "      <td>1507025641812</td>\n",
       "      <td>1507025661303</td>\n",
       "      <td>1507025265754X13178</td>\n",
       "      <td>1507025631494-8561</td>\n",
       "      <td>dbaf814462be46c18613bed7fcb5c589</td>\n",
       "      <td>1508168640000</td>\n",
       "    </tr>\n",
       "    <tr>\n",
       "      <th>137790</th>\n",
       "      <td>loan_index</td>\n",
       "      <td>1507025670790</td>\n",
       "      <td>1507025672833</td>\n",
       "      <td>1507025265754X13178</td>\n",
       "      <td>1507025670783-8643</td>\n",
       "      <td>dbaf814462be46c18613bed7fcb5c589</td>\n",
       "      <td>1508168640000</td>\n",
       "    </tr>\n",
       "    <tr>\n",
       "      <th>137791</th>\n",
       "      <td>loan_index</td>\n",
       "      <td>1507025675578</td>\n",
       "      <td>1507025677504</td>\n",
       "      <td>1507025265754X13178</td>\n",
       "      <td>1507025670783-8643</td>\n",
       "      <td>dbaf814462be46c18613bed7fcb5c589</td>\n",
       "      <td>1508168640000</td>\n",
       "    </tr>\n",
       "  </tbody>\n",
       "</table>\n",
       "<p>137792 rows × 7 columns</p>\n",
       "</div>"
      ],
      "text/plain": [
       "                  pname         pstime         petime                  pid  \\\n",
       "0            loan_index  1508169825905  1508169827989   1508169825083X3005   \n",
       "1       loan_submission  1508169828161  1508169832016   1508169825083X3005   \n",
       "2                 login  1508159705613  1508159717957   1508159674269X6362   \n",
       "3            loan_index  1508159718330  1508159727708   1508159674269X6362   \n",
       "4            loan_index  1508159730618  1508159735192   1508159674269X6362   \n",
       "...                 ...            ...            ...                  ...   \n",
       "137787       loan_index  1507025631503  1507025633556  1507025265754X13178   \n",
       "137788  loan_submission  1507025633826  1507025641681  1507025265754X13178   \n",
       "137789       loan_index  1507025641812  1507025661303  1507025265754X13178   \n",
       "137790       loan_index  1507025670790  1507025672833  1507025265754X13178   \n",
       "137791       loan_index  1507025675578  1507025677504  1507025265754X13178   \n",
       "\n",
       "                       sid                           user_id application_time  \n",
       "0            1508169825895  56f889ee11df4a72955147cb2f29a638    1509322980000  \n",
       "1            1508169825895  56f889ee11df4a72955147cb2f29a638    1509322980000  \n",
       "2            1508159674838  56f889ee11df4a72955147cb2f29a638    1509322980000  \n",
       "3            1508159674838  56f889ee11df4a72955147cb2f29a638    1509322980000  \n",
       "4            1508159674838  56f889ee11df4a72955147cb2f29a638    1509322980000  \n",
       "...                    ...                               ...              ...  \n",
       "137787  1507025631494-8561  dbaf814462be46c18613bed7fcb5c589    1508168640000  \n",
       "137788  1507025631494-8561  dbaf814462be46c18613bed7fcb5c589    1508168640000  \n",
       "137789  1507025631494-8561  dbaf814462be46c18613bed7fcb5c589    1508168640000  \n",
       "137790  1507025670783-8643  dbaf814462be46c18613bed7fcb5c589    1508168640000  \n",
       "137791  1507025670783-8643  dbaf814462be46c18613bed7fcb5c589    1508168640000  \n",
       "\n",
       "[137792 rows x 7 columns]"
      ]
     },
     "execution_count": 19,
     "metadata": {},
     "output_type": "execute_result"
    }
   ],
   "source": [
    "behavior"
   ]
  },
  {
   "cell_type": "code",
   "execution_count": 20,
   "metadata": {
    "ExecuteTime": {
     "end_time": "2020-03-31T21:53:13.405050Z",
     "start_time": "2020-03-31T21:53:13.387063Z"
    },
    "colab": {
     "base_uri": "https://localhost:8080/",
     "height": 34
    },
    "colab_type": "code",
    "executionInfo": {
     "elapsed": 5439,
     "status": "ok",
     "timestamp": 1582559568484,
     "user": {
      "displayName": "Hanyu Wu",
      "photoUrl": "",
      "userId": "05588030028148674891"
     },
     "user_tz": 300
    },
    "id": "yJqZFGiC4iI4",
    "outputId": "cea000be-0646-48c7-a9f8-93974469d5fb"
   },
   "outputs": [
    {
     "data": {
      "text/plain": [
       "((137792, 7), 3693)"
      ]
     },
     "execution_count": 20,
     "metadata": {},
     "output_type": "execute_result"
    }
   ],
   "source": [
    "behavior.shape, behavior.user_id.nunique()"
   ]
  },
  {
   "cell_type": "code",
   "execution_count": 21,
   "metadata": {
    "ExecuteTime": {
     "end_time": "2020-03-31T21:53:13.411997Z",
     "start_time": "2020-03-31T21:53:13.406014Z"
    },
    "colab": {
     "base_uri": "https://localhost:8080/",
     "height": 34
    },
    "colab_type": "code",
    "executionInfo": {
     "elapsed": 5427,
     "status": "ok",
     "timestamp": 1582559568484,
     "user": {
      "displayName": "Hanyu Wu",
      "photoUrl": "",
      "userId": "05588030028148674891"
     },
     "user_tz": 300
    },
    "id": "6R-LFpXp4iI7",
    "outputId": "7897ef9f-a9f2-44aa-8895-89fd7ce4caa2"
   },
   "outputs": [
    {
     "data": {
      "text/plain": [
       "1285"
      ]
     },
     "execution_count": 21,
     "metadata": {},
     "output_type": "execute_result"
    }
   ],
   "source": [
    "len([x.split('|')[0] for x in sequential_behavior if len(sequential_behavior[x])==0])\n",
    "\n",
    "# there might be several application without any behavior data due to many reasons (which can be ignored)\n",
    "# data inclusion logic for keys with empty data will be presented in data usage"
   ]
  },
  {
   "cell_type": "code",
   "execution_count": 22,
   "metadata": {
    "ExecuteTime": {
     "end_time": "2020-03-31T21:53:13.516717Z",
     "start_time": "2020-03-31T21:53:13.415986Z"
    },
    "colab": {},
    "colab_type": "code",
    "id": "1fZlkf944iI-",
    "scrolled": true
   },
   "outputs": [],
   "source": [
    "behavior = behavior.sort_values(['user_id', 'application_time', 'petime'])"
   ]
  },
  {
   "cell_type": "code",
   "execution_count": 23,
   "metadata": {
    "ExecuteTime": {
     "end_time": "2020-03-31T21:53:13.543655Z",
     "start_time": "2020-03-31T21:53:13.519709Z"
    },
    "colab": {
     "base_uri": "https://localhost:8080/",
     "height": 221
    },
    "colab_type": "code",
    "executionInfo": {
     "elapsed": 5405,
     "status": "ok",
     "timestamp": 1582559568485,
     "user": {
      "displayName": "Hanyu Wu",
      "photoUrl": "",
      "userId": "05588030028148674891"
     },
     "user_tz": 300
    },
    "id": "2uyrekmC4iJD",
    "outputId": "2ce33f70-d6bd-4a9c-fd92-56d8f09e33b6"
   },
   "outputs": [
    {
     "data": {
      "text/plain": [
       "loan_index         64375\n",
       "personal_info      15596\n",
       "id_verify          14167\n",
       "contacts_info      12245\n",
       "loan_submission     8388\n",
       "operator            7788\n",
       "bind_debit_card     6208\n",
       "biometric_auto      4328\n",
       "login               3993\n",
       "register             575\n",
       "biometric_auth       129\n",
       "Name: pname, dtype: int64"
      ]
     },
     "execution_count": 23,
     "metadata": {},
     "output_type": "execute_result"
    }
   ],
   "source": [
    "behavior['pname'].value_counts()"
   ]
  },
  {
   "cell_type": "markdown",
   "metadata": {
    "ExecuteTime": {
     "end_time": "2019-10-10T14:11:10.818988Z",
     "start_time": "2019-10-10T14:11:10.815397Z"
    },
    "colab_type": "text",
    "id": "D9BK1Jfr4iJF"
   },
   "source": [
    "### page view path overview"
   ]
  },
  {
   "cell_type": "code",
   "execution_count": 24,
   "metadata": {
    "ExecuteTime": {
     "end_time": "2020-03-31T21:53:13.564590Z",
     "start_time": "2020-03-31T21:53:13.545641Z"
    },
    "colab": {},
    "colab_type": "code",
    "id": "6affxOIS4iJG"
   },
   "outputs": [],
   "source": [
    "page_name = set(behavior['pname'].value_counts().index)"
   ]
  },
  {
   "cell_type": "code",
   "execution_count": 25,
   "metadata": {
    "ExecuteTime": {
     "end_time": "2020-03-31T21:53:13.569576Z",
     "start_time": "2020-03-31T21:53:13.565588Z"
    },
    "colab": {},
    "colab_type": "code",
    "id": "ixsrSIDW4iJI"
   },
   "outputs": [],
   "source": [
    "page_trannsition_overview = {\n",
    "    f\"from_{x}\" : {\n",
    "        f\"to_{y}\": 0 for y in page_name\n",
    "    }\n",
    "    for x in page_name\n",
    "}"
   ]
  },
  {
   "cell_type": "code",
   "execution_count": 26,
   "metadata": {
    "ExecuteTime": {
     "end_time": "2020-03-31T21:53:13.667341Z",
     "start_time": "2020-03-31T21:53:13.570573Z"
    },
    "colab": {
     "base_uri": "https://localhost:8080/",
     "height": 51
    },
    "colab_type": "code",
    "executionInfo": {
     "elapsed": 5673,
     "status": "ok",
     "timestamp": 1582559568767,
     "user": {
      "displayName": "Hanyu Wu",
      "photoUrl": "",
      "userId": "05588030028148674891"
     },
     "user_tz": 300
    },
    "id": "W3zv7zo04iJK",
    "outputId": "b755475d-d305-4484-d8e9-be25fff7ec27"
   },
   "outputs": [
    {
     "name": "stdout",
     "output_type": "stream",
     "text": [
      "Wall time: 92.8 ms\n"
     ]
    }
   ],
   "source": [
    "%%time\n",
    "for keys in sequential_behavior:\n",
    "    \n",
    "    subdata = sequential_behavior[keys]\n",
    "    subdata.sort(key=lambda x : x['petime']) \n",
    "    if len(subdata)<2:\n",
    "        pass\n",
    "    \n",
    "    else:\n",
    "        prev_state = subdata[0]['pname']\n",
    "        for item in subdata[1:]:\n",
    "            current_state = item['pname']\n",
    "            page_trannsition_overview[f\"from_{prev_state}\"][f\"to_{current_state}\"] += 1\n",
    "            prev_state = item['pname']"
   ]
  },
  {
   "cell_type": "markdown",
   "metadata": {
    "colab_type": "text",
    "id": "OOF9LPtg4iJN"
   },
   "source": [
    "## data usage"
   ]
  },
  {
   "cell_type": "code",
   "execution_count": 27,
   "metadata": {
    "ExecuteTime": {
     "end_time": "2020-03-31T21:53:13.675292Z",
     "start_time": "2020-03-31T21:53:13.668313Z"
    },
    "colab": {
     "base_uri": "https://localhost:8080/",
     "height": 34
    },
    "colab_type": "code",
    "executionInfo": {
     "elapsed": 5661,
     "status": "ok",
     "timestamp": 1582559568767,
     "user": {
      "displayName": "Hanyu Wu",
      "photoUrl": "",
      "userId": "05588030028148674891"
     },
     "user_tz": 300
    },
    "id": "PVOxh0Vo4iJN",
    "outputId": "1a0b8c5b-b412-453b-eb6f-c802f78dcf3f"
   },
   "outputs": [
    {
     "data": {
      "text/plain": [
       "LabelEncoder()"
      ]
     },
     "execution_count": 27,
     "metadata": {},
     "output_type": "execute_result"
    }
   ],
   "source": [
    "le = LabelEncoder()\n",
    "le.fit(['bind_credit_card',\n",
    " 'bind_debit_card',\n",
    "'biometric_auth', \n",
    " 'biometric_auto',\n",
    " 'contacts_info',\n",
    " 'id_verify',\n",
    " 'loan_index',\n",
    " 'loan_submission',\n",
    " 'login',\n",
    " 'operator',\n",
    " 'personal_info',\n",
    " 'register',\n",
    " 'unknown'])"
   ]
  },
  {
   "cell_type": "code",
   "execution_count": 28,
   "metadata": {
    "ExecuteTime": {
     "end_time": "2020-03-31T21:53:13.684269Z",
     "start_time": "2020-03-31T21:53:13.676293Z"
    },
    "colab": {},
    "colab_type": "code",
    "id": "Zj8TYjZl4iJP"
   },
   "outputs": [],
   "source": [
    "## here's the logic for which data should be dropped entirely and which data should be included as missing valued data\n",
    "user_id_with_data = set([x.split(\"|\")[0] for x in sequential_behavior if len(sequential_behavior[x])!=0])\n",
    "user_id_without_data = set([x.split(\"|\")[0] for x in sequential_behavior if len(sequential_behavior[x])==0])\n",
    "user_id_without_data_should_keep = [x for x in user_id_without_data if x in user_id_with_data]\n"
   ]
  },
  {
   "cell_type": "code",
   "execution_count": 29,
   "metadata": {
    "ExecuteTime": {
     "end_time": "2020-03-31T21:53:13.689268Z",
     "start_time": "2020-03-31T21:53:13.686266Z"
    },
    "colab": {},
    "colab_type": "code",
    "id": "IrXKy7Zd4iJR"
   },
   "outputs": [],
   "source": [
    "final_user_id = list(user_id_with_data) + list(set(user_id_without_data_should_keep))"
   ]
  },
  {
   "cell_type": "code",
   "execution_count": 30,
   "metadata": {
    "ExecuteTime": {
     "end_time": "2020-03-31T21:53:13.696238Z",
     "start_time": "2020-03-31T21:53:13.691259Z"
    },
    "colab": {
     "base_uri": "https://localhost:8080/",
     "height": 34
    },
    "colab_type": "code",
    "executionInfo": {
     "elapsed": 5629,
     "status": "ok",
     "timestamp": 1582559568769,
     "user": {
      "displayName": "Hanyu Wu",
      "photoUrl": "",
      "userId": "05588030028148674891"
     },
     "user_tz": 300
    },
    "id": "_wYBU51V4iJW",
    "outputId": "554e98f2-4255-4072-f6b3-56c7baca502f"
   },
   "outputs": [
    {
     "data": {
      "text/plain": [
       "(3704, 3693)"
      ]
     },
     "execution_count": 30,
     "metadata": {},
     "output_type": "execute_result"
    }
   ],
   "source": [
    "len(final_user_id),len(set(final_user_id))####"
   ]
  },
  {
   "cell_type": "code",
   "execution_count": 31,
   "metadata": {
    "ExecuteTime": {
     "end_time": "2020-03-31T21:53:13.707209Z",
     "start_time": "2020-03-31T21:53:13.697237Z"
    },
    "colab": {
     "base_uri": "https://localhost:8080/",
     "height": 238
    },
    "colab_type": "code",
    "executionInfo": {
     "elapsed": 5618,
     "status": "ok",
     "timestamp": 1582559568770,
     "user": {
      "displayName": "Hanyu Wu",
      "photoUrl": "",
      "userId": "05588030028148674891"
     },
     "user_tz": 300
    },
    "id": "ehiVbfPP4iJZ",
    "outputId": "8671a02c-e42b-4147-834b-77b65e984e3b"
   },
   "outputs": [
    {
     "data": {
      "text/plain": [
       "array([[1., 0., 0., 0., 0., 0., 0., 0., 0., 0., 0., 0., 0.],\n",
       "       [0., 1., 0., 0., 0., 0., 0., 0., 0., 0., 0., 0., 0.],\n",
       "       [0., 0., 1., 0., 0., 0., 0., 0., 0., 0., 0., 0., 0.],\n",
       "       [0., 0., 0., 1., 0., 0., 0., 0., 0., 0., 0., 0., 0.],\n",
       "       [0., 0., 0., 0., 1., 0., 0., 0., 0., 0., 0., 0., 0.],\n",
       "       [0., 0., 0., 0., 0., 1., 0., 0., 0., 0., 0., 0., 0.],\n",
       "       [0., 0., 0., 0., 0., 0., 1., 0., 0., 0., 0., 0., 0.],\n",
       "       [0., 0., 0., 0., 0., 0., 0., 1., 0., 0., 0., 0., 0.],\n",
       "       [0., 0., 0., 0., 0., 0., 0., 0., 1., 0., 0., 0., 0.],\n",
       "       [0., 0., 0., 0., 0., 0., 0., 0., 0., 1., 0., 0., 0.],\n",
       "       [0., 0., 0., 0., 0., 0., 0., 0., 0., 0., 1., 0., 0.],\n",
       "       [0., 0., 0., 0., 0., 0., 0., 0., 0., 0., 0., 1., 0.],\n",
       "       [0., 0., 0., 0., 0., 0., 0., 0., 0., 0., 0., 0., 1.]])"
      ]
     },
     "execution_count": 31,
     "metadata": {},
     "output_type": "execute_result"
    }
   ],
   "source": [
    "from sklearn import preprocessing\n",
    "#test\n",
    "X = ['bind_credit_card',\n",
    " 'bind_debit_card',\n",
    " 'biometric_auth', \n",
    " 'biometric_auto',\n",
    " 'contacts_info',\n",
    " 'id_verify',\n",
    " 'loan_index',\n",
    " 'loan_submission',\n",
    " 'login',\n",
    " 'operator',\n",
    " 'personal_info',\n",
    " 'register',\n",
    " 'unknown']\n",
    "X=np.array(X)\n",
    "X=X[:,np.newaxis]\n",
    "enc = preprocessing.OneHotEncoder(categories='auto')\n",
    "enc.fit(X)\n",
    "onehotlabels = enc.transform(X).toarray()\n",
    "onehotlabels.shape\n",
    "onehotlabels"
   ]
  },
  {
   "cell_type": "code",
   "execution_count": 32,
   "metadata": {
    "ExecuteTime": {
     "end_time": "2020-03-31T21:53:13.718179Z",
     "start_time": "2020-03-31T21:53:13.709219Z"
    },
    "colab": {},
    "colab_type": "code",
    "id": "9lWoxICA4iJg"
   },
   "outputs": [],
   "source": [
    "def data_process(sequence_for_a_single_application):\n",
    "    sequence_for_a_single_application.sort(key=lambda x : x['petime'])\n",
    "    page_sequence = [x['pname'] for x in sequence_for_a_single_application]\n",
    "    pstart = [x['pstime'] for x in sequence_for_a_single_application]\n",
    "    pend = ([x['petime'] for x in sequence_for_a_single_application])\n",
    "    page_stay_time = [(y-x)/1000 if (y-x)>0 and (y-x)//1000<600 else -1 for x,y in zip(pstart, pend)]\n",
    "  \n",
    "    # calculate the time elapse between two pages, if the page_lagg_time is negative or larger than 600s, page_lagg_time = -1\n",
    "    page_lagg_time = [(x-y)/1000 if (x-y)>=0 and (x-y)//1000<600 else -1 for x,y in zip(pstart[1:], pend[:-1])]\n",
    "    page_lagg_time_padd=[0]\n",
    "    page_lagg_time_padd.extend(page_lagg_time)\n",
    "    \n",
    "    pids= []\n",
    "    pid=''\n",
    "    for x in sequence_for_a_single_application:\n",
    "        if x.get(\"pid\"):\n",
    "            if x['pid']==pid:\n",
    "                pids.append(0)\n",
    "            else:\n",
    "                pids.append(1)\n",
    "                pid=x['pid']\n",
    "        else:\n",
    "            pids.append(-1)\n",
    "    \n",
    "    sids=[]\n",
    "    sid=''\n",
    "    for x in sequence_for_a_single_application:\n",
    "        if x.get(\"sid\"):\n",
    "            if x['sid']==sid:\n",
    "                sids.append(0)\n",
    "            else:\n",
    "                sids.append(1)\n",
    "                sid=x['sid']\n",
    "        else:\n",
    "            sids.append(-1)\n",
    "            \n",
    "    \n",
    "    page_sequence=np.array(page_sequence).reshape(-1, 1)\n",
    "    page_sequence = enc.transform(page_sequence).A\n",
    "    page_sequence=page_sequence.reshape(page_sequence.shape[1],-1)\n",
    "    return page_sequence, page_stay_time,page_lagg_time_padd,pids,sids"
   ]
  },
  {
   "cell_type": "code",
   "execution_count": 33,
   "metadata": {
    "ExecuteTime": {
     "end_time": "2020-03-31T21:53:13.727154Z",
     "start_time": "2020-03-31T21:53:13.720174Z"
    },
    "colab": {},
    "colab_type": "code",
    "id": "MaxcnBcR4iJi"
   },
   "outputs": [],
   "source": [
    "def get_data(x):\n",
    "    sequence_data=[]\n",
    "    overdue=[]\n",
    "    #new_client=[]\n",
    "    #order_time=[]\n",
    "    #label=[]\n",
    "    #tmp_dict={\"overdue\":overdue,\"new_client\":new_client,\"order_time\":order_time,\"lable\":lable}\n",
    "    unique_user_session=list(set(x.keys()))\n",
    "    for keys in unique_user_session:\n",
    "        if x[keys]==[]:\n",
    "            continue\n",
    "        page_sequence, page_stay_time, page_lagg_time,pids,sids=data_process(x[keys])\n",
    "        single_entry=np.vstack((page_sequence, page_stay_time, page_lagg_time,pids,sids)).T\n",
    "        sequence_data.append(single_entry)\n",
    "    '''    for i in ['overdue', 'new_client', 'order_time', 'label']:\n",
    "            if sequential_driver[keys].get(i):\n",
    "                tmp_dict[i].append(sequential_driver[keys][i])\n",
    "            else:\n",
    "                tmp_dict[i].append(-1)   \n",
    "    overdue=tmp_dict['overdue']\n",
    "    new_client=tmp_dict['new_client']\n",
    "    order_time=tmp_dict['order_time']\n",
    "    label=tmp_dict['label']'''\n",
    "    return sequence_data"
   ]
  },
  {
   "cell_type": "code",
   "execution_count": 34,
   "metadata": {
    "ExecuteTime": {
     "end_time": "2020-03-31T21:53:15.052375Z",
     "start_time": "2020-03-31T21:53:13.728152Z"
    },
    "colab": {},
    "colab_type": "code",
    "id": "FBOspMJW4iJq"
   },
   "outputs": [],
   "source": [
    "sequence_data=get_data(sequential_behavior)"
   ]
  },
  {
   "cell_type": "code",
   "execution_count": 35,
   "metadata": {
    "ExecuteTime": {
     "end_time": "2020-03-31T21:53:15.058360Z",
     "start_time": "2020-03-31T21:53:15.053377Z"
    },
    "colab": {},
    "colab_type": "code",
    "id": "PA7Hw2144iJs"
   },
   "outputs": [],
   "source": [
    "store=[]\n",
    "for i in sequential_behavior.keys():\n",
    "    if sequential_behavior[i]!=[]:\n",
    "        store.append(i)\n",
    "        "
   ]
  },
  {
   "cell_type": "code",
   "execution_count": 36,
   "metadata": {
    "ExecuteTime": {
     "end_time": "2020-03-31T21:53:15.067336Z",
     "start_time": "2020-03-31T21:53:15.060354Z"
    },
    "colab": {
     "base_uri": "https://localhost:8080/",
     "height": 68
    },
    "colab_type": "code",
    "executionInfo": {
     "elapsed": 7795,
     "status": "ok",
     "timestamp": 1582559571007,
     "user": {
      "displayName": "Hanyu Wu",
      "photoUrl": "",
      "userId": "05588030028148674891"
     },
     "user_tz": 300
    },
    "id": "Jz6mgjcQ4iJu",
    "outputId": "b2326e90-b51c-4de9-a9ee-51c664033bdb"
   },
   "outputs": [
    {
     "data": {
      "text/plain": [
       "Index(['index', 'overdue', 'new_client', 'order_time', 'label', 'user_id',\n",
       "       'application_time', 'application_date'],\n",
       "      dtype='object')"
      ]
     },
     "execution_count": 36,
     "metadata": {},
     "output_type": "execute_result"
    }
   ],
   "source": [
    "driver.columns"
   ]
  },
  {
   "cell_type": "code",
   "execution_count": 37,
   "metadata": {
    "ExecuteTime": {
     "end_time": "2020-03-31T21:53:15.074316Z",
     "start_time": "2020-03-31T21:53:15.068332Z"
    },
    "colab": {},
    "colab_type": "code",
    "id": "Qk0B1cl74iJw"
   },
   "outputs": [],
   "source": [
    "driver=driver.set_index(\"index\")"
   ]
  },
  {
   "cell_type": "code",
   "execution_count": 38,
   "metadata": {
    "ExecuteTime": {
     "end_time": "2020-03-31T21:53:15.264841Z",
     "start_time": "2020-03-31T21:53:15.076311Z"
    },
    "colab": {},
    "colab_type": "code",
    "id": "vQ3uv7oz4iJ0"
   },
   "outputs": [],
   "source": [
    "label=driver.T[store].T['label'].values"
   ]
  },
  {
   "cell_type": "code",
   "execution_count": 39,
   "metadata": {
    "ExecuteTime": {
     "end_time": "2020-03-31T21:53:15.269827Z",
     "start_time": "2020-03-31T21:53:15.265806Z"
    },
    "colab": {},
    "colab_type": "code",
    "id": "L6Zvt57W4iJ3"
   },
   "outputs": [],
   "source": [
    "testing=label[10000:20000]"
   ]
  },
  {
   "cell_type": "markdown",
   "metadata": {
    "colab_type": "text",
    "id": "kRXr0veX4iJ7"
   },
   "source": [
    "# DTW and KNN"
   ]
  },
  {
   "cell_type": "code",
   "execution_count": 40,
   "metadata": {
    "ExecuteTime": {
     "end_time": "2020-03-31T21:53:16.221653Z",
     "start_time": "2020-03-31T21:53:15.270807Z"
    }
   },
   "outputs": [
    {
     "name": "stdout",
     "output_type": "stream",
     "text": [
      "Requirement already satisfied: fastdtw in c:\\users\\harry\\anaconda3\\envs\\tensorflow-gpu\\lib\\site-packages (0.3.4)\n",
      "Requirement already satisfied: numpy in c:\\users\\harry\\appdata\\roaming\\python\\python37\\site-packages (from fastdtw) (1.18.2)\n"
     ]
    }
   ],
   "source": [
    "!pip install fastdtw"
   ]
  },
  {
   "cell_type": "code",
   "execution_count": 41,
   "metadata": {
    "ExecuteTime": {
     "end_time": "2020-03-31T21:53:16.239605Z",
     "start_time": "2020-03-31T21:53:16.222620Z"
    },
    "colab": {},
    "colab_type": "code",
    "id": "DlkNXCMX4iJ8"
   },
   "outputs": [],
   "source": [
    "import fastdtw\n",
    "from sklearn.metrics import roc_curve"
   ]
  },
  {
   "cell_type": "code",
   "execution_count": 42,
   "metadata": {
    "ExecuteTime": {
     "end_time": "2020-03-31T21:53:16.253539Z",
     "start_time": "2020-03-31T21:53:16.240573Z"
    },
    "colab": {},
    "colab_type": "code",
    "id": "0ID2G-Mo4iKB"
   },
   "outputs": [],
   "source": [
    "# below are \n",
    "def distance(X,x):\n",
    "    '''\n",
    "    gnerating distance for points based on DTW\n",
    "    X: list or array of points\n",
    "    x: point. \n",
    "    \n",
    "    fastdtw is faster than dtw method\n",
    "    '''\n",
    "    store=[]\n",
    "    for i in X:\n",
    "#         store.append(fastdtw.dtw(i,x)[0])\n",
    "        store.append(fastdtw.fastdtw(i,x)[0])\n",
    "    return np.array(store)\n",
    "def find_neighbors(x,X,k,distance):\n",
    "    distances=distance(X,x)\n",
    "    indexes=np.argpartition(distances,k)[0:k]\n",
    "    return indexes\n",
    "def most_common(X):\n",
    "    values,counts=np.unique(X,return_counts=True)\n",
    "    return values[counts.argmax()]\n",
    "def most_common_proba(X):\n",
    "    '''\n",
    "    generating the probability for the labels\n",
    "    '''\n",
    "    values,counts=np.unique(X,return_counts=True)\n",
    "    if len(values)==1:\n",
    "        if values[0]==1:\n",
    "            return 0,1\n",
    "        else:\n",
    "            return 1,0\n",
    "    if values[0]==0:\n",
    "        return counts[0]/np.sum(counts),counts[1]/np.sum(counts)\n",
    "    else:\n",
    "        return counts[1]/np.sum(counts),counts[10]/np.sum(counts)\n",
    "\n",
    "class KNeighbors:\n",
    "    def __init__(self,k,distance):\n",
    "        '''\n",
    "        k: nearest piont\n",
    "        distance: function to generate distance\n",
    "        '''\n",
    "        self.k=k\n",
    "        self.distance=distance\n",
    "    def fit(self,X,Y):\n",
    "        self.X=X\n",
    "        self.Y=Y\n",
    "    def predict(self,X):\n",
    "        y=[]\n",
    "        for i1 in range(len(X)):\n",
    "            x=X[i1]\n",
    "            indexes=find_neighbors(x,self.X,self.k,self.distance)\n",
    "            votes=self.Y[indexes]\n",
    "            y.append(most_common(votes))\n",
    "        return np.array(y)\n",
    "    def predict_proba(self,X):\n",
    "        y=[]\n",
    "        for i1 in range(len(X)):\n",
    "            x=X[i1]\n",
    "            indexes=find_neighbors(x,self.X,self.k,self.distance)\n",
    "            votes=self.Y[indexes]\n",
    "            y.append(most_common_proba(votes))\n",
    "        return np.array(y)\n",
    "    \n",
    "def get_KS(y_prob,y_true):\n",
    "    '''\n",
    "    return the best threshold, maximum ks\n",
    "    '''\n",
    "    fpr,tpr,threshold=roc_curve(y_true,y_prob)\n",
    "    ks=(tpr-fpr)\n",
    "    max_=np.argmax(ks)\n",
    "    return threshold[max_],np.max(ks)"
   ]
  },
  {
   "cell_type": "code",
   "execution_count": 43,
   "metadata": {
    "ExecuteTime": {
     "end_time": "2020-03-31T21:53:16.270531Z",
     "start_time": "2020-03-31T21:53:16.254536Z"
    },
    "colab": {},
    "colab_type": "code",
    "id": "PHxTLDcH6Cii"
   },
   "outputs": [],
   "source": [
    "store=[]\n",
    "for i in range(10):\n",
    "    store.append(most_common_proba(label))"
   ]
  },
  {
   "cell_type": "code",
   "execution_count": 44,
   "metadata": {
    "ExecuteTime": {
     "end_time": "2020-03-31T21:53:16.277500Z",
     "start_time": "2020-03-31T21:53:16.271491Z"
    },
    "colab": {
     "base_uri": "https://localhost:8080/",
     "height": 34
    },
    "colab_type": "code",
    "executionInfo": {
     "elapsed": 628,
     "status": "ok",
     "timestamp": 1582559674257,
     "user": {
      "displayName": "Hanyu Wu",
      "photoUrl": "",
      "userId": "05588030028148674891"
     },
     "user_tz": 300
    },
    "id": "NPxKpszK4iKC",
    "outputId": "3278417c-06e9-4afd-b2ac-084cd9a86ece"
   },
   "outputs": [
    {
     "name": "stdout",
     "output_type": "stream",
     "text": [
      "total: 254.0 shape:  1754\n"
     ]
    }
   ],
   "source": [
    "# generating the training dataset, mixture of specific portion of 1 and 0 in the label\n",
    "# pay attention not to using too large dataset, it will take a large time to train \n",
    "idx=np.arange(len(label))\n",
    "idx_0=idx[label==0]\n",
    "idx_1=idx[label==1]\n",
    "np.random.shuffle(idx_0)\n",
    "np.random.shuffle(idx_1)\n",
    "new_id=np.concatenate([idx_0[:1500],idx_1[:300]],axis=0)\n",
    "np.random.shuffle(new_id)\n",
    "print(\"total:\",sum(label[new_id]),\"shape: \",len(new_id))"
   ]
  },
  {
   "cell_type": "code",
   "execution_count": 45,
   "metadata": {
    "ExecuteTime": {
     "end_time": "2020-03-31T21:53:16.297455Z",
     "start_time": "2020-03-31T21:53:16.278474Z"
    },
    "colab": {},
    "colab_type": "code",
    "id": "eaVwFvE34iKE"
   },
   "outputs": [],
   "source": [
    "X= [sequence_data[i] for i in new_id]\n",
    "Y=label[new_id]\n",
    "Y=Y.astype(\"int\")"
   ]
  },
  {
   "cell_type": "code",
   "execution_count": 46,
   "metadata": {
    "ExecuteTime": {
     "end_time": "2020-03-31T21:53:16.302441Z",
     "start_time": "2020-03-31T21:53:16.298418Z"
    },
    "colab": {},
    "colab_type": "code",
    "id": "pGT3lWf14iKM"
   },
   "outputs": [],
   "source": [
    "test=KNeighbors(5,distance)"
   ]
  },
  {
   "cell_type": "code",
   "execution_count": 47,
   "metadata": {
    "ExecuteTime": {
     "end_time": "2020-03-31T21:53:16.308393Z",
     "start_time": "2020-03-31T21:53:16.303406Z"
    },
    "colab": {},
    "colab_type": "code",
    "id": "DOnb_TmV4iKO"
   },
   "outputs": [],
   "source": [
    "test.fit(X,Y)"
   ]
  },
  {
   "cell_type": "markdown",
   "metadata": {
    "colab_type": "text",
    "id": "_hZYnA2W4iKQ"
   },
   "source": [
    "test_dataset"
   ]
  },
  {
   "cell_type": "code",
   "execution_count": 48,
   "metadata": {
    "ExecuteTime": {
     "end_time": "2020-03-31T21:53:16.315712Z",
     "start_time": "2020-03-31T21:53:16.310716Z"
    },
    "colab": {
     "base_uri": "https://localhost:8080/",
     "height": 34
    },
    "colab_type": "code",
    "executionInfo": {
     "elapsed": 593,
     "status": "ok",
     "timestamp": 1582559677455,
     "user": {
      "displayName": "Hanyu Wu",
      "photoUrl": "",
      "userId": "05588030028148674891"
     },
     "user_tz": 300
    },
    "id": "uBIZJYLU4iKQ",
    "outputId": "6cd1b133-ca38-4be2-b0ee-ae2891a4a193"
   },
   "outputs": [
    {
     "name": "stdout",
     "output_type": "stream",
     "text": [
      "total: 0.0 shape:  100\n"
     ]
    }
   ],
   "source": [
    "new_id = np.concatenate([idx_0[2500:2600], idx_1[500:520]], axis=0)\n",
    "np.random.shuffle(new_id)\n",
    "print(\"total:\", sum(label[new_id]), \"shape: \", len(new_id))"
   ]
  },
  {
   "cell_type": "code",
   "execution_count": 49,
   "metadata": {
    "ExecuteTime": {
     "end_time": "2020-03-31T21:53:16.320701Z",
     "start_time": "2020-03-31T21:53:16.316703Z"
    },
    "colab": {},
    "colab_type": "code",
    "id": "Ceaqv-w_4iKS"
   },
   "outputs": [],
   "source": [
    "test_X = [sequence_data[i] for i in new_id]\n",
    "test_Y = label[new_id]\n",
    "test_Y = test_Y.astype(\"int\")"
   ]
  },
  {
   "cell_type": "code",
   "execution_count": 50,
   "metadata": {
    "ExecuteTime": {
     "end_time": "2020-03-31T22:12:23.034749Z",
     "start_time": "2020-03-31T21:53:16.321689Z"
    },
    "colab": {},
    "colab_type": "code",
    "id": "gDeOIqku4iKU"
   },
   "outputs": [],
   "source": [
    "prob = test.predict_proba(test_X)"
   ]
  },
  {
   "cell_type": "code",
   "execution_count": 51,
   "metadata": {
    "ExecuteTime": {
     "end_time": "2020-03-31T22:12:23.050702Z",
     "start_time": "2020-03-31T22:12:23.035714Z"
    },
    "colab": {
     "base_uri": "https://localhost:8080/",
     "height": 88
    },
    "colab_type": "code",
    "executionInfo": {
     "elapsed": 44584,
     "status": "ok",
     "timestamp": 1582559722849,
     "user": {
      "displayName": "Hanyu Wu",
      "photoUrl": "",
      "userId": "05588030028148674891"
     },
     "user_tz": 300
    },
    "id": "tvoCqClL4iKZ",
    "outputId": "c0d72ae9-2fcb-4bfc-8130-70fa454bfced"
   },
   "outputs": [
    {
     "name": "stderr",
     "output_type": "stream",
     "text": [
      "C:\\Users\\Harry\\AppData\\Roaming\\Python\\Python37\\site-packages\\sklearn\\metrics\\_ranking.py:808: UndefinedMetricWarning: No positive samples in y_true, true positive value should be meaningless\n",
      "  UndefinedMetricWarning)\n"
     ]
    },
    {
     "data": {
      "text/plain": [
       "(1.4, nan)"
      ]
     },
     "execution_count": 51,
     "metadata": {},
     "output_type": "execute_result"
    }
   ],
   "source": [
    "get_KS(prob[:, 1], test_Y)"
   ]
  },
  {
   "cell_type": "code",
   "execution_count": null,
   "metadata": {
    "colab": {},
    "colab_type": "code",
    "id": "eA28i3SQ6E7S"
   },
   "outputs": [],
   "source": []
  }
 ],
 "metadata": {
  "colab": {
   "collapsed_sections": [
    "D9BK1Jfr4iJF"
   ],
   "name": "2.DTW_KNN.ipynb",
   "provenance": []
  },
  "kernelspec": {
   "display_name": "Python 3",
   "language": "python",
   "name": "python3"
  },
  "language_info": {
   "codemirror_mode": {
    "name": "ipython",
    "version": 3
   },
   "file_extension": ".py",
   "mimetype": "text/x-python",
   "name": "python",
   "nbconvert_exporter": "python",
   "pygments_lexer": "ipython3",
   "version": "3.7.7"
  },
  "toc": {
   "base_numbering": 1,
   "nav_menu": {},
   "number_sections": true,
   "sideBar": true,
   "skip_h1_title": false,
   "title_cell": "Table of Contents",
   "title_sidebar": "Contents",
   "toc_cell": false,
   "toc_position": {},
   "toc_section_display": true,
   "toc_window_display": false
  },
  "varInspector": {
   "cols": {
    "lenName": 16,
    "lenType": 16,
    "lenVar": 40
   },
   "kernels_config": {
    "python": {
     "delete_cmd_postfix": "",
     "delete_cmd_prefix": "del ",
     "library": "var_list.py",
     "varRefreshCmd": "print(var_dic_list())"
    },
    "r": {
     "delete_cmd_postfix": ") ",
     "delete_cmd_prefix": "rm(",
     "library": "var_list.r",
     "varRefreshCmd": "cat(var_dic_list()) "
    }
   },
   "types_to_exclude": [
    "module",
    "function",
    "builtin_function_or_method",
    "instance",
    "_Feature"
   ],
   "window_display": false
  }
 },
 "nbformat": 4,
 "nbformat_minor": 1
}
