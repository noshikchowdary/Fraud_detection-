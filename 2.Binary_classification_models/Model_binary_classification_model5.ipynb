{
 "cells": [
  {
   "cell_type": "markdown",
   "metadata": {},
   "source": [
    "# Model\n",
    "### Input:\n",
    "- sequential features with a shape of (60,17)\n",
    "- images feature (MTF along the features) with a shape of (31,31,1)\n",
    "- non-sequential features with a shape of (14,)\n",
    "\n",
    "#### Attention mechanism is applied in this model"
   ]
  },
  {
   "cell_type": "markdown",
   "metadata": {},
   "source": [
    "## Import data"
   ]
  },
  {
   "cell_type": "code",
   "execution_count": 1,
   "metadata": {},
   "outputs": [
    {
     "name": "stderr",
     "output_type": "stream",
     "text": [
      "Using TensorFlow backend.\n"
     ]
    }
   ],
   "source": [
    "import pandas as pd\n",
    "import numpy as np\n",
    "import json\n",
    "import keras\n",
    "from keras.models import Sequential,Model\n",
    "from keras.layers import Dense, Dropout, Flatten,concatenate,LSTM,Input,Bidirectional,BatchNormalization\n",
    "from keras.layers import Conv2D, MaxPooling2D,AveragePooling2D,Embedding,Masking\n",
    "from keras_self_attention import SeqSelfAttention\n",
    "from keras import backend as K\n",
    "import keras\n",
    "from keras import regularizers\n",
    "from tensorflow.keras import optimizers\n",
    "from tensorflow.keras import metrics"
   ]
  },
  {
   "cell_type": "code",
   "execution_count": 2,
   "metadata": {},
   "outputs": [],
   "source": [
    "with open('/home/yz3698/label.json') as f:\n",
    "    labels=json.load(f)\n",
    "with open('/home/yz3698/non_sequential_features.json') as f:\n",
    "    non_sequential_features=json.load(f)\n",
    "with open('/home/yz3698/padded_sequential_features_3.json') as f:\n",
    "    sequential_features=json.load(f)"
   ]
  },
  {
   "cell_type": "code",
   "execution_count": 3,
   "metadata": {},
   "outputs": [],
   "source": [
    "with open('featurematrix.json') as f:\n",
    "    arr_=json.load(f)\n",
    "arr_=np.array(arr_)"
   ]
  },
  {
   "cell_type": "markdown",
   "metadata": {},
   "source": [
    "## Preprocessing\n"
   ]
  },
  {
   "cell_type": "code",
   "execution_count": 4,
   "metadata": {},
   "outputs": [],
   "source": [
    "feature1=np.array([sequential_features[key] for key in sequential_features.keys()])\n",
    "feature2=np.array([non_sequential_features[key] for key in non_sequential_features.keys()])\n",
    "label=np.array([labels[key] for key in labels.keys()])"
   ]
  },
  {
   "cell_type": "code",
   "execution_count": 5,
   "metadata": {},
   "outputs": [
    {
     "data": {
      "text/plain": [
       "((149923, 31, 31), (149923, 60, 18), (149923, 14), (149923,))"
      ]
     },
     "execution_count": 5,
     "metadata": {},
     "output_type": "execute_result"
    }
   ],
   "source": [
    "arr_.shape,feature1.shape,feature2.shape,label.shape"
   ]
  },
  {
   "cell_type": "code",
   "execution_count": 6,
   "metadata": {},
   "outputs": [],
   "source": [
    "arr_=arr_.reshape(-1,31,31,1)\n",
    "feature_page=feature1[:,:,0]\n",
    "feature_page[feature_page==-1]=0\n",
    "feature_time_pid=feature1[:,:,[14,15,16,17]]\n",
    "from sklearn.model_selection import train_test_split\n",
    "X_train_arr, X_test_arr,X_train_page, X_test_page,X_train_f2, X_test_f2,X_train_time_pid, X_test_time_pid,y_train,y_test= train_test_split(\n",
    "    arr_,feature_page,feature2,feature_time_pid,label,\n",
    "    test_size=0.20, random_state=42)\n"
   ]
  },
  {
   "cell_type": "markdown",
   "metadata": {},
   "source": [
    "## Model building"
   ]
  },
  {
   "cell_type": "code",
   "execution_count": 7,
   "metadata": {
    "scrolled": true
   },
   "outputs": [
    {
     "name": "stdout",
     "output_type": "stream",
     "text": [
      "Model: \"model_1\"\n",
      "__________________________________________________________________________________________________\n",
      "Layer (type)                    Output Shape         Param #     Connected to                     \n",
      "==================================================================================================\n",
      "cnn_input (InputLayer)          (None, 31, 31, 1)    0                                            \n",
      "__________________________________________________________________________________________________\n",
      "batch_normalization_1 (BatchNor (None, 31, 31, 1)    4           cnn_input[0][0]                  \n",
      "__________________________________________________________________________________________________\n",
      "conv2d_1 (Conv2D)               (None, 31, 31, 2)    20          batch_normalization_1[0][0]      \n",
      "__________________________________________________________________________________________________\n",
      "batch_normalization_2 (BatchNor (None, 31, 31, 2)    8           conv2d_1[0][0]                   \n",
      "__________________________________________________________________________________________________\n",
      "max_pooling2d_1 (MaxPooling2D)  (None, 15, 15, 2)    0           batch_normalization_2[0][0]      \n",
      "__________________________________________________________________________________________________\n",
      "dropout_1 (Dropout)             (None, 15, 15, 2)    0           max_pooling2d_1[0][0]            \n",
      "__________________________________________________________________________________________________\n",
      "conv2d_2 (Conv2D)               (None, 15, 15, 2)    38          dropout_1[0][0]                  \n",
      "__________________________________________________________________________________________________\n",
      "batch_normalization_3 (BatchNor (None, 15, 15, 2)    8           conv2d_2[0][0]                   \n",
      "__________________________________________________________________________________________________\n",
      "rnn_input_pid (InputLayer)      (None, 60, 4)        0                                            \n",
      "__________________________________________________________________________________________________\n",
      "rnn_input_page (InputLayer)     (None, 60)           0                                            \n",
      "__________________________________________________________________________________________________\n",
      "dense_input (InputLayer)        (None, 14)           0                                            \n",
      "__________________________________________________________________________________________________\n",
      "average_pooling2d_1 (AveragePoo (None, 7, 7, 2)      0           batch_normalization_3[0][0]      \n",
      "__________________________________________________________________________________________________\n",
      "bidirectional_1 (Bidirectional) (None, 60, 16)       832         rnn_input_pid[0][0]              \n",
      "__________________________________________________________________________________________________\n",
      "embedding_1 (Embedding)         (None, 60, 4)        56          rnn_input_page[0][0]             \n",
      "__________________________________________________________________________________________________\n",
      "batch_normalization_4 (BatchNor (None, 14)           56          dense_input[0][0]                \n",
      "__________________________________________________________________________________________________\n",
      "dropout_2 (Dropout)             (None, 7, 7, 2)      0           average_pooling2d_1[0][0]        \n",
      "__________________________________________________________________________________________________\n",
      "seq_self_attention_1 (SeqSelfAt (None, 60, 16)       1089        bidirectional_1[0][0]            \n",
      "__________________________________________________________________________________________________\n",
      "bidirectional_2 (Bidirectional) (None, 60, 32)       2688        embedding_1[0][0]                \n",
      "__________________________________________________________________________________________________\n",
      "dense_1 (Dense)                 (None, 32)           480         batch_normalization_4[0][0]      \n",
      "__________________________________________________________________________________________________\n",
      "conv2d_3 (Conv2D)               (None, 5, 5, 1)      19          dropout_2[0][0]                  \n",
      "__________________________________________________________________________________________________\n",
      "dropout_3 (Dropout)             (None, 60, 16)       0           seq_self_attention_1[0][0]       \n",
      "__________________________________________________________________________________________________\n",
      "seq_self_attention_2 (SeqSelfAt (None, 60, 32)       2113        bidirectional_2[0][0]            \n",
      "__________________________________________________________________________________________________\n",
      "batch_normalization_5 (BatchNor (None, 32)           128         dense_1[0][0]                    \n",
      "__________________________________________________________________________________________________\n",
      "flatten_1 (Flatten)             (None, 25)           0           conv2d_3[0][0]                   \n",
      "__________________________________________________________________________________________________\n",
      "lstm_2 (LSTM)                   (None, 64)           20736       dropout_3[0][0]                  \n",
      "__________________________________________________________________________________________________\n",
      "lstm_4 (LSTM)                   (None, 16)           3136        seq_self_attention_2[0][0]       \n",
      "__________________________________________________________________________________________________\n",
      "dense_2 (Dense)                 (None, 16)           528         batch_normalization_5[0][0]      \n",
      "__________________________________________________________________________________________________\n",
      "concatenate_1 (Concatenate)     (None, 121)          0           flatten_1[0][0]                  \n",
      "                                                                 lstm_2[0][0]                     \n",
      "                                                                 lstm_4[0][0]                     \n",
      "                                                                 dense_2[0][0]                    \n",
      "__________________________________________________________________________________________________\n",
      "dense_4 (Dense)                 (None, 64)           7808        concatenate_1[0][0]              \n",
      "__________________________________________________________________________________________________\n",
      "batch_normalization_7 (BatchNor (None, 64)           256         dense_4[0][0]                    \n",
      "__________________________________________________________________________________________________\n",
      "dropout_5 (Dropout)             (None, 64)           0           batch_normalization_7[0][0]      \n",
      "__________________________________________________________________________________________________\n",
      "dense_5 (Dense)                 (None, 32)           2080        dropout_5[0][0]                  \n",
      "__________________________________________________________________________________________________\n",
      "output_layer (Dense)            (None, 1)            33          dense_5[0][0]                    \n",
      "==================================================================================================\n",
      "Total params: 42,116\n",
      "Trainable params: 41,886\n",
      "Non-trainable params: 230\n",
      "__________________________________________________________________________________________________\n",
      "Train on 107944 samples, validate on 11994 samples\n",
      "Epoch 1/200\n",
      "107944/107944 [==============================] - 97s 895us/step - loss: 0.5765 - accuracy: 0.9062 - auc: 0.5053 - val_loss: 0.6163 - val_accuracy: 0.9318 - val_auc: 0.5114\n",
      "Epoch 2/200\n",
      "107944/107944 [==============================] - 93s 858us/step - loss: 0.5427 - accuracy: 0.9313 - auc: 0.5178 - val_loss: 0.5551 - val_accuracy: 0.9318 - val_auc: 0.5219\n",
      "Epoch 3/200\n",
      "107944/107944 [==============================] - 92s 852us/step - loss: 0.5377 - accuracy: 0.9320 - auc: 0.5247 - val_loss: 0.5335 - val_accuracy: 0.9318 - val_auc: 0.5278\n",
      "Epoch 4/200\n",
      "107944/107944 [==============================] - 91s 848us/step - loss: 0.5343 - accuracy: 0.9322 - auc: 0.5306 - val_loss: 0.5309 - val_accuracy: 0.9318 - val_auc: 0.5330\n",
      "Epoch 5/200\n",
      "107944/107944 [==============================] - 92s 851us/step - loss: 0.5323 - accuracy: 0.9324 - auc: 0.5354 - val_loss: 0.5303 - val_accuracy: 0.9318 - val_auc: 0.5376\n",
      "Epoch 6/200\n",
      "107944/107944 [==============================] - 92s 848us/step - loss: 0.5292 - accuracy: 0.9324 - auc: 0.5399 - val_loss: 0.5290 - val_accuracy: 0.9318 - val_auc: 0.5421\n",
      "Epoch 7/200\n",
      "107944/107944 [==============================] - 91s 846us/step - loss: 0.5291 - accuracy: 0.9326 - auc: 0.5440 - val_loss: 0.5288 - val_accuracy: 0.9318 - val_auc: 0.5456\n",
      "Epoch 8/200\n",
      "107944/107944 [==============================] - 91s 842us/step - loss: 0.5288 - accuracy: 0.9325 - auc: 0.5469 - val_loss: 0.5279 - val_accuracy: 0.9318 - val_auc: 0.5482\n",
      "Epoch 9/200\n",
      "107944/107944 [==============================] - 91s 847us/step - loss: 0.5280 - accuracy: 0.9327 - auc: 0.5491 - val_loss: 0.5285 - val_accuracy: 0.9318 - val_auc: 0.5504\n",
      "Epoch 10/200\n",
      "107944/107944 [==============================] - 91s 844us/step - loss: 0.5280 - accuracy: 0.9326 - auc: 0.5515 - val_loss: 0.5264 - val_accuracy: 0.9318 - val_auc: 0.5522\n",
      "Epoch 11/200\n",
      "107944/107944 [==============================] - 91s 841us/step - loss: 0.5258 - accuracy: 0.9327 - auc: 0.5532 - val_loss: 0.5281 - val_accuracy: 0.9318 - val_auc: 0.5544\n",
      "Epoch 12/200\n",
      "107944/107944 [==============================] - 91s 846us/step - loss: 0.5261 - accuracy: 0.9326 - auc: 0.5552 - val_loss: 0.5269 - val_accuracy: 0.9318 - val_auc: 0.5561\n",
      "Epoch 13/200\n",
      "107944/107944 [==============================] - 90s 838us/step - loss: 0.5250 - accuracy: 0.9326 - auc: 0.5569 - val_loss: 0.5276 - val_accuracy: 0.9318 - val_auc: 0.5578\n",
      "Epoch 14/200\n",
      "107944/107944 [==============================] - 90s 837us/step - loss: 0.5258 - accuracy: 0.9327 - auc: 0.5584 - val_loss: 0.5268 - val_accuracy: 0.9317 - val_auc: 0.5591\n",
      "Epoch 15/200\n",
      "107944/107944 [==============================] - 91s 841us/step - loss: 0.5254 - accuracy: 0.9327 - auc: 0.5598 - val_loss: 0.5278 - val_accuracy: 0.9317 - val_auc: 0.5603\n",
      "Epoch 16/200\n",
      "107944/107944 [==============================] - 91s 845us/step - loss: 0.5250 - accuracy: 0.9327 - auc: 0.5609 - val_loss: 0.5283 - val_accuracy: 0.9318 - val_auc: 0.5614\n",
      "Epoch 17/200\n",
      "107944/107944 [==============================] - 90s 835us/step - loss: 0.5244 - accuracy: 0.9327 - auc: 0.5620 - val_loss: 0.5274 - val_accuracy: 0.9316 - val_auc: 0.5625\n",
      "Epoch 18/200\n",
      "107944/107944 [==============================] - 90s 835us/step - loss: 0.5239 - accuracy: 0.9327 - auc: 0.5631 - val_loss: 0.5285 - val_accuracy: 0.9315 - val_auc: 0.5636\n",
      "Epoch 19/200\n",
      "107944/107944 [==============================] - 91s 841us/step - loss: 0.5235 - accuracy: 0.9327 - auc: 0.5642 - val_loss: 0.5282 - val_accuracy: 0.9317 - val_auc: 0.5647\n",
      "Epoch 20/200\n",
      "107944/107944 [==============================] - 90s 835us/step - loss: 0.5229 - accuracy: 0.9327 - auc: 0.5652 - val_loss: 0.5272 - val_accuracy: 0.9316 - val_auc: 0.5658\n",
      "Epoch 00020: early stopping\n"
     ]
    },
    {
     "data": {
      "text/plain": [
       "<keras.callbacks.callbacks.History at 0x7fa75fbfbbd0>"
      ]
     },
     "execution_count": 7,
     "metadata": {},
     "output_type": "execute_result"
    }
   ],
   "source": [
    "# Input1: MTF along features, shape=batchsize*31*31*1\n",
    "input_fm=Input(shape=(31,31,1),name=\"cnn_input\")\n",
    "fm=BatchNormalization()(input_fm)\n",
    "cnn1=Conv2D(2, (3, 3), padding=\"same\",activation='relu')(fm)\n",
    "bn1=BatchNormalization()(cnn1)\n",
    "pool1=MaxPooling2D(pool_size=(3,3),strides=2)(bn1)\n",
    "pool1=Dropout(0.5)(pool1)\n",
    "cnn2=Conv2D(2, (3, 3), padding=\"same\",activation='relu')(pool1)\n",
    "bn2=BatchNormalization()(cnn2)\n",
    "pool2=AveragePooling2D(pool_size=(2,2),strides=2)(bn2)\n",
    "pool2=Dropout(0.5)(pool2)\n",
    "cnn3=Conv2D(1, (3, 3), padding=\"valid\",activation='relu')(pool2)\n",
    "fm_output=Flatten()(cnn3)\n",
    "\n",
    "\n",
    "# Input2: sequential features, shape= batchsize*60*4\n",
    "input_rnn_pid=Input(shape=(60,4),name=\"rnn_input_pid\")\n",
    "pid=Bidirectional(LSTM(8, activation='tanh', return_sequences=True))(input_rnn_pid)\n",
    "pid=SeqSelfAttention(attention_activation='tanh',attention_width=10)(pid)\n",
    "pid=Dropout(0.25)(pid)\n",
    "rnn_pid_output=LSTM(64, activation='tanh', return_sequences=False)(pid)\n",
    "#rnn_pid_output=Flatten()(pid)\n",
    "\n",
    "# Input2: sequential features,page type, shape= batchsize*60*1\n",
    "input_rnn_page=Input(shape=(60,),name=\"rnn_input_page\")\n",
    "page=Embedding(14,4,input_length=60)(input_rnn_page)\n",
    "page=Bidirectional(LSTM(16, activation='tanh', return_sequences=True))(page)\n",
    "page=SeqSelfAttention(attention_activation='tanh',attention_width=10)(page)\n",
    "rnn_page_output=LSTM(16, activation='tanh', return_sequences=False)(page)\n",
    "#rnn_page_output=Flatten()(page)\n",
    "\n",
    "\n",
    "# Input3: non-sequential features(user type and application time), shape=batchsize*14\n",
    "input_non_sequential=Input(shape=(14,),name=\"dense_input\")\n",
    "non_sequential=BatchNormalization()(input_non_sequential)\n",
    "non_sequential=Dense(32,activation=\"relu\")(non_sequential)\n",
    "non_sequential=BatchNormalization()(non_sequential)\n",
    "non_sequential_output=Dense(16,activation=\"relu\")(non_sequential)\n",
    "\n",
    "# Merge the above models\n",
    "merged = concatenate([fm_output,rnn_pid_output,rnn_page_output,non_sequential_output])\n",
    "combined=Dense(128,activation=\"relu\")(merged)\n",
    "combined=BatchNormalization()(combined)\n",
    "combined=Dropout(0.5)(combined)\n",
    "combined=Dense(64,activation=\"relu\")(merged)\n",
    "combined=BatchNormalization()(combined)\n",
    "combined=Dropout(0.2)(combined)\n",
    "combined=Dense(32,activation=\"relu\")(combined)\n",
    "out = Dense(1, activation='sigmoid', name='output_layer')(combined)\n",
    "\n",
    "model = Model(inputs=[input_fm,input_rnn_pid,input_rnn_page,input_non_sequential], outputs=[out])\n",
    "model.summary()\n",
    "ada=optimizers.Adam(learning_rate=0.0005)\n",
    "model.compile(loss='binary_crossentropy', optimizer=ada, metrics=['accuracy',metrics.AUC()]) #optimizer='rmsprop'\n",
    "from keras.callbacks import EarlyStopping\n",
    "early_stopping = EarlyStopping(monitor='val_loss', patience=10, verbose=2)\n",
    "\n",
    "model.fit([X_train_arr,X_train_time_pid,X_train_page,X_train_f2], [y_train],\n",
    "          epochs=200, batch_size=1024,\n",
    "          class_weight={0 : 1., 1: 3},\n",
    "          shuffle=True,\n",
    "          validation_split=0.1,\n",
    "          callbacks=[early_stopping])"
   ]
  },
  {
   "cell_type": "code",
   "execution_count": 8,
   "metadata": {},
   "outputs": [],
   "source": [
    "#model.save(\"multi_source_classifier_ks_point.h5\")"
   ]
  },
  {
   "cell_type": "markdown",
   "metadata": {},
   "source": [
    "## Model evaluation"
   ]
  },
  {
   "cell_type": "code",
   "execution_count": 10,
   "metadata": {
    "scrolled": true
   },
   "outputs": [
    {
     "data": {
      "image/png": "[encoded data removed]",
      "text/plain": [
       "<Figure size 432x288 with 1 Axes>"
      ]
     },
     "metadata": {
      "needs_background": "light"
     },
     "output_type": "display_data"
    },
    {
     "name": "stdout",
     "output_type": "stream",
     "text": [
      "0.17328835 0.12840138474769391\n"
     ]
    }
   ],
   "source": [
    "prediction=model.predict([X_test_arr,X_test_time_pid,X_test_page,X_test_f2])\n",
    "from sklearn.metrics import roc_curve, auc\n",
    "import matplotlib.pyplot as plt\n",
    "(fpr, tpr, thresholds) = roc_curve(y_test,prediction)\n",
    "area = auc(fpr,tpr)\n",
    "plt.clf() #Clear the current figure\n",
    "plt.plot(fpr,tpr,label=\"Out-Sample ROC Curve with \\\n",
    "         area = %1.2f\"%area)\n",
    "\n",
    "plt.plot([0, 1], [0, 1], 'k')\n",
    "plt.xlim([0.0, 1.0])\n",
    "plt.ylim([0.0, 1.0])\n",
    "plt.xlabel('False Positive Rate')\n",
    "plt.ylabel('True Positive Rate')\n",
    "plt.title('Out sample ROC')\n",
    "plt.legend(loc=\"lower right\")\n",
    "plt.show()\n",
    "\n",
    "def get_KS(y_prob,y_true):\n",
    "    fpr,tpr,threshold=roc_curve(y_true,y_prob)\n",
    "    ks=(tpr-fpr)\n",
    "    max_=np.argmax(ks)\n",
    "    \n",
    "    return threshold[max_],np.max(ks)\n",
    "threshold,ks=get_KS(prediction,y_test)\n",
    "print(threshold,ks)"
   ]
  }
 ],
 "metadata": {
  "kernelspec": {
   "display_name": "Python 3",
   "language": "python",
   "name": "python3"
  },
  "language_info": {
   "codemirror_mode": {
    "name": "ipython",
    "version": 3
   },
   "file_extension": ".py",
   "mimetype": "text/x-python",
   "name": "python",
   "nbconvert_exporter": "python",
   "pygments_lexer": "ipython3",
   "version": "3.7.7"
  },
  "toc": {
   "base_numbering": 1,
   "nav_menu": {},
   "number_sections": true,
   "sideBar": true,
   "skip_h1_title": false,
   "title_cell": "Table of Contents",
   "title_sidebar": "Contents",
   "toc_cell": false,
   "toc_position": {},
   "toc_section_display": true,
   "toc_window_display": false
  },
  "varInspector": {
   "cols": {
    "lenName": 16,
    "lenType": 16,
    "lenVar": 40
   },
   "kernels_config": {
    "python": {
     "delete_cmd_postfix": "",
     "delete_cmd_prefix": "del ",
     "library": "var_list.py",
     "varRefreshCmd": "print(var_dic_list())"
    },
    "r": {
     "delete_cmd_postfix": ") ",
     "delete_cmd_prefix": "rm(",
     "library": "var_list.r",
     "varRefreshCmd": "cat(var_dic_list()) "
    }
   },
   "types_to_exclude": [
    "module",
    "function",
    "builtin_function_or_method",
    "instance",
    "_Feature"
   ],
   "window_display": false
  }
 },
 "nbformat": 4,
 "nbformat_minor": 2
}
