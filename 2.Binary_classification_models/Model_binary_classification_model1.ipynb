{
 "cells": [
  {
   "cell_type": "markdown",
   "metadata": {
    "colab_type": "text",
    "id": "4sE5ns4rwhPA"
   },
   "source": [
    "# Data"
   ]
  },
  {
   "cell_type": "code",
   "execution_count": 1,
   "metadata": {
    "ExecuteTime": {
     "end_time": "2020-04-28T16:11:49.516449Z",
     "start_time": "2020-04-28T16:11:42.289140Z"
    },
    "code_folding": [],
    "colab": {},
    "colab_type": "code",
    "id": "Pu9yT-13whPD"
   },
   "outputs": [],
   "source": [
    "import pandas as pd\n",
    "import matplotlib.pyplot as plt\n",
    "import sklearn\n",
    "from sklearn.metrics import roc_curve\n",
    "import json\n",
    "import numpy as np\n",
    "import sklearn.preprocessing as pre\n",
    "# from fetch_data import get, get_KS\n",
    "import tensorflow.keras as keras\n",
    "from pyts.image import GramianAngularField as GAF\n",
    "from pyts.image import MarkovTransitionField as MTF\n",
    "from sklearn.metrics import auc, roc_curve\n",
    "from tensorflow.keras import metrics\n",
    "from tensorflow.keras.layers import Dense, Dropout, Embedding, LSTM, Bidirectional\n",
    "import pickle\n",
    "# package for GAF and MTF\n",
    "%matplotlib inline\n",
    "\n",
    "data_dir = '../../data/processed/'    "
   ]
  },
  {
   "cell_type": "code",
   "execution_count": 2,
   "metadata": {},
   "outputs": [],
   "source": [
    "def get(train_size, val_size, test_size):\n",
    "    '''\n",
    "    remember to adjust your file path\n",
    "    read the data for use\n",
    "    '''\n",
    "    data_dir = '../../data/processed/'\n",
    "    with open(data_dir+'label.json') as f:\n",
    "        label = json.load(f)\n",
    "    with open(data_dir+'non_sequential_features.json') as f:\n",
    "        non_sequential_features = json.load(f)\n",
    "    with open(data_dir+'features_sequential_embedded.json') as f:\n",
    "        sequential_features = json.load(f)\n",
    "\n",
    "    # with open(data_dir+'features_sequential_embedded.txt', \"rb\") as fp:   #Unpickling\n",
    "    #     feature1 = pickle.load(fp)\n",
    "\n",
    "    label_size = len(label)\n",
    "    train_size = int(train_size*label_size)\n",
    "    val_size = int(val_size*label_size)\n",
    "    test_size = int(test_size*label_size)\n",
    "    \n",
    "#     feature1 = np.array([sequential_features[key]\n",
    "#                          for key in sequential_features.keys()])\n",
    "    feature1 = np.array(feature1)\n",
    "    feature2 = np.array([non_sequential_features[key]\n",
    "                         for key in non_sequential_features.keys()])\n",
    "    label = np.array([label[key] for key in label.keys()])\n",
    "    feature1_benign = feature1[label == 1]\n",
    "    feature2_benign = feature2[label == 1]\n",
    "    label_benign = label[label == 1]\n",
    "\n",
    "    idx = np.arange(len(label))\n",
    "    np.random.shuffle(idx)\n",
    "\n",
    "    idx_train = idx[:train_size]\n",
    "    idx_val = idx[train_size:train_size+val_size]\n",
    "    idx_test = idx[train_size+val_size:train_size+val_size+test_size]\n",
    "\n",
    "    train_seq, val_seq, test_seq = feature1[idx_train], feature1[idx_val], feature1[idx_test]\n",
    "    train_non, val_non, test_non = feature2[idx_train], feature2[idx_val], feature2[idx_test]\n",
    "    train_Y, val_Y, test_Y = label[idx_train], label[idx_val], label[idx_test]\n",
    "\n",
    "    return (train_seq, train_non, train_Y), (val_seq, val_non, val_Y), (test_seq, test_non, test_Y)\n",
    "\n",
    "def get_KS(y_prob,y_true):\n",
    "    ''' \n",
    "    y_prob: the predict_proba from the model\n",
    "    y_true: the true label of Y\n",
    "    this one calculates the KS value for a model\n",
    "    return the best threshold, maximum ks\n",
    "    '''\n",
    "    from sklearn.metrics import roc_curve\n",
    "    fpr,tpr,threshold=roc_curve(y_true,y_prob)\n",
    "    ks=(tpr-fpr)\n",
    "    max_=np.argmax(ks)\n",
    "    \n",
    "    return threshold[max_],np.max(ks)"
   ]
  },
  {
   "cell_type": "code",
   "execution_count": 4,
   "metadata": {},
   "outputs": [],
   "source": [
    "data_dir = '../../data/processed/'\n",
    "with open(data_dir+'label.json') as f:\n",
    "    label = json.load(f)\n",
    "with open(data_dir+'non_sequential_features.json') as f:\n",
    "    non_sequential_features = json.load(f)\n",
    "with open(data_dir+'padded_sequential_features.json') as f:\n",
    "    sequential_features = json.load(f)\n",
    "\n",
    "# with open(data_dir+'features_sequential_embedded.txt', \"rb\") as fp:   #Unpickling\n",
    "#     feature1 = pickle.load(fp)\n",
    "\n",
    "label_size = len(label)\n",
    "train_size = int(train_size*label_size)\n",
    "val_size = int(val_size*label_size)\n",
    "test_size = int(test_size*label_size)\n",
    "\n",
    "#     feature1 = np.array([sequential_features[key]\n",
    "#                          for key in sequential_features.keys()])\n",
    "feature1 = np.array(feature1)\n",
    "feature2 = np.array([non_sequential_features[key]\n",
    "                     for key in non_sequential_features.keys()])\n",
    "label = np.array([label[key] for key in label.keys()])"
   ]
  },
  {
   "cell_type": "code",
   "execution_count": null,
   "metadata": {},
   "outputs": [],
   "source": []
  },
  {
   "cell_type": "code",
   "execution_count": 2,
   "metadata": {
    "ExecuteTime": {
     "end_time": "2020-04-28T04:51:48.282189Z",
     "start_time": "2020-04-28T04:51:39.483679Z"
    },
    "colab": {},
    "colab_type": "code",
    "id": "Eymjxkc2whPS"
   },
   "outputs": [],
   "source": [
    "# read the data and split into train, validation and test\n",
    "\n",
    "train, val, test = get(train_size=0.85, val_size=0.05, test_size=0.1)"
   ]
  },
  {
   "cell_type": "code",
   "execution_count": 3,
   "metadata": {
    "ExecuteTime": {
     "end_time": "2020-04-28T04:53:31.800917Z",
     "start_time": "2020-04-28T04:53:29.129772Z"
    }
   },
   "outputs": [
    {
     "name": "stdout",
     "output_type": "stream",
     "text": [
      "Default GPU Device: /device:GPU:0\n"
     ]
    }
   ],
   "source": [
    "import tensorflow as tf\n",
    "if tf.test.gpu_device_name():\n",
    "     print('Default GPU Device: {}'.format(tf.test.gpu_device_name()))\n",
    "else:\n",
    "     print(\"Please install GPU version of TF\")"
   ]
  },
  {
   "cell_type": "markdown",
   "metadata": {
    "colab_type": "text",
    "id": "nsUF1BoDwhPc"
   },
   "source": [
    "# CNN+LSTM"
   ]
  },
  {
   "cell_type": "code",
   "execution_count": 34,
   "metadata": {
    "ExecuteTime": {
     "end_time": "2020-04-28T05:56:04.963083Z",
     "start_time": "2020-04-28T05:56:04.958096Z"
    },
    "colab": {},
    "colab_type": "code",
    "id": "vyt57U46whPf"
   },
   "outputs": [
    {
     "data": {
      "text/plain": [
       "((127434, 20, 50), (127434, 14), (127434,))"
      ]
     },
     "execution_count": 34,
     "metadata": {},
     "output_type": "execute_result"
    }
   ],
   "source": [
    "#  the train set contains data for sequence, non_sequential data and labels\n",
    "train_seq, train_non, train_Y = train\n",
    "train_seq.shape, train_non.shape, train_Y .shape"
   ]
  },
  {
   "cell_type": "code",
   "execution_count": 35,
   "metadata": {
    "ExecuteTime": {
     "end_time": "2020-04-28T05:56:05.805236Z",
     "start_time": "2020-04-28T05:56:05.801230Z"
    },
    "colab": {},
    "colab_type": "code",
    "id": "azXnaJPPwhPq"
   },
   "outputs": [],
   "source": [
    "def non_onehot(data, size1):\n",
    "    '''\n",
    "    data: the data you need to use\n",
    "    size1: any number \n",
    "    in this trial, we only use the Onehotted data for training, \n",
    "    this function gets the labelized data out\n",
    "    '''\n",
    "    part1 = (data[:, :, 0]).copy()\n",
    "\n",
    "    part2 = (data[:, :, size1:]).copy()\n",
    "\n",
    "#     part1=np.argmax(part1,axis=-1)\n",
    "    part1 = part1[:, :, np.newaxis]\n",
    "\n",
    "    return data[:, :, 1:]"
   ]
  },
  {
   "cell_type": "code",
   "execution_count": 36,
   "metadata": {
    "ExecuteTime": {
     "end_time": "2020-04-28T05:56:06.437864Z",
     "start_time": "2020-04-28T05:56:06.425896Z"
    },
    "colab": {},
    "colab_type": "code",
    "id": "CmZIi2J-whPu"
   },
   "outputs": [],
   "source": [
    "t = pre.OneHotEncoder()\n",
    "train_Y = (t.fit_transform(train_Y[:, np.newaxis])).todense()\n",
    "# we will use binary_crossentropy loss in the following model, thus we will need to\n",
    "# one-hot the Y label."
   ]
  },
  {
   "cell_type": "code",
   "execution_count": 37,
   "metadata": {
    "ExecuteTime": {
     "end_time": "2020-04-28T05:56:07.150451Z",
     "start_time": "2020-04-28T05:56:07.146434Z"
    },
    "colab": {
     "base_uri": "https://localhost:8080/",
     "height": 34
    },
    "colab_type": "code",
    "executionInfo": {
     "elapsed": 4178,
     "status": "ok",
     "timestamp": 1582574198897,
     "user": {
      "displayName": "Hanyu Wu",
      "photoUrl": "",
      "userId": "05588030028148674891"
     },
     "user_tz": 300
    },
    "id": "Xx-bX82uwhP5",
    "outputId": "604ec2fc-3028-4c4e-f9ab-e7ffd1894812"
   },
   "outputs": [
    {
     "data": {
      "text/plain": [
       "((127434, 20, 50), (127434, 14), (127434, 2))"
      ]
     },
     "execution_count": 37,
     "metadata": {},
     "output_type": "execute_result"
    }
   ],
   "source": [
    "train_seq.shape, train_non.shape, train_Y.shape"
   ]
  },
  {
   "cell_type": "code",
   "execution_count": 38,
   "metadata": {
    "ExecuteTime": {
     "end_time": "2020-04-28T05:56:08.520952Z",
     "start_time": "2020-04-28T05:56:08.513995Z"
    },
    "colab": {
     "base_uri": "https://localhost:8080/",
     "height": 378
    },
    "colab_type": "code",
    "executionInfo": {
     "elapsed": 4312,
     "status": "error",
     "timestamp": 1582574199039,
     "user": {
      "displayName": "Hanyu Wu",
      "photoUrl": "",
      "userId": "05588030028148674891"
     },
     "user_tz": 300
    },
    "id": "c-uLLFf-whP-",
    "outputId": "36ee6196-5794-4242-868a-a5c61fffbf34"
   },
   "outputs": [
    {
     "data": {
      "text/plain": [
       "((7496, 20, 50), (7496, 14), (7496, 2))"
      ]
     },
     "execution_count": 38,
     "metadata": {},
     "output_type": "execute_result"
    }
   ],
   "source": [
    "val_seq, val_non, val_Y = val\n",
    "val_Y = (t.fit_transform(val_Y[:, np.newaxis])).todense()\n",
    "val_seq.shape, val_non.shape, val_Y.shape"
   ]
  },
  {
   "cell_type": "code",
   "execution_count": 39,
   "metadata": {
    "ExecuteTime": {
     "end_time": "2020-04-28T05:56:12.736907Z",
     "start_time": "2020-04-28T05:56:12.691030Z"
    },
    "colab": {},
    "colab_type": "code",
    "id": "ghNOb7CWwhQJ"
   },
   "outputs": [],
   "source": [
    "class CNN_LSTM:\n",
    "    def __init__(self, data, data_non_seq, features, bins_list, size, strategy, label):\n",
    "        '''\n",
    "        data: training data, sequential data\n",
    "        data_non_seq: training data, non_sequential data\n",
    "        bins_list: the bins you want for different features when generating MTF\n",
    "        features: the number of features you feed into the model\n",
    "        size: fig_size for MTF and GAF ( not apply in this project since we only use LSTM)\n",
    "        strategy: the strategy for generating MTF, usually use normal\n",
    "        label: the training label, Y\n",
    "        '''\n",
    "        self.size = size\n",
    "        self.strategy = strategy\n",
    "        self.true_features = features\n",
    "        self.bins_list = bins_list\n",
    "        self.label = label\n",
    "\n",
    "        self.auc_list = list()\n",
    "\n",
    "        tp_shape = data_non_seq.shape\n",
    "        self.non_seq_shape = (tp_shape[1],)\n",
    "#         non_seq_shape: for later use in the model for non_sequential data\n",
    "\n",
    "        testing = self.transform_used(\n",
    "            100, data, data_non_seq, label=self.label)\n",
    "        self.img_shape = (1, 2, 3)\n",
    "#         not useful in this project\n",
    "\n",
    "\n",
    "#         creating models and compile for training\n",
    "        self.CNN = self.CNN_()\n",
    "        self.LSTM = self.LSTM_()\n",
    "        self.non_sequential_NN = self.non_sequential_NN_()\n",
    "        self.complete_model = self.whole_model()\n",
    "\n",
    "        optimizer = keras.optimizers.Adam(lr=0.0002, beta_1=0.5)\n",
    "        self.CNN.trainable = True\n",
    "        self.LSTM.trainable = True\n",
    "        self.non_sequential_NN.trainable = True\n",
    "        self.complete_model.compile(\n",
    "            loss=\"binary_crossentropy\", optimizer=optimizer, metrics=['accuracy'])\n",
    "\n",
    "#         metrics : for storing the models. only when the model has higher KS and higher AUC in validation\n",
    "#         dataset, will we store the model for later use\n",
    "        self.metrics = [0, 0, 0, 0, 0]\n",
    "\n",
    "    def data_mtf(self, X, bins):\n",
    "        mtf = MTF(image_size=self.size, n_bins=bins, strategy=self.strategy)\n",
    "        mtf.fit(X)\n",
    "        return mtf\n",
    "\n",
    "    def data_gaf(self, X):\n",
    "        gaf = GAF(image_size=self.size)\n",
    "        gaf.fit(X)\n",
    "        return gaf\n",
    "\n",
    "    def transform_used(self, batch_size, data_used, data_non, label,\n",
    "                       random_or_not=True, train=True):\n",
    "        '''\n",
    "        data_used: sequentila data \n",
    "        data_non: non_sequential data\n",
    "        label: label for training\n",
    "        random_or_not:False, not random, True, will shuffle it. \n",
    "        this will be important when you are not training data. Since we will sometimes use this \n",
    "        function generating data for prediction. And the label will then can be randomly assigned\n",
    "        '''\n",
    "\n",
    "        X_train = data_used\n",
    "\n",
    "#         for epoch in range(epochs):\n",
    "        whole = len(X_train)//batch_size+(len(X_train) % batch_size != 0)\n",
    "        total_loss = 0\n",
    "\n",
    "        idx = np.arange(len(data_used))\n",
    "        if random_or_not:\n",
    "            np.random.shuffle(idx)\n",
    "        else:\n",
    "            pass\n",
    "\n",
    "        for step in range(whole):\n",
    "            imgs = X_train[idx[step*batch_size:(step+1)*batch_size]]\n",
    "#                 get the whole transformed_data\n",
    "\n",
    "            non_seq_data = data_non[idx[step*batch_size:(step+1)*batch_size]]\n",
    "            lstm_data = X_train[idx[step*batch_size:(step+1)*batch_size]]\n",
    "            return_label = label[idx[step*batch_size:(step+1)*batch_size]]\n",
    "\n",
    "            yield(non_seq_data, non_seq_data, lstm_data, return_label)\n",
    "\n",
    "    def CNN_(self):\n",
    "        '''\n",
    "        keras model. CNN\n",
    "        '''\n",
    "        dropout = 0.5\n",
    "        model = keras.Sequential()\n",
    "        model.add(keras.layers.Conv2D(filters=64, kernel_size=4, strides=2, padding='same', activation='relu',\n",
    "                                      input_shape=self.img_shape))\n",
    "        model.add(keras.layers.BatchNormalization(momentum=0.8))\n",
    "        model.add(keras.layers.ReLU())\n",
    "        model.add(keras.layers.Dropout(dropout))\n",
    "        model.add(keras.layers.AveragePooling2D(\n",
    "            pool_size=4, strides=(2, 2), padding='same'))\n",
    "\n",
    "        model.add(keras.layers.Conv2D(filters=16, kernel_size=2,\n",
    "                                      strides=2, padding='same', activation='relu'))\n",
    "        model.add(keras.layers.BatchNormalization(momentum=0.8))\n",
    "        model.add(keras.layers.ReLU())\n",
    "        model.add(keras.layers.Dropout(dropout))\n",
    "        model.add(keras.layers.AveragePooling2D(\n",
    "            pool_size=4, strides=(2, 2), padding='same'))\n",
    "\n",
    "        model.add(keras.layers.Flatten())\n",
    "        model.add(keras.layers.Dense(64, activation='relu'))\n",
    "\n",
    "        img = keras.Input(shape=self.img_shape)\n",
    "        val = model(img)\n",
    "\n",
    "        model.summary()\n",
    "        return keras.Model(img, val)\n",
    "\n",
    "    def LSTM_(self):\n",
    "        '''\n",
    "        LSTM keras model, try to handel original data     \n",
    "        adding 1-D convolution first, will probably catch the \n",
    "        '''\n",
    "        timesteps = 20\n",
    "        n_features = self.true_features\n",
    "        model = keras.Sequential()\n",
    "        model.add(keras.layers.Conv1D(filters=64, kernel_size=4, padding='same',\n",
    "                                      activation='relu', strides=1, input_shape=(timesteps, n_features)))\n",
    "\n",
    "        model.add(keras.layers.Bidirectional(keras.layers.LSTM(128, activation=\"tanh\",\n",
    "                                                               return_sequences=True)))\n",
    "#         model.add(Bidirectional(keras.layers.LSTM(128, activation=\"tanh\", return_sequences=True)))\n",
    "        model.add(keras.layers.BatchNormalization())\n",
    "        model.add(keras.layers.Activation(\"tanh\"))\n",
    "        model.add(keras.layers.Dropout(0.5))\n",
    "\n",
    "        model.add(keras.layers.Bidirectional(keras.layers.LSTM(\n",
    "            32, activation=\"tanh\", return_sequences=False)))\n",
    "        model.add(keras.layers.BatchNormalization())\n",
    "        model.add(keras.layers.Activation(\"tanh\"))\n",
    "        model.add(keras.layers.Dropout(0.5))\n",
    "        model.add(keras.layers.Flatten())\n",
    "        model.add(keras.layers.Dense(units=64, activation=\"relu\"))\n",
    "\n",
    "        inp = keras.Input(shape=(timesteps, n_features))\n",
    "        out = model(inp)\n",
    "        model.summary()\n",
    "        return keras.Model(inp, out)\n",
    "\n",
    "    def non_sequential_NN_(self):\n",
    "        '''\n",
    "        Neural network for NN\n",
    "        '''\n",
    "        dropout = 0.5\n",
    "        n_features = self.non_seq_shape\n",
    "        model = keras.Sequential()\n",
    "        model.add(keras.layers.Dense(\n",
    "            128, activation=\"relu\", input_shape=n_features))\n",
    "        model.add(keras.layers.BatchNormalization(momentum=0.8))\n",
    "        model.add(keras.layers.ReLU())\n",
    "        model.add(keras.layers.Dropout(dropout))\n",
    "\n",
    "        model.add(keras.layers.Dense(64, activation=\"relu\"))\n",
    "        model.add(keras.layers.BatchNormalization(momentum=0.8))\n",
    "        model.add(keras.layers.ReLU())\n",
    "        model.add(keras.layers.Dropout(dropout))\n",
    "\n",
    "#         model.add(keras.layers.Dense(32,activation=\"relu\"))\n",
    "\n",
    "        inp = keras.Input(shape=n_features)\n",
    "        out = model(inp)\n",
    "        model.summary()\n",
    "        return keras.Model(inp, out)\n",
    "\n",
    "    def whole_model(self):\n",
    "        '''\n",
    "        putting all models together\n",
    "\n",
    "        this model combine all the models together, One can easily add more or delete some model \n",
    "        out from here. \n",
    "\n",
    "        when you change the input or output model here, remember to correpondingly change the \n",
    "        input for function : transformed_used, model_predict and training. \n",
    "        only the input will need to modified. \n",
    "\n",
    "        '''\n",
    "        dropout = 0.5\n",
    "#         seq_inp=keras.Input(shape=self.img_shape)\n",
    "        non_inp = keras.Input(shape=self.non_seq_shape)\n",
    "        LSTM_inp = keras.Input(shape=(20, self.true_features))\n",
    "\n",
    "#         seq=self.CNN(seq_inp)\n",
    "        non_seq = self.non_sequential_NN(non_inp)\n",
    "        rnn = self.LSTM(LSTM_inp)\n",
    "\n",
    "#         model=keras.Sequential()\n",
    "        concat_ = keras.layers.concatenate([non_seq, rnn])\n",
    "#         concat_=non_seq\n",
    "        flat = keras.layers.Flatten()(concat_)\n",
    "        act1 = keras.layers.Dense(128, activation=\"relu\")(flat)\n",
    "        norm1 = keras.layers.BatchNormalization()(act1)\n",
    "        drop1 = keras.layers.Dropout(dropout)(norm1)\n",
    "\n",
    "#         act2=keras.layers.Dense(64,activation=\"relu\")(drop1)\n",
    "#         drop2=keras.layers.Dropout(dropout)(act2)\n",
    "\n",
    "        act3 = keras.layers.Dense(32, activation=\"relu\")(drop1)\n",
    "        norm3 = keras.layers.BatchNormalization()(act3)\n",
    "        drop4 = keras.layers.Dropout(dropout)(norm3)\n",
    "\n",
    "        out = keras.layers.Dense(2, activation=\"softmax\")(drop4)\n",
    "\n",
    "        model = keras.Model(inputs=[non_inp, LSTM_inp], outputs=out)\n",
    "        model.summary()\n",
    "        return model\n",
    "\n",
    "    def training(self, epochs, batch_size, show_epoch, data, data_non, label,\n",
    "                 val_seq, val_non, val_Y, path=None):\n",
    "        '''\n",
    "        for training the data;\n",
    "        epochs: \n",
    "        batch_size: when the data for a single user is big, please use a small batch\n",
    "        show_epoch\n",
    "        data: sequential data\n",
    "        data_non: non_sequential data\n",
    "        label\n",
    "        val_seq: sequential data in validation set\n",
    "        val_non\n",
    "        val_Y: Y, label in validation set\n",
    "        '''\n",
    "        data_used = data\n",
    "        for epoch in range(epochs):\n",
    "            gener = self.transform_used(batch_size, data, data_non, label)\n",
    "            whole = len(data_used)//batch_size + \\\n",
    "                (len(data_used) % batch_size != 0)\n",
    "            total_loss = 0\n",
    "            mean_accuracy = 0\n",
    "\n",
    "            for step in range(whole):\n",
    "                imgs, non_seq_data, lstm_data, label_batch = next(gener)\n",
    "                loss = self.complete_model.fit(\n",
    "                    [non_seq_data, lstm_data], label_batch, batch_size=batch_size, epochs=1, verbose=0)\n",
    "            if epoch % show_epoch == 0:\n",
    "                predict_prob, predict = self.model_predict(model=self.complete_model, data_seq=val_seq, data_non=val_non,\n",
    "                                                           batch_size=100)\n",
    "\n",
    "                val_acc = np.mean(predict == val_Y[:, 1])\n",
    "                _, val_KS = get_KS(predict_prob[:, 1], val_Y[:, 1])\n",
    "                fpr, tpr, threshold = roc_curve(\n",
    "                    val_Y[:, 1], predict_prob[:, 1])\n",
    "                val_auc = auc(fpr, tpr)\n",
    "                self.saver(name=\"../../data/models/binary_classification_model/\"+\"LSTM1FC1_show1_epoch\"+str(epoch)+\".h5\", model=self.complete_model,\n",
    "                           metrics=[val_KS, val_auc])\n",
    "                self.auc_list.append(val_auc)\n",
    "                print(\"training on epoch: {}, validation accuracy is {}\".format(\n",
    "                    epoch, val_acc))\n",
    "                print(\"training on epoch: {}, validation KS is {}\".format(\n",
    "                    epoch, val_KS))\n",
    "                print(\"training on epoch: {}, validation AUC is {}\".format(\n",
    "                    epoch, val_auc))\n",
    "                print(\"balance_status of validation set have {} of ones in val\".format(\n",
    "                    np.sum(val_Y[:, 1])/len(val_Y)))\n",
    "\n",
    "                fpr, tpr, threshold = roc_curve(\n",
    "                    val_Y[:, 1], predict_prob[:, 1])\n",
    "                plt.title('ROC')\n",
    "                plt.plot(fpr, tpr, 'b')\n",
    "                plt.legend(loc='lower right')\n",
    "                plt.plot([0, 1], [0, 1], 'r--')\n",
    "                plt.xlim([0, 1])\n",
    "                plt.ylim([0, 1])\n",
    "                plt.ylabel('True Positive Rate')\n",
    "                plt.xlabel('False Positive Rate')\n",
    "                plt.show()\n",
    "\n",
    "\n",
    "#                 a=self.sample_images(X=X,epoch=epoch)\n",
    "                print(\n",
    "                    \"------------generate form-------------------------------------------\")\n",
    "                print(\n",
    "                    \"--------------------------------------------------------------------\")\n",
    "\n",
    "    def saver(self, name, model, metrics=None):\n",
    "        '''\n",
    "        name: path you save the model\n",
    "        metrics: the baseline metrics you need to compare. when reach a model with nicer metrics, \n",
    "        will then save the model to the path\n",
    "        '''\n",
    "        if metrics == None:\n",
    "            model.save(name)\n",
    "        else:\n",
    "            if (metrics[0] > self.metrics[0]) and (metrics[1] > self.metrics[1]):\n",
    "                model.save(name)\n",
    "                self.metrics = metrics\n",
    "                print(\n",
    "                    \"-----------------------saving models------------------------------\")\n",
    "            else:\n",
    "                pass\n",
    "\n",
    "    def model_predict(self, model, data_seq, data_non, batch_size):\n",
    "        '''\n",
    "        return prediction for using batch_size\n",
    "        '''\n",
    "        fake_label = np.arange(len(data_non))\n",
    "        k = self.transform_used(batch_size, data_used=data_seq, data_non=data_non, label=fake_label,\n",
    "                                random_or_not=False, train=False)\n",
    "        store = []\n",
    "        for i in range(len(data_seq)//batch_size+(len(data_seq) % batch_size != 0)):\n",
    "\n",
    "            test_dataset = next(k)\n",
    "\n",
    "#             d0=test_dataset[0]\n",
    "            d1 = test_dataset[1]\n",
    "            d2 = test_dataset[2]\n",
    "#                     pay attention to the d1 d2 here. you need to adjust it\n",
    "            test_predict_prob = model.predict([d1, d2])\n",
    "            store.append(test_predict_prob)\n",
    "        store = np.concatenate(store)\n",
    "        prob = store\n",
    "        prediction = np.argmax(prob, axis=-1)\n",
    "        return prob, prediction"
   ]
  },
  {
   "cell_type": "code",
   "execution_count": null,
   "metadata": {
    "ExecuteTime": {
     "start_time": "2020-04-28T06:58:59.582Z"
    },
    "colab": {},
    "colab_type": "code",
    "id": "85mBeLYKwhQN"
   },
   "outputs": [
    {
     "name": "stdout",
     "output_type": "stream",
     "text": [
      "Model: \"sequential_30\"\n",
      "_________________________________________________________________\n",
      "Layer (type)                 Output Shape              Param #   \n",
      "=================================================================\n",
      "conv2d_20 (Conv2D)           (None, 1, 1, 64)          3136      \n",
      "_________________________________________________________________\n",
      "batch_normalization_80 (Batc (None, 1, 1, 64)          256       \n",
      "_________________________________________________________________\n",
      "re_lu_40 (ReLU)              (None, 1, 1, 64)          0         \n",
      "_________________________________________________________________\n",
      "dropout_80 (Dropout)         (None, 1, 1, 64)          0         \n",
      "_________________________________________________________________\n",
      "average_pooling2d_20 (Averag (None, 1, 1, 64)          0         \n",
      "_________________________________________________________________\n",
      "conv2d_21 (Conv2D)           (None, 1, 1, 16)          4112      \n",
      "_________________________________________________________________\n",
      "batch_normalization_81 (Batc (None, 1, 1, 16)          64        \n",
      "_________________________________________________________________\n",
      "re_lu_41 (ReLU)              (None, 1, 1, 16)          0         \n",
      "_________________________________________________________________\n",
      "dropout_81 (Dropout)         (None, 1, 1, 16)          0         \n",
      "_________________________________________________________________\n",
      "average_pooling2d_21 (Averag (None, 1, 1, 16)          0         \n",
      "_________________________________________________________________\n",
      "flatten_30 (Flatten)         (None, 16)                0         \n",
      "_________________________________________________________________\n",
      "dense_70 (Dense)             (None, 64)                1088      \n",
      "=================================================================\n",
      "Total params: 8,656\n",
      "Trainable params: 8,496\n",
      "Non-trainable params: 160\n",
      "_________________________________________________________________\n",
      "Model: \"sequential_31\"\n",
      "_________________________________________________________________\n",
      "Layer (type)                 Output Shape              Param #   \n",
      "=================================================================\n",
      "conv1d_10 (Conv1D)           (None, 20, 64)            12864     \n",
      "_________________________________________________________________\n",
      "bidirectional_20 (Bidirectio (None, 20, 256)           197632    \n",
      "_________________________________________________________________\n",
      "batch_normalization_82 (Batc (None, 20, 256)           1024      \n",
      "_________________________________________________________________\n",
      "activation_20 (Activation)   (None, 20, 256)           0         \n",
      "_________________________________________________________________\n",
      "dropout_82 (Dropout)         (None, 20, 256)           0         \n",
      "_________________________________________________________________\n",
      "bidirectional_21 (Bidirectio (None, 64)                73984     \n",
      "_________________________________________________________________\n",
      "batch_normalization_83 (Batc (None, 64)                256       \n",
      "_________________________________________________________________\n",
      "activation_21 (Activation)   (None, 64)                0         \n",
      "_________________________________________________________________\n",
      "dropout_83 (Dropout)         (None, 64)                0         \n",
      "_________________________________________________________________\n",
      "flatten_31 (Flatten)         (None, 64)                0         \n",
      "_________________________________________________________________\n",
      "dense_71 (Dense)             (None, 64)                4160      \n",
      "=================================================================\n",
      "Total params: 289,920\n",
      "Trainable params: 289,280\n",
      "Non-trainable params: 640\n",
      "_________________________________________________________________\n",
      "Model: \"sequential_32\"\n",
      "_________________________________________________________________\n",
      "Layer (type)                 Output Shape              Param #   \n",
      "=================================================================\n",
      "dense_72 (Dense)             (None, 128)               1920      \n",
      "_________________________________________________________________\n",
      "batch_normalization_84 (Batc (None, 128)               512       \n",
      "_________________________________________________________________\n",
      "re_lu_42 (ReLU)              (None, 128)               0         \n",
      "_________________________________________________________________\n",
      "dropout_84 (Dropout)         (None, 128)               0         \n",
      "_________________________________________________________________\n",
      "dense_73 (Dense)             (None, 64)                8256      \n",
      "_________________________________________________________________\n",
      "batch_normalization_85 (Batc (None, 64)                256       \n",
      "_________________________________________________________________\n",
      "re_lu_43 (ReLU)              (None, 64)                0         \n",
      "_________________________________________________________________\n",
      "dropout_85 (Dropout)         (None, 64)                0         \n",
      "=================================================================\n",
      "Total params: 10,944\n",
      "Trainable params: 10,560\n",
      "Non-trainable params: 384\n",
      "_________________________________________________________________\n",
      "Model: \"model_43\"\n",
      "__________________________________________________________________________________________________\n",
      "Layer (type)                    Output Shape         Param #     Connected to                     \n",
      "==================================================================================================\n",
      "input_54 (InputLayer)           [(None, 14)]         0                                            \n",
      "__________________________________________________________________________________________________\n",
      "input_55 (InputLayer)           [(None, 20, 50)]     0                                            \n",
      "__________________________________________________________________________________________________\n",
      "model_42 (Model)                (None, 64)           10944       input_54[0][0]                   \n",
      "__________________________________________________________________________________________________\n",
      "model_41 (Model)                (None, 64)           289920      input_55[0][0]                   \n",
      "__________________________________________________________________________________________________\n",
      "concatenate_10 (Concatenate)    (None, 128)          0           model_42[1][0]                   \n",
      "                                                                 model_41[1][0]                   \n",
      "__________________________________________________________________________________________________\n",
      "flatten_32 (Flatten)            (None, 128)          0           concatenate_10[0][0]             \n",
      "__________________________________________________________________________________________________\n",
      "dense_74 (Dense)                (None, 128)          16512       flatten_32[0][0]                 \n",
      "__________________________________________________________________________________________________\n",
      "batch_normalization_86 (BatchNo (None, 128)          512         dense_74[0][0]                   \n",
      "__________________________________________________________________________________________________\n",
      "dropout_86 (Dropout)            (None, 128)          0           batch_normalization_86[0][0]     \n",
      "__________________________________________________________________________________________________\n",
      "dense_75 (Dense)                (None, 32)           4128        dropout_86[0][0]                 \n",
      "__________________________________________________________________________________________________\n",
      "batch_normalization_87 (BatchNo (None, 32)           128         dense_75[0][0]                   \n",
      "__________________________________________________________________________________________________\n",
      "dropout_87 (Dropout)            (None, 32)           0           batch_normalization_87[0][0]     \n",
      "__________________________________________________________________________________________________\n",
      "dense_76 (Dense)                (None, 2)            66          dropout_87[0][0]                 \n",
      "==================================================================================================\n",
      "Total params: 322,210\n",
      "Trainable params: 320,866\n",
      "Non-trainable params: 1,344\n",
      "__________________________________________________________________________________________________\n"
     ]
    },
    {
     "name": "stderr",
     "output_type": "stream",
     "text": [
      "No handles with labels found to put in legend.\n"
     ]
    },
    {
     "name": "stdout",
     "output_type": "stream",
     "text": [
      "-----------------------saving models------------------------------\n",
      "training on epoch: 0, validation accuracy is 0.23832212469916364\n",
      "training on epoch: 0, validation KS is 0.03507439749778524\n",
      "training on epoch: 0, validation AUC is 0.5142375351682723\n",
      "balance_status of validation set have 0.06870330843116329 of ones in val\n"
     ]
    },
    {
     "data": {
      "image/png": "[encoded data removed]",
      "text/plain": [
       "<Figure size 432x288 with 1 Axes>"
      ]
     },
     "metadata": {
      "needs_background": "light"
     },
     "output_type": "display_data"
    },
    {
     "name": "stdout",
     "output_type": "stream",
     "text": [
      "------------generate form-------------------------------------------\n",
      "--------------------------------------------------------------------\n"
     ]
    },
    {
     "name": "stderr",
     "output_type": "stream",
     "text": [
      "No handles with labels found to put in legend.\n"
     ]
    },
    {
     "name": "stdout",
     "output_type": "stream",
     "text": [
      "training on epoch: 20, validation accuracy is 0.9312966915688368\n",
      "training on epoch: 20, validation KS is 0.019798815926168535\n",
      "training on epoch: 20, validation AUC is 0.49066676123681063\n",
      "balance_status of validation set have 0.06870330843116329 of ones in val\n"
     ]
    },
    {
     "data": {
      "image/png": "[encoded data removed]",
      "text/plain": [
       "<Figure size 432x288 with 1 Axes>"
      ]
     },
     "metadata": {
      "needs_background": "light"
     },
     "output_type": "display_data"
    },
    {
     "name": "stdout",
     "output_type": "stream",
     "text": [
      "------------generate form-------------------------------------------\n",
      "--------------------------------------------------------------------\n"
     ]
    },
    {
     "name": "stderr",
     "output_type": "stream",
     "text": [
      "No handles with labels found to put in legend.\n"
     ]
    },
    {
     "name": "stdout",
     "output_type": "stream",
     "text": [
      "-----------------------saving models------------------------------\n",
      "training on epoch: 40, validation accuracy is 0.9312966915688368\n",
      "training on epoch: 40, validation KS is 0.11381155229937567\n",
      "training on epoch: 40, validation AUC is 0.5625977862241897\n",
      "balance_status of validation set have 0.06870330843116329 of ones in val\n"
     ]
    },
    {
     "data": {
      "image/png": "[encoded data removed]",
      "text/plain": [
       "<Figure size 432x288 with 1 Axes>"
      ]
     },
     "metadata": {
      "needs_background": "light"
     },
     "output_type": "display_data"
    },
    {
     "name": "stdout",
     "output_type": "stream",
     "text": [
      "------------generate form-------------------------------------------\n",
      "--------------------------------------------------------------------\n"
     ]
    },
    {
     "name": "stderr",
     "output_type": "stream",
     "text": [
      "No handles with labels found to put in legend.\n"
     ]
    },
    {
     "name": "stdout",
     "output_type": "stream",
     "text": [
      "-----------------------saving models------------------------------\n",
      "training on epoch: 60, validation accuracy is 0.9312966915688368\n",
      "training on epoch: 60, validation KS is 0.13429488917908944\n",
      "training on epoch: 60, validation AUC is 0.5773825765635714\n",
      "balance_status of validation set have 0.06870330843116329 of ones in val\n"
     ]
    },
    {
     "data": {
      "image/png": "[encoded data removed]",
      "text/plain": [
       "<Figure size 432x288 with 1 Axes>"
      ]
     },
     "metadata": {
      "needs_background": "light"
     },
     "output_type": "display_data"
    },
    {
     "name": "stdout",
     "output_type": "stream",
     "text": [
      "------------generate form-------------------------------------------\n",
      "--------------------------------------------------------------------\n"
     ]
    },
    {
     "name": "stderr",
     "output_type": "stream",
     "text": [
      "No handles with labels found to put in legend.\n"
     ]
    },
    {
     "name": "stdout",
     "output_type": "stream",
     "text": [
      "training on epoch: 80, validation accuracy is 0.9312966915688368\n",
      "training on epoch: 80, validation KS is 0.130520427846457\n",
      "training on epoch: 80, validation AUC is 0.5756359494494766\n",
      "balance_status of validation set have 0.06870330843116329 of ones in val\n"
     ]
    },
    {
     "data": {
      "image/png": "[encoded data removed]",
      "text/plain": [
       "<Figure size 432x288 with 1 Axes>"
      ]
     },
     "metadata": {
      "needs_background": "light"
     },
     "output_type": "display_data"
    },
    {
     "name": "stdout",
     "output_type": "stream",
     "text": [
      "------------generate form-------------------------------------------\n",
      "--------------------------------------------------------------------\n"
     ]
    },
    {
     "name": "stderr",
     "output_type": "stream",
     "text": [
      "No handles with labels found to put in legend.\n"
     ]
    },
    {
     "name": "stdout",
     "output_type": "stream",
     "text": [
      "-----------------------saving models------------------------------\n",
      "training on epoch: 100, validation accuracy is 0.9312966915688368\n",
      "training on epoch: 100, validation KS is 0.13970513585418398\n",
      "training on epoch: 100, validation AUC is 0.5775547498550155\n",
      "balance_status of validation set have 0.06870330843116329 of ones in val\n"
     ]
    },
    {
     "data": {
      "image/png": "[encoded data removed]",
      "text/plain": [
       "<Figure size 432x288 with 1 Axes>"
      ]
     },
     "metadata": {
      "needs_background": "light"
     },
     "output_type": "display_data"
    },
    {
     "name": "stdout",
     "output_type": "stream",
     "text": [
      "------------generate form-------------------------------------------\n",
      "--------------------------------------------------------------------\n"
     ]
    },
    {
     "name": "stderr",
     "output_type": "stream",
     "text": [
      "No handles with labels found to put in legend.\n"
     ]
    },
    {
     "name": "stdout",
     "output_type": "stream",
     "text": [
      "-----------------------saving models------------------------------\n",
      "training on epoch: 120, validation accuracy is 0.9312966915688368\n",
      "training on epoch: 120, validation KS is 0.14250774988422107\n",
      "training on epoch: 120, validation AUC is 0.577848612669896\n",
      "balance_status of validation set have 0.06870330843116329 of ones in val\n"
     ]
    },
    {
     "data": {
      "image/png": "[encoded data removed]",
      "text/plain": [
       "<Figure size 432x288 with 1 Axes>"
      ]
     },
     "metadata": {
      "needs_background": "light"
     },
     "output_type": "display_data"
    },
    {
     "name": "stdout",
     "output_type": "stream",
     "text": [
      "------------generate form-------------------------------------------\n",
      "--------------------------------------------------------------------\n"
     ]
    },
    {
     "name": "stderr",
     "output_type": "stream",
     "text": [
      "No handles with labels found to put in legend.\n"
     ]
    },
    {
     "name": "stdout",
     "output_type": "stream",
     "text": [
      "training on epoch: 140, validation accuracy is 0.9312966915688368\n",
      "training on epoch: 140, validation KS is 0.14223739053158158\n",
      "training on epoch: 140, validation AUC is 0.578476947832049\n",
      "balance_status of validation set have 0.06870330843116329 of ones in val\n"
     ]
    },
    {
     "data": {
      "image/png": "[encoded data removed]",
      "text/plain": [
       "<Figure size 432x288 with 1 Axes>"
      ]
     },
     "metadata": {
      "needs_background": "light"
     },
     "output_type": "display_data"
    },
    {
     "name": "stdout",
     "output_type": "stream",
     "text": [
      "------------generate form-------------------------------------------\n",
      "--------------------------------------------------------------------\n"
     ]
    },
    {
     "name": "stderr",
     "output_type": "stream",
     "text": [
      "No handles with labels found to put in legend.\n"
     ]
    },
    {
     "name": "stdout",
     "output_type": "stream",
     "text": [
      "training on epoch: 160, validation accuracy is 0.9312966915688368\n",
      "training on epoch: 160, validation KS is 0.12842180509371487\n",
      "training on epoch: 160, validation AUC is 0.574865063702727\n",
      "balance_status of validation set have 0.06870330843116329 of ones in val\n"
     ]
    },
    {
     "data": {
      "image/png": "[encoded data removed]",
      "text/plain": [
       "<Figure size 432x288 with 1 Axes>"
      ]
     },
     "metadata": {
      "needs_background": "light"
     },
     "output_type": "display_data"
    },
    {
     "name": "stdout",
     "output_type": "stream",
     "text": [
      "------------generate form-------------------------------------------\n",
      "--------------------------------------------------------------------\n"
     ]
    }
   ],
   "source": [
    " with tf.device('/device:GPU:0'):\n",
    "    # CNN is not useful here\n",
    "    bins_list = [2, 2, 2, 2, 2, 2, 2, 2, 2, 2, 2, 2, 2, 10, 10, 10, 10, 10]\n",
    "    data = train_seq\n",
    "    data_non_seq = train_non\n",
    "    features = 50\n",
    "    size = 20\n",
    "    strategy = \"uniform\"\n",
    "    label = train_Y\n",
    "    test_model = CNN_LSTM(data=data, data_non_seq=data_non_seq, features=features, bins_list=bins_list,\n",
    "                      size=size, strategy=strategy, label=train_Y)\n",
    "    test_model.training(epochs=1000, batch_size=1000, show_epoch=20, data=data,\n",
    "                    data_non=data_non_seq, label=train_Y, val_seq=val_seq, val_non=val_non, val_Y=val_Y)\n",
    "# testing the data"
   ]
  },
  {
   "cell_type": "code",
   "execution_count": 64,
   "metadata": {
    "ExecuteTime": {
     "end_time": "2020-04-28T06:58:06.561131Z",
     "start_time": "2020-04-28T06:58:06.549164Z"
    },
    "colab": {},
    "colab_type": "code",
    "id": "-yKZ_Ha_whQT"
   },
   "outputs": [
    {
     "data": {
      "text/plain": [
       "0.576807844186477"
      ]
     },
     "execution_count": 64,
     "metadata": {},
     "output_type": "execute_result"
    }
   ],
   "source": [
    "test_seq, test_non, test_Y = test\n",
    "# test_seq = non_onehot(test_seq, 14)\n",
    "test_Y = (t.fit_transform(test_Y[:, np.newaxis])).todense()\n",
    "fpr, tpr, threshold = roc_curve(test_Y[:, 1], test_predict_prob[:, 1])\n",
    "test_auc = auc(fpr, tpr)\n",
    "test_auc"
   ]
  },
  {
   "cell_type": "code",
   "execution_count": 53,
   "metadata": {
    "ExecuteTime": {
     "end_time": "2020-04-28T06:57:12.817337Z",
     "start_time": "2020-04-28T06:57:12.813348Z"
    },
    "colab": {},
    "colab_type": "code",
    "id": "1k_cO300whQX"
   },
   "outputs": [],
   "source": [
    "# YY_prob.shape"
   ]
  },
  {
   "cell_type": "code",
   "execution_count": 54,
   "metadata": {
    "ExecuteTime": {
     "end_time": "2020-04-28T06:57:12.976910Z",
     "start_time": "2020-04-28T06:57:12.972921Z"
    },
    "colab": {},
    "colab_type": "code",
    "id": "76HaK3hOwhQZ"
   },
   "outputs": [],
   "source": [
    "# YY_prob=test_model.non_sequential_NN.predict(test_non)\n",
    "# np.sum(YY_prob,axis=-1)"
   ]
  },
  {
   "cell_type": "code",
   "execution_count": 55,
   "metadata": {
    "ExecuteTime": {
     "end_time": "2020-04-28T06:57:13.136660Z",
     "start_time": "2020-04-28T06:57:13.133698Z"
    },
    "colab": {},
    "colab_type": "code",
    "id": "0qZo3MYXwhQc"
   },
   "outputs": [],
   "source": [
    "# np.sum(YY_prob)"
   ]
  },
  {
   "cell_type": "code",
   "execution_count": 56,
   "metadata": {
    "ExecuteTime": {
     "end_time": "2020-04-28T06:57:13.304227Z",
     "start_time": "2020-04-28T06:57:13.301250Z"
    },
    "colab": {},
    "colab_type": "code",
    "id": "SQcycsKgwhQe"
   },
   "outputs": [
    {
     "data": {
      "text/plain": [
       "73338.695"
      ]
     },
     "execution_count": 56,
     "metadata": {},
     "output_type": "execute_result"
    }
   ],
   "source": [
    "73338.695"
   ]
  },
  {
   "cell_type": "code",
   "execution_count": 57,
   "metadata": {
    "ExecuteTime": {
     "end_time": "2020-04-28T06:57:13.473802Z",
     "start_time": "2020-04-28T06:57:13.470834Z"
    },
    "colab": {},
    "colab_type": "code",
    "id": "0IcWvtbVwhQh"
   },
   "outputs": [],
   "source": [
    "# YL_prob=test_model.LSTM.predict(test_seq)\n",
    "# np.sum(YL_prob,axis=-1)"
   ]
  },
  {
   "cell_type": "code",
   "execution_count": 58,
   "metadata": {
    "ExecuteTime": {
     "end_time": "2020-04-28T06:57:13.840526Z",
     "start_time": "2020-04-28T06:57:13.837506Z"
    },
    "colab": {},
    "colab_type": "code",
    "id": "ja-gsY1WwhQj"
   },
   "outputs": [],
   "source": [
    "# np.sum(YL_prob)"
   ]
  },
  {
   "cell_type": "code",
   "execution_count": null,
   "metadata": {
    "colab": {},
    "colab_type": "code",
    "id": "gR8WXuH2whQn"
   },
   "outputs": [],
   "source": []
  },
  {
   "cell_type": "code",
   "execution_count": 59,
   "metadata": {
    "ExecuteTime": {
     "end_time": "2020-04-28T06:57:17.859222Z",
     "start_time": "2020-04-28T06:57:14.605777Z"
    },
    "colab": {},
    "colab_type": "code",
    "id": "q00PPLKTwhQo"
   },
   "outputs": [
    {
     "data": {
      "text/plain": [
       "(0.9310965848452508, (0.05988114, 0.12243545213000012))"
      ]
     },
     "execution_count": 59,
     "metadata": {},
     "output_type": "execute_result"
    }
   ],
   "source": [
    "# test on the test dataset\n",
    "k = test_model.transform_used(500, data_used=test_seq, data_non=test_non, label=train_Y,\n",
    "                              random_or_not=False, train=False)\n",
    "store = []\n",
    "for i in range(len(test_seq)//500+(len(test_seq) % 500 != 0)):\n",
    "    test_dataset = next(k)\n",
    "    d1 = test_dataset[1]\n",
    "    d2 = test_dataset[2]\n",
    "    test_predict_prob = test_model.complete_model.predict([d1, d2])\n",
    "    store.append(test_predict_prob)\n",
    "store = np.concatenate(store, axis=0)\n",
    "test_predict_prob = store\n",
    "test_predict = np.argmax(test_predict_prob, axis=-1)\n",
    "acc = np.mean(test_predict == test_Y[:, 1])\n",
    "test_ks = get_KS(test_predict_prob[:, 1], test_Y[:, 1])\n",
    "acc, test_ks"
   ]
  },
  {
   "cell_type": "code",
   "execution_count": 61,
   "metadata": {
    "ExecuteTime": {
     "end_time": "2020-04-28T06:57:51.864070Z",
     "start_time": "2020-04-28T06:57:51.854097Z"
    },
    "colab": {},
    "colab_type": "code",
    "id": "VzeQatuFwhQq"
   },
   "outputs": [
    {
     "data": {
      "text/plain": [
       "0.576807844186477"
      ]
     },
     "execution_count": 61,
     "metadata": {},
     "output_type": "execute_result"
    }
   ],
   "source": [
    "fpr, tpr, threshold = roc_curve(test_Y[:, 1], test_predict_prob[:, 1])\n",
    "test_auc = auc(fpr, tpr)\n",
    "test_auc"
   ]
  },
  {
   "cell_type": "code",
   "execution_count": 62,
   "metadata": {
    "ExecuteTime": {
     "end_time": "2020-04-28T06:57:53.366598Z",
     "start_time": "2020-04-28T06:57:53.245888Z"
    },
    "colab": {},
    "colab_type": "code",
    "id": "JwQR-31ewhQt"
   },
   "outputs": [
    {
     "name": "stderr",
     "output_type": "stream",
     "text": [
      "No handles with labels found to put in legend.\n"
     ]
    },
    {
     "data": {
      "image/png": "[encoded data removed]",
      "text/plain": [
       "<Figure size 432x288 with 1 Axes>"
      ]
     },
     "metadata": {
      "needs_background": "light"
     },
     "output_type": "display_data"
    }
   ],
   "source": [
    "fpr, tpr, threshold = roc_curve(test_Y[:,1],test_predict_prob[:,1])                \n",
    "plt.title('ROC')\n",
    "plt.plot(fpr, tpr, 'b')\n",
    "plt.legend(loc = 'lower right')\n",
    "plt.plot([0, 1], [0, 1],'r--')\n",
    "plt.xlim([0, 1])\n",
    "plt.ylim([0, 1])\n",
    "plt.ylabel('True Positive Rate')\n",
    "plt.xlabel('False Positive Rate')\n",
    "plt.show()\n"
   ]
  },
  {
   "cell_type": "code",
   "execution_count": 1,
   "metadata": {
    "ExecuteTime": {
     "end_time": "2020-04-28T16:05:03.916896Z",
     "start_time": "2020-04-28T16:05:03.816135Z"
    },
    "colab": {},
    "colab_type": "code",
    "id": "ao-rxvkdwhQw"
   },
   "outputs": [],
   "source": []
  },
  {
   "cell_type": "code",
   "execution_count": null,
   "metadata": {},
   "outputs": [],
   "source": []
  }
 ],
 "metadata": {
  "colab": {
   "name": "3.Model_binary_classification_model1.ipynb",
   "provenance": []
  },
  "kernelspec": {
   "display_name": "Python 3",
   "language": "python",
   "name": "python3"
  },
  "language_info": {
   "codemirror_mode": {
    "name": "ipython",
    "version": 3
   },
   "file_extension": ".py",
   "mimetype": "text/x-python",
   "name": "python",
   "nbconvert_exporter": "python",
   "pygments_lexer": "ipython3",
   "version": "3.7.4"
  },
  "toc": {
   "base_numbering": 1,
   "nav_menu": {},
   "number_sections": true,
   "sideBar": true,
   "skip_h1_title": false,
   "title_cell": "Table of Contents",
   "title_sidebar": "Contents",
   "toc_cell": false,
   "toc_position": {},
   "toc_section_display": true,
   "toc_window_display": false
  },
  "varInspector": {
   "cols": {
    "lenName": 16,
    "lenType": 16,
    "lenVar": 40
   },
   "kernels_config": {
    "python": {
     "delete_cmd_postfix": "",
     "delete_cmd_prefix": "del ",
     "library": "var_list.py",
     "varRefreshCmd": "print(var_dic_list())"
    },
    "r": {
     "delete_cmd_postfix": ") ",
     "delete_cmd_prefix": "rm(",
     "library": "var_list.r",
     "varRefreshCmd": "cat(var_dic_list()) "
    }
   },
   "types_to_exclude": [
    "module",
    "function",
    "builtin_function_or_method",
    "instance",
    "_Feature"
   ],
   "window_display": false
  }
 },
 "nbformat": 4,
 "nbformat_minor": 1
}
