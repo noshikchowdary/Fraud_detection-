{
 "cells": [
  {
   "cell_type": "markdown",
   "metadata": {},
   "source": [
    "# Data"
   ]
  },
  {
   "cell_type": "code",
   "execution_count": 1,
   "metadata": {
    "ExecuteTime": {
     "end_time": "2020-04-01T02:15:19.325625Z",
     "start_time": "2020-04-01T02:15:17.431575Z"
    }
   },
   "outputs": [
    {
     "name": "stdout",
     "output_type": "stream",
     "text": [
      "No GPU found\n"
     ]
    }
   ],
   "source": [
    "import os\n",
    "import tensorflow as tf\n",
    "\n",
    "os.environ[\"CUDA_DEVICE_ORDER\"] = \"PCI_BUS_ID\"\n",
    "os.environ['CUDA_VISIBLE_DEVICES'] = '-1'\n",
    "\n",
    "if tf.test.gpu_device_name():\n",
    "    print('GPU found')\n",
    "else:\n",
    "    print(\"No GPU found\")"
   ]
  },
  {
   "cell_type": "code",
   "execution_count": 2,
   "metadata": {
    "ExecuteTime": {
     "end_time": "2020-04-01T02:15:20.100725Z",
     "start_time": "2020-04-01T02:15:19.326589Z"
    }
   },
   "outputs": [],
   "source": [
    "import pandas as pd\n",
    "import matplotlib.pyplot as plt\n",
    "from fetch_data import get, get_KS\n",
    "from sklearn.metrics import roc_curve\n",
    "import sklearn.preprocessing as pre\n",
    "import sklearn\n",
    "import numpy as np\n",
    "import tensorflow as tf\n",
    "import tensorflow.keras as keras\n",
    "from pyts.image import GramianAngularField as GAF\n",
    "from pyts.image import MarkovTransitionField as MTF\n",
    "from tensorflow.keras import metrics\n",
    "from sklearn.metrics import auc, roc_curve\n",
    "\n",
    "%matplotlib inline"
   ]
  },
  {
   "cell_type": "code",
   "execution_count": null,
   "metadata": {
    "ExecuteTime": {
     "end_time": "2020-04-01T02:14:33.413881Z",
     "start_time": "2020-04-01T02:14:33.349054Z"
    }
   },
   "outputs": [],
   "source": []
  },
  {
   "cell_type": "code",
   "execution_count": 3,
   "metadata": {
    "ExecuteTime": {
     "end_time": "2020-04-01T02:15:21.342407Z",
     "start_time": "2020-04-01T02:15:20.101719Z"
    }
   },
   "outputs": [],
   "source": [
    "# read the data and split into train, validation and test\n",
    "\n",
    "train, val, test = get(train_size=0.85, val_size=0.05, test_size=0.1)"
   ]
  },
  {
   "cell_type": "markdown",
   "metadata": {},
   "source": [
    "# KNN"
   ]
  },
  {
   "cell_type": "code",
   "execution_count": null,
   "metadata": {},
   "outputs": [],
   "source": []
  },
  {
   "cell_type": "code",
   "execution_count": null,
   "metadata": {},
   "outputs": [],
   "source": []
  },
  {
   "cell_type": "markdown",
   "metadata": {},
   "source": [
    "# CNN+LSTM"
   ]
  },
  {
   "cell_type": "code",
   "execution_count": 4,
   "metadata": {
    "ExecuteTime": {
     "end_time": "2020-04-01T02:15:21.346392Z",
     "start_time": "2020-04-01T02:15:21.343399Z"
    }
   },
   "outputs": [],
   "source": [
    "train_seq, train_non, train_Y = train"
   ]
  },
  {
   "cell_type": "code",
   "execution_count": 5,
   "metadata": {
    "ExecuteTime": {
     "end_time": "2020-04-01T02:15:21.391444Z",
     "start_time": "2020-04-01T02:15:21.347389Z"
    }
   },
   "outputs": [],
   "source": [
    "values=np.concatenate([np.unique(train_seq[:,:,0]),np.unique(train_seq[:,:,0])+100\\\n",
    "       ,np.unique(train_seq[:,:,0])+1000,np.unique(train_seq[:,:,0])+1100,np.unique(train_seq[:,:,0])-100\\\n",
    "                      ,np.unique(train_seq[:,:,0])-1000\\\n",
    "                      ,np.unique(train_seq[:,:,0])-1100],axis=0)"
   ]
  },
  {
   "cell_type": "code",
   "execution_count": 6,
   "metadata": {
    "ExecuteTime": {
     "end_time": "2020-04-01T02:15:21.400248Z",
     "start_time": "2020-04-01T02:15:21.392270Z"
    }
   },
   "outputs": [
    {
     "name": "stderr",
     "output_type": "stream",
     "text": [
      "C:\\Users\\Harry\\AppData\\Roaming\\Python\\Python37\\site-packages\\sklearn\\preprocessing\\_label.py:235: DataConversionWarning: A column-vector y was passed when a 1d array was expected. Please change the shape of y to (n_samples, ), for example using ravel().\n",
      "  y = column_or_1d(y, warn=True)\n"
     ]
    },
    {
     "data": {
      "text/plain": [
       "LabelEncoder()"
      ]
     },
     "execution_count": 6,
     "metadata": {},
     "output_type": "execute_result"
    }
   ],
   "source": [
    "fitter = pre.LabelEncoder()\n",
    "fitter.fit(values[:, np.newaxis])"
   ]
  },
  {
   "cell_type": "code",
   "execution_count": 7,
   "metadata": {
    "ExecuteTime": {
     "end_time": "2020-04-01T02:15:21.408226Z",
     "start_time": "2020-04-01T02:15:21.402243Z"
    }
   },
   "outputs": [
    {
     "data": {
      "text/plain": [
       "array([36, 37, 38, 39, 40, 41, 42, 43, 44, 45, 46, 47, 48, 49, 50, 51, 52,\n",
       "       53, 54, 55, 56, 57, 58, 59, 60, 61, 62, 63, 64, 65, 66, 67, 68, 69,\n",
       "       70, 71, 72, 73, 74, 75, 76, 77, 78, 79, 80, 81, 82, 83, 24, 25, 26,\n",
       "       27, 28, 29, 30, 31, 32, 33, 34, 35, 12, 13, 14, 15, 16, 17, 18, 19,\n",
       "       20, 21, 22, 23,  0,  1,  2,  3,  4,  5,  6,  7,  8,  9, 10, 11],\n",
       "      dtype=int64)"
      ]
     },
     "execution_count": 7,
     "metadata": {},
     "output_type": "execute_result"
    }
   ],
   "source": [
    "fitter.transform(values)"
   ]
  },
  {
   "cell_type": "code",
   "execution_count": 8,
   "metadata": {
    "ExecuteTime": {
     "end_time": "2020-04-01T02:15:21.414210Z",
     "start_time": "2020-04-01T02:15:21.410221Z"
    }
   },
   "outputs": [
    {
     "data": {
      "text/plain": [
       "<bound method LabelEncoder.transform of LabelEncoder()>"
      ]
     },
     "execution_count": 8,
     "metadata": {},
     "output_type": "execute_result"
    }
   ],
   "source": [
    "fitter.transform"
   ]
  },
  {
   "cell_type": "code",
   "execution_count": 9,
   "metadata": {
    "ExecuteTime": {
     "end_time": "2020-04-01T02:15:21.421193Z",
     "start_time": "2020-04-01T02:15:21.415229Z"
    }
   },
   "outputs": [],
   "source": [
    "def Labelhotter(data,fitter):\n",
    "    '''\n",
    "    combining pid, sid, page_type into one kind of label\n",
    "    combining together and then every value in the output represent a status of (page_type, pid, sid)\n",
    "    '''\n",
    "    trans=data[:,:,0]+data[:,:,-1]*1000+data[:,:,-2]*100\n",
    "    store=[]\n",
    "    for i in range(60):\n",
    "        store.append(np.array(fitter.transform(trans[:,i]))[:,np.newaxis])\n",
    "    store=np.concatenate(store,axis=1)\n",
    "    \n",
    "    \n",
    "    return np.concatenate([store[:,:,np.newaxis],data[:,:,14:-2]],axis=-1)"
   ]
  },
  {
   "cell_type": "code",
   "execution_count": 10,
   "metadata": {
    "ExecuteTime": {
     "end_time": "2020-04-01T02:15:21.431193Z",
     "start_time": "2020-04-01T02:15:21.422189Z"
    }
   },
   "outputs": [
    {
     "data": {
      "text/plain": [
       "(100, 60, 3)"
      ]
     },
     "execution_count": 10,
     "metadata": {},
     "output_type": "execute_result"
    }
   ],
   "source": [
    "Labelhotter(train_seq[:100],fitter=fitter).shape"
   ]
  },
  {
   "cell_type": "code",
   "execution_count": 11,
   "metadata": {
    "ExecuteTime": {
     "end_time": "2020-04-01T02:15:21.437188Z",
     "start_time": "2020-04-01T02:15:21.432163Z"
    }
   },
   "outputs": [],
   "source": [
    "def non_onehot(data,size):\n",
    "    return data\n",
    "t=pre.OneHotEncoder()\n",
    "train_Y=(t.fit_transform(train_Y[:,np.newaxis])).todense()"
   ]
  },
  {
   "cell_type": "code",
   "execution_count": 12,
   "metadata": {
    "ExecuteTime": {
     "end_time": "2020-04-01T02:15:21.440166Z",
     "start_time": "2020-04-01T02:15:21.438170Z"
    }
   },
   "outputs": [],
   "source": [
    "train_seq=non_onehot(train_seq,14)"
   ]
  },
  {
   "cell_type": "code",
   "execution_count": 13,
   "metadata": {
    "ExecuteTime": {
     "end_time": "2020-04-01T02:15:21.448123Z",
     "start_time": "2020-04-01T02:15:21.441138Z"
    }
   },
   "outputs": [
    {
     "data": {
      "text/plain": [
       "((3157, 60, 18), (3157, 14), (3157, 2))"
      ]
     },
     "execution_count": 13,
     "metadata": {},
     "output_type": "execute_result"
    }
   ],
   "source": [
    "train_seq.shape,train_non.shape,train_Y.shape"
   ]
  },
  {
   "cell_type": "code",
   "execution_count": null,
   "metadata": {},
   "outputs": [],
   "source": []
  },
  {
   "cell_type": "code",
   "execution_count": 14,
   "metadata": {
    "ExecuteTime": {
     "end_time": "2020-04-01T02:15:21.456099Z",
     "start_time": "2020-04-01T02:15:21.450116Z"
    }
   },
   "outputs": [
    {
     "data": {
      "text/plain": [
       "((185, 60, 18), (185, 14), (185, 2))"
      ]
     },
     "execution_count": 14,
     "metadata": {},
     "output_type": "execute_result"
    }
   ],
   "source": [
    "val_seq,val_non,val_Y=val\n",
    "val_seq=non_onehot(val_seq,14)\n",
    "val_Y=(t.fit_transform(val_Y[:,np.newaxis])).todense()\n",
    "val_seq.shape,val_non.shape,val_Y.shape"
   ]
  },
  {
   "cell_type": "code",
   "execution_count": null,
   "metadata": {
    "ExecuteTime": {
     "end_time": "2020-04-01T02:06:01.772595Z",
     "start_time": "2020-04-01T02:05:59.974658Z"
    }
   },
   "outputs": [],
   "source": []
  },
  {
   "cell_type": "code",
   "execution_count": null,
   "metadata": {
    "ExecuteTime": {
     "end_time": "2020-04-01T02:06:01.800511Z",
     "start_time": "2020-04-01T02:06:01.773581Z"
    }
   },
   "outputs": [],
   "source": []
  },
  {
   "cell_type": "code",
   "execution_count": null,
   "metadata": {
    "ExecuteTime": {
     "end_time": "2020-04-01T02:06:01.805525Z",
     "start_time": "2020-04-01T02:06:01.801508Z"
    }
   },
   "outputs": [],
   "source": []
  },
  {
   "cell_type": "code",
   "execution_count": 15,
   "metadata": {
    "ExecuteTime": {
     "end_time": "2020-04-01T02:15:21.500979Z",
     "start_time": "2020-04-01T02:15:21.457096Z"
    }
   },
   "outputs": [],
   "source": [
    "class CNN_LSTM:\n",
    "    def __init__(self,data,data_non_seq,features,bins_list,size,strategy,label,fitter,name=None):\n",
    "        '''\n",
    "        data: training data, sequential data\n",
    "        data_non_seq: training data, non_sequential data\n",
    "        bins_list: the bins you want for different features when generating MTF\n",
    "        features: the number of features you feed into the model\n",
    "        size: fig_size for MTF and GAF ( not apply in this project since we only use LSTM)\n",
    "        strategy: the strategy for generating MTF, usually use normal\n",
    "        label: the training label, Y\n",
    "        \n",
    "        Here, CNN_ stands for embedding\n",
    "        '''\n",
    "\n",
    "        self.size=size\n",
    "        self.strategy=strategy\n",
    "        self.true_features=features\n",
    "        self.bins_list=bins_list\n",
    "        self.label=label\n",
    "        self.fitter=fitter\n",
    "        \n",
    "        tp_shape=data_non_seq.shape\n",
    "        self.non_seq_shape=(tp_shape[1],)\n",
    "        \n",
    "        testing=self.transform_used(100,data,data_non_seq,label=self.label)\n",
    "        tp_shape=(next(testing)[0]).shape\n",
    "        self.img_shape=(tp_shape[1],)\n",
    "        \n",
    "        \n",
    "        self.CNN=self.CNN_embedding()\n",
    "        self.LSTM=self.LSTM_()\n",
    "        self.non_sequential_NN=self.non_sequential_NN_()\n",
    "        if name:\n",
    "            self.complete_model=keras.models.load_model(name)\n",
    "        else:    \n",
    "            self.complete_model=self.whole_model()\n",
    "            \n",
    "#         self.complete_model=self.whole_model()\n",
    "        \n",
    "        optimizer=keras.optimizers.Adam(lr=0.0002,beta_1=0.5)\n",
    "#         optimizer=keras.optimizers.Adagrad(learning_rate=0.0001)\n",
    "        self.CNN.trainable=True\n",
    "        self.LSTM.trainable=True\n",
    "        self.non_sequential_NN.trainable=True\n",
    "        self.complete_model.compile(loss=\"binary_crossentropy\",optimizer=optimizer,metrics=['accuracy'])\n",
    "\n",
    "#         metrics : for storing the models. only when the model has higher KS and higher AUC in validation \n",
    "#         dataset, will we store the model for later use        \n",
    "        self.metrics=[0,0,0,0,0]\n",
    "    \n",
    "    \n",
    "    \n",
    "    def transform_used(self,batch_size,data_used,data_non,label,\\\n",
    "                       random_or_not=True,train=True):\n",
    "        '''\n",
    "        data_used: sequentila data \n",
    "        data_non: non_sequential data\n",
    "        label: label for training\n",
    "        random_or_not:False, not random, True, will shuffle it. \n",
    "        this will be important when you are not training data. Since we will sometimes use this \n",
    "        function generating data for prediction. And the label will then can be randomly assigned\n",
    "        \n",
    "        output: data for embedding layer; non_sequential data, time-series data for LSTM, label \n",
    "        '''    \n",
    "        X_train=data_used\n",
    "\n",
    "#         for epoch in range(epochs):\n",
    "        whole=len(X_train)//batch_size+(len(X_train)%batch_size!=0)\n",
    "        total_loss=0\n",
    "        \n",
    "        idx=np.arange(len(data_used))\n",
    "        if random_or_not:\n",
    "            np.random.shuffle(idx)\n",
    "        else:\n",
    "            pass\n",
    "        for step in range(whole):\n",
    "            imgs=X_train[idx[step*batch_size:(step+1)*batch_size]]\n",
    "#                 get the whole transformed_data\n",
    "         \n",
    "            non_seq_data=data_non[idx[step*batch_size:(step+1)*batch_size]]\n",
    "        \n",
    "            using_data=X_train[idx[step*batch_size:(step+1)*batch_size]]\n",
    "            \n",
    "            data_seq_lstm=Labelhotter(using_data,self.fitter)\n",
    "            seq_data=data_seq_lstm[:,:,0]\n",
    "            lstm_data=using_data[:,:,1:]\n",
    "            \n",
    "            return_label=label[idx[step*batch_size:(step+1)*batch_size]]\n",
    "            \n",
    "            yield(seq_data,non_seq_data,lstm_data,return_label)\n",
    "\n",
    "    def CNN_embedding(self):\n",
    "        '''\n",
    "        keras model. CNN\n",
    "        '''\n",
    "        dropout=0.5\n",
    "        \n",
    "        model=keras.Sequential()\n",
    "        \n",
    "        model.add(keras.layers.Embedding(input_dim=84,output_dim=256,input_length=60,input_shape=self.img_shape\\\n",
    "                                        ,trainable=True))\n",
    "        model.add(keras.layers.Reshape((256,60,1)))\n",
    "        \n",
    "        model.add(keras.layers.Conv2D(filters=32,kernel_size=4,strides=(2,1),padding='same',activation='relu'))\n",
    "        model.add(keras.layers.AveragePooling2D(pool_size=4,strides=(2,1),padding='same'))        \n",
    "        model.add(keras.layers.Conv2D(filters=1,kernel_size=4,strides=(2,1),padding='same',activation='relu'))\n",
    "        model.add(keras.layers.AveragePooling2D(pool_size=4,strides=(2,1),padding='same'))\n",
    "        model.add(keras.layers.Reshape((16,60)))\n",
    "        \n",
    "        model.add(keras.layers.Bidirectional(keras.layers.LSTM(64, activation=\"tanh\",\\\n",
    "                                                                return_sequences=True)))\n",
    "        model.add(keras.layers.BatchNormalization())\n",
    "        model.add(keras.layers.Activation(\"tanh\"))\n",
    "        model.add(keras.layers.Dropout(0.5))\n",
    "                  \n",
    "        model.add(keras.layers.Bidirectional(keras.layers.LSTM(16, activation=\"tanh\", return_sequences=False)))\n",
    "        model.add(keras.layers.BatchNormalization())\n",
    "        model.add(keras.layers.Activation(\"tanh\"))\n",
    "        model.add(keras.layers.Dropout(0.5))\n",
    "        model.add(keras.layers.Flatten())\n",
    "        model.add(keras.layers.Dense(units=64,activation=\"relu\"))\n",
    "\n",
    "        img=keras.Input(shape=self.img_shape)\n",
    "        val=model(img)\n",
    "        \n",
    "        model.summary()\n",
    "        return keras.Model(img,val)\n",
    "            \n",
    "        \n",
    "    def LSTM_(self):\n",
    "        '''\n",
    "        LSTM keras model, try to handel original data     \n",
    "        adding 1-D convolution first\n",
    "        \n",
    "        \n",
    "        '''\n",
    "        from keras.layers import Dense, Dropout, Embedding, LSTM, Bidirectional\n",
    "        \n",
    "        timesteps=60\n",
    "        n_features=17\n",
    "        model=keras.Sequential()\n",
    "        model.add(keras.layers.Conv1D(filters=64,kernel_size=4,padding='same',activation='relu',strides=1\\\n",
    "                                     ,input_shape=(timesteps,n_features)))\n",
    "        model.add(keras.layers.Bidirectional(keras.layers.LSTM(64, activation=\"tanh\",\\\n",
    "                                                                return_sequences=True)))\n",
    "#         model.add(Bidirectional(keras.layers.LSTM(128, activation=\"tanh\", return_sequences=True)))\n",
    "        model.add(keras.layers.BatchNormalization())\n",
    "        model.add(keras.layers.Activation(\"tanh\"))\n",
    "        model.add(keras.layers.Dropout(0.5))\n",
    "                  \n",
    "        model.add(keras.layers.Bidirectional(keras.layers.LSTM(32, activation=\"tanh\", return_sequences=False)))\n",
    "        model.add(keras.layers.BatchNormalization())\n",
    "        model.add(keras.layers.Activation(\"tanh\"))\n",
    "        model.add(keras.layers.Dropout(0.5))\n",
    "        model.add(keras.layers.Flatten())\n",
    "        model.add(keras.layers.Dense(units=64,activation=\"relu\"))\n",
    "        \n",
    "        inp=keras.Input(shape=(timesteps,n_features))\n",
    "        out=model(inp)\n",
    "        model.summary()\n",
    "        return keras.Model(inp,out)\n",
    "    \n",
    "    \n",
    "        \n",
    "        \n",
    "    def non_sequential_NN_(self):\n",
    "        '''\n",
    "        Neural network for NN\n",
    "        '''\n",
    "        dropout=0.5\n",
    "        n_features=self.non_seq_shape\n",
    "        model=keras.Sequential()\n",
    "        model.add(keras.layers.Dense(128,activation=\"relu\",input_shape=n_features))\n",
    "        model.add(keras.layers.BatchNormalization(momentum=0.8))\n",
    "        model.add(keras.layers.ReLU())\n",
    "        model.add(keras.layers.Dropout(dropout))\n",
    "        \n",
    "        model.add(keras.layers.Dense(64,activation=\"relu\"))\n",
    "        model.add(keras.layers.BatchNormalization(momentum=0.8))\n",
    "        model.add(keras.layers.ReLU())\n",
    "        model.add(keras.layers.Dropout(dropout))\n",
    "        \n",
    "        model.add(keras.layers.Dense(64,activation=\"relu\"))\n",
    "#         \n",
    "        inp=keras.Input(shape=n_features)\n",
    "        out=model(inp)\n",
    "        model.summary()\n",
    "        return keras.Model(inp,out)\n",
    "        \n",
    "        \n",
    "    def whole_model(self):\n",
    "        '''\n",
    "        putting all models together\n",
    "        '''\n",
    "        dropout=0.5\n",
    "        seq_inp=keras.Input(shape=self.img_shape)\n",
    "        non_inp=keras.Input(shape=self.non_seq_shape)\n",
    "        LSTM_inp=keras.Input(shape=(60,17))\n",
    "        \n",
    "        seq=self.CNN(seq_inp)\n",
    "        non_seq=self.non_sequential_NN(non_inp)\n",
    "        rnn=self.LSTM(LSTM_inp)\n",
    "        \n",
    "#         model=keras.Sequential()\n",
    "        concat_=keras.layers.concatenate([seq,non_seq,rnn])\n",
    "#         concat_=non_seq\n",
    "        flat=keras.layers.Flatten()(concat_)\n",
    "        act1=keras.layers.Dense(128,activation=\"relu\")(flat)\n",
    "        norm1=keras.layers.BatchNormalization()(act1)\n",
    "        drop1=keras.layers.Dropout(dropout)(norm1)\n",
    "        \n",
    "#         act2=keras.layers.Dense(64,activation=\"relu\")(drop1)\n",
    "#         drop2=keras.layers.Dropout(dropout)(act2)\n",
    "        \n",
    "        act3=keras.layers.Dense(16,activation=\"relu\")(drop1)\n",
    "        norm3=keras.layers.BatchNormalization()(act3)\n",
    "        drop4=keras.layers.Dropout(dropout)(norm3)\n",
    "        \n",
    "        out=keras.layers.Dense(2,activation=\"softmax\")(drop4)\n",
    "        \n",
    "        model=keras.Model(inputs=[seq_inp,non_inp,LSTM_inp],outputs=out)\n",
    "        model.summary()\n",
    "        return model\n",
    "    \n",
    "    def training(self,epochs,batch_size,show_epoch,data,data_non,label,\\\n",
    "                 val_seq,val_non,val_Y,path=None):\n",
    "        \n",
    "        data_used=data\n",
    "        for epoch in range(epochs):\n",
    "            gener=self.transform_used(batch_size,data,data_non,label)\n",
    "            whole=len(data_used)//batch_size+(len(data_used)%batch_size!=0)\n",
    "            total_loss=0\n",
    "            mean_accuracy=0\n",
    "\n",
    "            for step in range(whole):\n",
    "                imgs,non_seq_data,lstm_data,label_batch=next(gener)\n",
    "                loss=self.complete_model.fit([imgs,non_seq_data,lstm_data],label_batch,batch_size=batch_size,epochs=1,verbose=0)\n",
    "#                 self.complete_model.train_on_batch()\n",
    "#                 total_loss+=(loss.loss[0]/whole)\n",
    "#                 mean_accuracy+=(loss.loss[1]/whole)\n",
    "\n",
    "            if epoch%show_epoch==0:\n",
    "                \n",
    "                predict_prob,predict=self.model_predict(model=self.complete_model,data_seq=val_seq,data_non=val_non,\\\n",
    "                                               batch_size=100)\n",
    "                val_acc=np.mean(predict==val_Y[:,1])\n",
    "                _,val_KS=get_KS(predict_prob[:,1],val_Y[:,1])\n",
    "                fpr,tpr,threshold=roc_curve(val_Y[:,1],predict_prob[:,1])\n",
    "                val_auc=auc(fpr,tpr)\n",
    "                self.saver(name=\"../../data/models/binary_classification_model/\"+\"embedding_LSTM_FC1_show1_epoch\"+str(epoch)+\".h5\",model=self.complete_model,\\\n",
    "                          metrics=[val_KS,val_auc])\n",
    "                \n",
    "#                 print(\"training on epoch: {}, loss is {}\".format(epoch,total_loss))\n",
    "#                 print(\"training on epoch: {}, accuracy is {}\".format(epoch,mean_accuracy))\n",
    "                print(\"training on epoch: {}, validation accuracy is {}\".format(epoch,val_acc))\n",
    "                print(\"training on epoch: {}, validation KS is {}\".format(epoch,val_KS))\n",
    "                print(\"training on epoch: {}, validation AUC is {}\".format(epoch,val_auc))\n",
    "                print(\"balance_status of validation set have {} of ones in val\".format(np.sum(val_Y[:,1])/len(val_Y)))\n",
    "                \n",
    "                fpr, tpr, threshold = roc_curve(val_Y[:,1],predict_prob[:,1])                \n",
    "                plt.title('ROC')\n",
    "                plt.plot(fpr, tpr, 'b')\n",
    "                plt.legend(loc = 'lower right')\n",
    "                plt.plot([0, 1], [0, 1],'r--')\n",
    "                plt.xlim([0, 1])\n",
    "                plt.ylim([0, 1])\n",
    "                plt.ylabel('True Positive Rate')\n",
    "                plt.xlabel('False Positive Rate')\n",
    "                plt.show()\n",
    "                \n",
    "                \n",
    "#                 a=self.sample_images(X=X,epoch=epoch)\n",
    "                print(\"------------generate form-------------------------------------------\")\n",
    "                print(\"--------------------------------------------------------------------\")\n",
    "                \n",
    "        \n",
    "    def saver(self,name,model,metrics=None):\n",
    "        if metrics==None:\n",
    "            model.save(name)\n",
    "        else:\n",
    "            if (metrics[0]>self.metrics[0]) and (metrics[1]>self.metrics[1]):\n",
    "                model.save(name)\n",
    "                self.metrics=metrics\n",
    "                print(\"-----------------------saving models------------------------------\")\n",
    "            else:\n",
    "                pass\n",
    "\n",
    "\n",
    "    def model_predict(self,model,data_seq,data_non,batch_size):\n",
    "        '''\n",
    "        return prediction for using batch_size\n",
    "        '''\n",
    "        fake_label=np.arange(len(data_non))\n",
    "        k=self.transform_used(batch_size,data_used=data_seq,data_non=data_non,label=fake_label,\\\n",
    "                             random_or_not=False,train=False)\n",
    "        store=[]\n",
    "        for i in range(len(data_seq)//batch_size+(len(data_seq)%batch_size!=0)):\n",
    "\n",
    "            test_dataset=next(k)\n",
    "            \n",
    "            d0=test_dataset[0]\n",
    "            d1=test_dataset[1]\n",
    "            d2=test_dataset[2]\n",
    "#                     pay attention to the d1 d2 here. you need to adjust it\n",
    "            test_predict_prob=model.predict([d0,d1,d2])\n",
    "            store.append(test_predict_prob)\n",
    "        store=np.concatenate(store)\n",
    "        prob=store\n",
    "        prediction=np.argmax(prob,axis=-1)\n",
    "        return prob,prediction        \n",
    "        \n",
    "        \n",
    "        \n",
    "        "
   ]
  },
  {
   "cell_type": "code",
   "execution_count": 16,
   "metadata": {
    "ExecuteTime": {
     "end_time": "2020-04-01T02:15:25.133011Z",
     "start_time": "2020-04-01T02:15:21.501977Z"
    }
   },
   "outputs": [
    {
     "name": "stdout",
     "output_type": "stream",
     "text": [
      "Model: \"sequential\"\n",
      "_________________________________________________________________\n",
      "Layer (type)                 Output Shape              Param #   \n",
      "=================================================================\n",
      "embedding (Embedding)        (None, 60, 256)           21504     \n",
      "_________________________________________________________________\n",
      "reshape (Reshape)            (None, 256, 60, 1)        0         \n",
      "_________________________________________________________________\n",
      "conv2d (Conv2D)              (None, 128, 60, 32)       544       \n",
      "_________________________________________________________________\n",
      "average_pooling2d (AveragePo (None, 64, 60, 32)        0         \n",
      "_________________________________________________________________\n",
      "conv2d_1 (Conv2D)            (None, 32, 60, 1)         513       \n",
      "_________________________________________________________________\n",
      "average_pooling2d_1 (Average (None, 16, 60, 1)         0         \n",
      "_________________________________________________________________\n",
      "reshape_1 (Reshape)          (None, 16, 60)            0         \n",
      "_________________________________________________________________\n",
      "bidirectional (Bidirectional (None, 16, 128)           64000     \n",
      "_________________________________________________________________\n",
      "batch_normalization (BatchNo (None, 16, 128)           512       \n",
      "_________________________________________________________________\n",
      "activation (Activation)      (None, 16, 128)           0         \n",
      "_________________________________________________________________\n",
      "dropout (Dropout)            (None, 16, 128)           0         \n",
      "_________________________________________________________________\n",
      "bidirectional_1 (Bidirection (None, 32)                18560     \n",
      "_________________________________________________________________\n",
      "batch_normalization_1 (Batch (None, 32)                128       \n",
      "_________________________________________________________________\n",
      "activation_1 (Activation)    (None, 32)                0         \n",
      "_________________________________________________________________\n",
      "dropout_1 (Dropout)          (None, 32)                0         \n",
      "_________________________________________________________________\n",
      "flatten (Flatten)            (None, 32)                0         \n",
      "_________________________________________________________________\n",
      "dense (Dense)                (None, 64)                2112      \n",
      "=================================================================\n",
      "Total params: 107,873\n",
      "Trainable params: 107,553\n",
      "Non-trainable params: 320\n",
      "_________________________________________________________________\n"
     ]
    },
    {
     "name": "stderr",
     "output_type": "stream",
     "text": [
      "Using TensorFlow backend.\n"
     ]
    },
    {
     "name": "stdout",
     "output_type": "stream",
     "text": [
      "Model: \"sequential_1\"\n",
      "_________________________________________________________________\n",
      "Layer (type)                 Output Shape              Param #   \n",
      "=================================================================\n",
      "conv1d (Conv1D)              (None, 60, 64)            4416      \n",
      "_________________________________________________________________\n",
      "bidirectional_2 (Bidirection (None, 60, 128)           66048     \n",
      "_________________________________________________________________\n",
      "batch_normalization_2 (Batch (None, 60, 128)           512       \n",
      "_________________________________________________________________\n",
      "activation_2 (Activation)    (None, 60, 128)           0         \n",
      "_________________________________________________________________\n",
      "dropout_2 (Dropout)          (None, 60, 128)           0         \n",
      "_________________________________________________________________\n",
      "bidirectional_3 (Bidirection (None, 64)                41216     \n",
      "_________________________________________________________________\n",
      "batch_normalization_3 (Batch (None, 64)                256       \n",
      "_________________________________________________________________\n",
      "activation_3 (Activation)    (None, 64)                0         \n",
      "_________________________________________________________________\n",
      "dropout_3 (Dropout)          (None, 64)                0         \n",
      "_________________________________________________________________\n",
      "flatten_1 (Flatten)          (None, 64)                0         \n",
      "_________________________________________________________________\n",
      "dense_1 (Dense)              (None, 64)                4160      \n",
      "=================================================================\n",
      "Total params: 116,608\n",
      "Trainable params: 116,224\n",
      "Non-trainable params: 384\n",
      "_________________________________________________________________\n",
      "Model: \"sequential_2\"\n",
      "_________________________________________________________________\n",
      "Layer (type)                 Output Shape              Param #   \n",
      "=================================================================\n",
      "dense_2 (Dense)              (None, 128)               1920      \n",
      "_________________________________________________________________\n",
      "batch_normalization_4 (Batch (None, 128)               512       \n",
      "_________________________________________________________________\n",
      "re_lu (ReLU)                 (None, 128)               0         \n",
      "_________________________________________________________________\n",
      "dropout_4 (Dropout)          (None, 128)               0         \n",
      "_________________________________________________________________\n",
      "dense_3 (Dense)              (None, 64)                8256      \n",
      "_________________________________________________________________\n",
      "batch_normalization_5 (Batch (None, 64)                256       \n",
      "_________________________________________________________________\n",
      "re_lu_1 (ReLU)               (None, 64)                0         \n",
      "_________________________________________________________________\n",
      "dropout_5 (Dropout)          (None, 64)                0         \n",
      "_________________________________________________________________\n",
      "dense_4 (Dense)              (None, 64)                4160      \n",
      "=================================================================\n",
      "Total params: 15,104\n",
      "Trainable params: 14,720\n",
      "Non-trainable params: 384\n",
      "_________________________________________________________________\n",
      "Model: \"model_3\"\n",
      "__________________________________________________________________________________________________\n",
      "Layer (type)                    Output Shape         Param #     Connected to                     \n",
      "==================================================================================================\n",
      "input_4 (InputLayer)            [(None, 60)]         0                                            \n",
      "__________________________________________________________________________________________________\n",
      "input_5 (InputLayer)            [(None, 14)]         0                                            \n",
      "__________________________________________________________________________________________________\n",
      "input_6 (InputLayer)            [(None, 60, 17)]     0                                            \n",
      "__________________________________________________________________________________________________\n",
      "model (Model)                   (None, 64)           107873      input_4[0][0]                    \n",
      "__________________________________________________________________________________________________\n",
      "model_2 (Model)                 (None, 64)           15104       input_5[0][0]                    \n",
      "__________________________________________________________________________________________________\n",
      "model_1 (Model)                 (None, 64)           116608      input_6[0][0]                    \n",
      "__________________________________________________________________________________________________\n",
      "concatenate (Concatenate)       (None, 192)          0           model[1][0]                      \n",
      "                                                                 model_2[1][0]                    \n",
      "                                                                 model_1[1][0]                    \n",
      "__________________________________________________________________________________________________\n",
      "flatten_2 (Flatten)             (None, 192)          0           concatenate[0][0]                \n",
      "__________________________________________________________________________________________________\n",
      "dense_5 (Dense)                 (None, 128)          24704       flatten_2[0][0]                  \n",
      "__________________________________________________________________________________________________\n",
      "batch_normalization_6 (BatchNor (None, 128)          512         dense_5[0][0]                    \n",
      "__________________________________________________________________________________________________\n",
      "dropout_6 (Dropout)             (None, 128)          0           batch_normalization_6[0][0]      \n",
      "__________________________________________________________________________________________________\n",
      "dense_6 (Dense)                 (None, 16)           2064        dropout_6[0][0]                  \n",
      "__________________________________________________________________________________________________\n",
      "batch_normalization_7 (BatchNor (None, 16)           64          dense_6[0][0]                    \n",
      "__________________________________________________________________________________________________\n",
      "dropout_7 (Dropout)             (None, 16)           0           batch_normalization_7[0][0]      \n",
      "__________________________________________________________________________________________________\n",
      "dense_7 (Dense)                 (None, 2)            34          dropout_7[0][0]                  \n",
      "==================================================================================================\n",
      "Total params: 266,963\n",
      "Trainable params: 265,587\n",
      "Non-trainable params: 1,376\n",
      "__________________________________________________________________________________________________\n"
     ]
    }
   ],
   "source": [
    "bins_list=[2,2,2,2,2,2,2,2,2,2,2,2,2,10,10,10,10,10]\n",
    "data=train_seq\n",
    "data_non_seq=train_non\n",
    "features=18\n",
    "size=60\n",
    "strategy=\"uniform\"\n",
    "label=train_Y\n",
    "test_model=CNN_LSTM(data=data,data_non_seq=data_non_seq,features=features,bins_list=bins_list,\\\n",
    "                    size=size,strategy=strategy,label=train_Y,fitter=fitter)"
   ]
  },
  {
   "cell_type": "code",
   "execution_count": null,
   "metadata": {},
   "outputs": [],
   "source": []
  },
  {
   "cell_type": "code",
   "execution_count": null,
   "metadata": {
    "ExecuteTime": {
     "start_time": "2020-04-01T02:15:17.447Z"
    }
   },
   "outputs": [
    {
     "name": "stderr",
     "output_type": "stream",
     "text": [
      "No handles with labels found to put in legend.\n"
     ]
    },
    {
     "name": "stdout",
     "output_type": "stream",
     "text": [
      "-----------------------saving models------------------------------\n",
      "training on epoch: 0, validation accuracy is 0.17589481373265156\n",
      "training on epoch: 0, validation KS is 0.038831360946745566\n",
      "training on epoch: 0, validation AUC is 0.38572485207100593\n",
      "balance_status of validation set have 0.08648648648648649 of ones in val\n"
     ]
    },
    {
     "data": {
      "image/png": "[encoded data removed]",
      "text/plain": [
       "<Figure size 432x288 with 1 Axes>"
      ]
     },
     "metadata": {
      "needs_background": "light"
     },
     "output_type": "display_data"
    },
    {
     "name": "stdout",
     "output_type": "stream",
     "text": [
      "------------generate form-------------------------------------------\n",
      "--------------------------------------------------------------------\n"
     ]
    },
    {
     "name": "stderr",
     "output_type": "stream",
     "text": [
      "No handles with labels found to put in legend.\n"
     ]
    },
    {
     "name": "stdout",
     "output_type": "stream",
     "text": [
      "-----------------------saving models------------------------------\n",
      "training on epoch: 2, validation accuracy is 0.09542731921110299\n",
      "training on epoch: 2, validation KS is 0.1024408284023669\n",
      "training on epoch: 2, validation AUC is 0.5262573964497042\n",
      "balance_status of validation set have 0.08648648648648649 of ones in val\n"
     ]
    },
    {
     "data": {
      "image/png": "[encoded data removed]",
      "text/plain": [
       "<Figure size 432x288 with 1 Axes>"
      ]
     },
     "metadata": {
      "needs_background": "light"
     },
     "output_type": "display_data"
    },
    {
     "name": "stdout",
     "output_type": "stream",
     "text": [
      "------------generate form-------------------------------------------\n",
      "--------------------------------------------------------------------\n"
     ]
    },
    {
     "name": "stderr",
     "output_type": "stream",
     "text": [
      "No handles with labels found to put in legend.\n"
     ]
    },
    {
     "name": "stdout",
     "output_type": "stream",
     "text": [
      "-----------------------saving models------------------------------\n",
      "training on epoch: 4, validation accuracy is 0.1937764791818846\n",
      "training on epoch: 4, validation KS is 0.19785502958579881\n",
      "training on epoch: 4, validation AUC is 0.5665680473372781\n",
      "balance_status of validation set have 0.08648648648648649 of ones in val\n"
     ]
    },
    {
     "data": {
      "image/png": "[encoded data removed]",
      "text/plain": [
       "<Figure size 432x288 with 1 Axes>"
      ]
     },
     "metadata": {
      "needs_background": "light"
     },
     "output_type": "display_data"
    },
    {
     "name": "stdout",
     "output_type": "stream",
     "text": [
      "------------generate form-------------------------------------------\n",
      "--------------------------------------------------------------------\n"
     ]
    },
    {
     "name": "stderr",
     "output_type": "stream",
     "text": [
      "No handles with labels found to put in legend.\n"
     ]
    },
    {
     "name": "stdout",
     "output_type": "stream",
     "text": [
      "-----------------------saving models------------------------------\n",
      "training on epoch: 6, validation accuracy is 0.2742439737034332\n",
      "training on epoch: 6, validation KS is 0.26886094674556216\n",
      "training on epoch: 6, validation AUC is 0.5702662721893491\n",
      "balance_status of validation set have 0.08648648648648649 of ones in val\n"
     ]
    },
    {
     "data": {
      "image/png": "[encoded data removed]",
      "text/plain": [
       "<Figure size 432x288 with 1 Axes>"
      ]
     },
     "metadata": {
      "needs_background": "light"
     },
     "output_type": "display_data"
    },
    {
     "name": "stdout",
     "output_type": "stream",
     "text": [
      "------------generate form-------------------------------------------\n",
      "--------------------------------------------------------------------\n"
     ]
    },
    {
     "name": "stderr",
     "output_type": "stream",
     "text": [
      "No handles with labels found to put in legend.\n"
     ]
    },
    {
     "name": "stdout",
     "output_type": "stream",
     "text": [
      "training on epoch: 8, validation accuracy is 0.2697735573411249\n",
      "training on epoch: 8, validation KS is 0.18602071005917165\n",
      "training on epoch: 8, validation AUC is 0.5673076923076923\n",
      "balance_status of validation set have 0.08648648648648649 of ones in val\n"
     ]
    },
    {
     "data": {
      "image/png": "[encoded data removed]",
      "text/plain": [
       "<Figure size 432x288 with 1 Axes>"
      ]
     },
     "metadata": {
      "needs_background": "light"
     },
     "output_type": "display_data"
    },
    {
     "name": "stdout",
     "output_type": "stream",
     "text": [
      "------------generate form-------------------------------------------\n",
      "--------------------------------------------------------------------\n"
     ]
    },
    {
     "name": "stderr",
     "output_type": "stream",
     "text": [
      "No handles with labels found to put in legend.\n"
     ]
    },
    {
     "name": "stdout",
     "output_type": "stream",
     "text": [
      "-----------------------saving models------------------------------\n",
      "training on epoch: 10, validation accuracy is 0.24295105916727538\n",
      "training on epoch: 10, validation KS is 0.3206360946745562\n",
      "training on epoch: 10, validation AUC is 0.6042899408284024\n",
      "balance_status of validation set have 0.08648648648648649 of ones in val\n"
     ]
    },
    {
     "data": {
      "image/png": "[encoded data removed]",
      "text/plain": [
       "<Figure size 432x288 with 1 Axes>"
      ]
     },
     "metadata": {
      "needs_background": "light"
     },
     "output_type": "display_data"
    },
    {
     "name": "stdout",
     "output_type": "stream",
     "text": [
      "------------generate form-------------------------------------------\n",
      "--------------------------------------------------------------------\n"
     ]
    },
    {
     "name": "stderr",
     "output_type": "stream",
     "text": [
      "No handles with labels found to put in legend.\n"
     ]
    },
    {
     "name": "stdout",
     "output_type": "stream",
     "text": [
      "-----------------------saving models------------------------------\n",
      "training on epoch: 12, validation accuracy is 0.24295105916727538\n",
      "training on epoch: 12, validation KS is 0.3443047337278107\n",
      "training on epoch: 12, validation AUC is 0.6183431952662722\n",
      "balance_status of validation set have 0.08648648648648649 of ones in val\n"
     ]
    },
    {
     "data": {
      "image/png": "[encoded data removed]",
      "text/plain": [
       "<Figure size 432x288 with 1 Axes>"
      ]
     },
     "metadata": {
      "needs_background": "light"
     },
     "output_type": "display_data"
    },
    {
     "name": "stdout",
     "output_type": "stream",
     "text": [
      "------------generate form-------------------------------------------\n",
      "--------------------------------------------------------------------\n"
     ]
    },
    {
     "name": "stderr",
     "output_type": "stream",
     "text": [
      "No handles with labels found to put in legend.\n"
     ]
    },
    {
     "name": "stdout",
     "output_type": "stream",
     "text": [
      "training on epoch: 14, validation accuracy is 0.26530314097881663\n",
      "training on epoch: 14, validation KS is 0.3206360946745562\n",
      "training on epoch: 14, validation AUC is 0.6161242603550295\n",
      "balance_status of validation set have 0.08648648648648649 of ones in val\n"
     ]
    },
    {
     "data": {
      "image/png": "[encoded data removed]",
      "text/plain": [
       "<Figure size 432x288 with 1 Axes>"
      ]
     },
     "metadata": {
      "needs_background": "light"
     },
     "output_type": "display_data"
    },
    {
     "name": "stdout",
     "output_type": "stream",
     "text": [
      "------------generate form-------------------------------------------\n",
      "--------------------------------------------------------------------\n"
     ]
    },
    {
     "name": "stderr",
     "output_type": "stream",
     "text": [
      "No handles with labels found to put in legend.\n"
     ]
    },
    {
     "name": "stdout",
     "output_type": "stream",
     "text": [
      "training on epoch: 16, validation accuracy is 0.25636230825420014\n",
      "training on epoch: 16, validation KS is 0.34097633136094674\n",
      "training on epoch: 16, validation AUC is 0.6246301775147929\n",
      "balance_status of validation set have 0.08648648648648649 of ones in val\n"
     ]
    },
    {
     "data": {
      "image/png": "[encoded data removed]",
      "text/plain": [
       "<Figure size 432x288 with 1 Axes>"
      ]
     },
     "metadata": {
      "needs_background": "light"
     },
     "output_type": "display_data"
    },
    {
     "name": "stdout",
     "output_type": "stream",
     "text": [
      "------------generate form-------------------------------------------\n",
      "--------------------------------------------------------------------\n"
     ]
    },
    {
     "name": "stderr",
     "output_type": "stream",
     "text": [
      "No handles with labels found to put in legend.\n"
     ]
    },
    {
     "name": "stdout",
     "output_type": "stream",
     "text": [
      "training on epoch: 18, validation accuracy is 0.2742439737034332\n",
      "training on epoch: 18, validation KS is 0.29363905325443784\n",
      "training on epoch: 18, validation AUC is 0.6083579881656804\n",
      "balance_status of validation set have 0.08648648648648649 of ones in val\n"
     ]
    },
    {
     "data": {
      "image/png": "[encoded data removed]",
      "text/plain": [
       "<Figure size 432x288 with 1 Axes>"
      ]
     },
     "metadata": {
      "needs_background": "light"
     },
     "output_type": "display_data"
    },
    {
     "name": "stdout",
     "output_type": "stream",
     "text": [
      "------------generate form-------------------------------------------\n",
      "--------------------------------------------------------------------\n"
     ]
    },
    {
     "name": "stderr",
     "output_type": "stream",
     "text": [
      "No handles with labels found to put in legend.\n"
     ]
    },
    {
     "name": "stdout",
     "output_type": "stream",
     "text": [
      "training on epoch: 20, validation accuracy is 0.32341855368882394\n",
      "training on epoch: 20, validation KS is 0.27588757396449703\n",
      "training on epoch: 20, validation AUC is 0.6013313609467456\n",
      "balance_status of validation set have 0.08648648648648649 of ones in val\n"
     ]
    },
    {
     "data": {
      "image/png": "[encoded data removed]",
      "text/plain": [
       "<Figure size 432x288 with 1 Axes>"
      ]
     },
     "metadata": {
      "needs_background": "light"
     },
     "output_type": "display_data"
    },
    {
     "name": "stdout",
     "output_type": "stream",
     "text": [
      "------------generate form-------------------------------------------\n",
      "--------------------------------------------------------------------\n"
     ]
    },
    {
     "name": "stderr",
     "output_type": "stream",
     "text": [
      "No handles with labels found to put in legend.\n"
     ]
    },
    {
     "name": "stdout",
     "output_type": "stream",
     "text": [
      "training on epoch: 22, validation accuracy is 0.28765522279035793\n",
      "training on epoch: 22, validation KS is 0.3291420118343195\n",
      "training on epoch: 22, validation AUC is 0.613905325443787\n",
      "balance_status of validation set have 0.08648648648648649 of ones in val\n"
     ]
    },
    {
     "data": {
      "image/png": "[encoded data removed]",
      "text/plain": [
       "<Figure size 432x288 with 1 Axes>"
      ]
     },
     "metadata": {
      "needs_background": "light"
     },
     "output_type": "display_data"
    },
    {
     "name": "stdout",
     "output_type": "stream",
     "text": [
      "------------generate form-------------------------------------------\n",
      "--------------------------------------------------------------------\n"
     ]
    },
    {
     "name": "stderr",
     "output_type": "stream",
     "text": [
      "No handles with labels found to put in legend.\n"
     ]
    },
    {
     "name": "stdout",
     "output_type": "stream",
     "text": [
      "training on epoch: 24, validation accuracy is 0.3189481373265157\n",
      "training on epoch: 24, validation KS is 0.2640532544378698\n",
      "training on epoch: 24, validation AUC is 0.6020710059171598\n",
      "balance_status of validation set have 0.08648648648648649 of ones in val\n"
     ]
    },
    {
     "data": {
      "image/png": "[encoded data removed]",
      "text/plain": [
       "<Figure size 432x288 with 1 Axes>"
      ]
     },
     "metadata": {
      "needs_background": "light"
     },
     "output_type": "display_data"
    },
    {
     "name": "stdout",
     "output_type": "stream",
     "text": [
      "------------generate form-------------------------------------------\n",
      "--------------------------------------------------------------------\n"
     ]
    },
    {
     "name": "stderr",
     "output_type": "stream",
     "text": [
      "No handles with labels found to put in legend.\n"
     ]
    },
    {
     "name": "stdout",
     "output_type": "stream",
     "text": [
      "training on epoch: 26, validation accuracy is 0.34577063550036524\n",
      "training on epoch: 26, validation KS is 0.27255917159763315\n",
      "training on epoch: 26, validation AUC is 0.6005917159763313\n",
      "balance_status of validation set have 0.08648648648648649 of ones in val\n"
     ]
    },
    {
     "data": {
      "image/png": "[encoded data removed]",
      "text/plain": [
       "<Figure size 432x288 with 1 Axes>"
      ]
     },
     "metadata": {
      "needs_background": "light"
     },
     "output_type": "display_data"
    },
    {
     "name": "stdout",
     "output_type": "stream",
     "text": [
      "------------generate form-------------------------------------------\n",
      "--------------------------------------------------------------------\n"
     ]
    },
    {
     "name": "stderr",
     "output_type": "stream",
     "text": [
      "No handles with labels found to put in legend.\n"
     ]
    },
    {
     "name": "stdout",
     "output_type": "stream",
     "text": [
      "training on epoch: 28, validation accuracy is 0.394945215485756\n",
      "training on epoch: 28, validation KS is 0.21338757396449703\n",
      "training on epoch: 28, validation AUC is 0.5813609467455622\n",
      "balance_status of validation set have 0.08648648648648649 of ones in val\n"
     ]
    },
    {
     "data": {
      "image/png": "[encoded data removed]",
      "text/plain": [
       "<Figure size 432x288 with 1 Axes>"
      ]
     },
     "metadata": {
      "needs_background": "light"
     },
     "output_type": "display_data"
    },
    {
     "name": "stdout",
     "output_type": "stream",
     "text": [
      "------------generate form-------------------------------------------\n",
      "--------------------------------------------------------------------\n"
     ]
    },
    {
     "name": "stderr",
     "output_type": "stream",
     "text": [
      "No handles with labels found to put in legend.\n"
     ]
    },
    {
     "name": "stdout",
     "output_type": "stream",
     "text": [
      "training on epoch: 30, validation accuracy is 0.4172972972972973\n",
      "training on epoch: 30, validation KS is 0.26072485207100593\n",
      "training on epoch: 30, validation AUC is 0.5891272189349113\n",
      "balance_status of validation set have 0.08648648648648649 of ones in val\n"
     ]
    },
    {
     "data": {
      "image/png": "[encoded data removed]",
      "text/plain": [
       "<Figure size 432x288 with 1 Axes>"
      ]
     },
     "metadata": {
      "needs_background": "light"
     },
     "output_type": "display_data"
    },
    {
     "name": "stdout",
     "output_type": "stream",
     "text": [
      "------------generate form-------------------------------------------\n",
      "--------------------------------------------------------------------\n"
     ]
    },
    {
     "name": "stderr",
     "output_type": "stream",
     "text": [
      "No handles with labels found to put in legend.\n"
     ]
    },
    {
     "name": "stdout",
     "output_type": "stream",
     "text": [
      "training on epoch: 32, validation accuracy is 0.47094229364499635\n",
      "training on epoch: 32, validation KS is 0.20968934911242598\n",
      "training on epoch: 32, validation AUC is 0.5706360946745561\n",
      "balance_status of validation set have 0.08648648648648649 of ones in val\n"
     ]
    },
    {
     "data": {
      "image/png": "[encoded data removed]",
      "text/plain": [
       "<Figure size 432x288 with 1 Axes>"
      ]
     },
     "metadata": {
      "needs_background": "light"
     },
     "output_type": "display_data"
    },
    {
     "name": "stdout",
     "output_type": "stream",
     "text": [
      "------------generate form-------------------------------------------\n",
      "--------------------------------------------------------------------\n"
     ]
    },
    {
     "name": "stderr",
     "output_type": "stream",
     "text": [
      "No handles with labels found to put in legend.\n"
     ]
    },
    {
     "name": "stdout",
     "output_type": "stream",
     "text": [
      "training on epoch: 34, validation accuracy is 0.5558802045288532\n",
      "training on epoch: 34, validation KS is 0.19785502958579881\n",
      "training on epoch: 34, validation AUC is 0.558801775147929\n",
      "balance_status of validation set have 0.08648648648648649 of ones in val\n"
     ]
    },
    {
     "data": {
      "image/png": "[encoded data removed]",
      "text/plain": [
       "<Figure size 432x288 with 1 Axes>"
      ]
     },
     "metadata": {
      "needs_background": "light"
     },
     "output_type": "display_data"
    },
    {
     "name": "stdout",
     "output_type": "stream",
     "text": [
      "------------generate form-------------------------------------------\n",
      "--------------------------------------------------------------------\n"
     ]
    },
    {
     "name": "stderr",
     "output_type": "stream",
     "text": [
      "No handles with labels found to put in legend.\n"
     ]
    },
    {
     "name": "stdout",
     "output_type": "stream",
     "text": [
      "training on epoch: 36, validation accuracy is 0.605054784514244\n",
      "training on epoch: 36, validation KS is 0.17455621301775148\n",
      "training on epoch: 36, validation AUC is 0.5580621301775148\n",
      "balance_status of validation set have 0.08648648648648649 of ones in val\n"
     ]
    },
    {
     "data": {
      "image/png": "[encoded data removed]",
      "text/plain": [
       "<Figure size 432x288 with 1 Axes>"
      ]
     },
     "metadata": {
      "needs_background": "light"
     },
     "output_type": "display_data"
    },
    {
     "name": "stdout",
     "output_type": "stream",
     "text": [
      "------------generate form-------------------------------------------\n",
      "--------------------------------------------------------------------\n"
     ]
    },
    {
     "name": "stderr",
     "output_type": "stream",
     "text": [
      "No handles with labels found to put in legend.\n"
     ]
    },
    {
     "name": "stdout",
     "output_type": "stream",
     "text": [
      "training on epoch: 38, validation accuracy is 0.6139956172388605\n",
      "training on epoch: 38, validation KS is 0.18047337278106507\n",
      "training on epoch: 38, validation AUC is 0.555103550295858\n",
      "balance_status of validation set have 0.08648648648648649 of ones in val\n"
     ]
    },
    {
     "data": {
      "image/png": "[encoded data removed]",
      "text/plain": [
       "<Figure size 432x288 with 1 Axes>"
      ]
     },
     "metadata": {
      "needs_background": "light"
     },
     "output_type": "display_data"
    },
    {
     "name": "stdout",
     "output_type": "stream",
     "text": [
      "------------generate form-------------------------------------------\n",
      "--------------------------------------------------------------------\n"
     ]
    },
    {
     "name": "stderr",
     "output_type": "stream",
     "text": [
      "No handles with labels found to put in legend.\n"
     ]
    },
    {
     "name": "stdout",
     "output_type": "stream",
     "text": [
      "training on epoch: 40, validation accuracy is 0.6497589481373265\n",
      "training on epoch: 40, validation KS is 0.15754437869822485\n",
      "training on epoch: 40, validation AUC is 0.5573224852071006\n",
      "balance_status of validation set have 0.08648648648648649 of ones in val\n"
     ]
    },
    {
     "data": {
      "image/png": "[encoded data removed]",
      "text/plain": [
       "<Figure size 432x288 with 1 Axes>"
      ]
     },
     "metadata": {
      "needs_background": "light"
     },
     "output_type": "display_data"
    },
    {
     "name": "stdout",
     "output_type": "stream",
     "text": [
      "------------generate form-------------------------------------------\n",
      "--------------------------------------------------------------------\n"
     ]
    },
    {
     "name": "stderr",
     "output_type": "stream",
     "text": [
      "No handles with labels found to put in legend.\n"
     ]
    },
    {
     "name": "stdout",
     "output_type": "stream",
     "text": [
      "training on epoch: 42, validation accuracy is 0.658699780861943\n",
      "training on epoch: 42, validation KS is 0.17677514792899407\n",
      "training on epoch: 42, validation AUC is 0.5599112426035503\n",
      "balance_status of validation set have 0.08648648648648649 of ones in val\n"
     ]
    },
    {
     "data": {
      "image/png": "[encoded data removed]",
      "text/plain": [
       "<Figure size 432x288 with 1 Axes>"
      ]
     },
     "metadata": {
      "needs_background": "light"
     },
     "output_type": "display_data"
    },
    {
     "name": "stdout",
     "output_type": "stream",
     "text": [
      "------------generate form-------------------------------------------\n",
      "--------------------------------------------------------------------\n"
     ]
    },
    {
     "name": "stderr",
     "output_type": "stream",
     "text": [
      "No handles with labels found to put in legend.\n"
     ]
    },
    {
     "name": "stdout",
     "output_type": "stream",
     "text": [
      "training on epoch: 44, validation accuracy is 0.6989335281227174\n",
      "training on epoch: 44, validation KS is 0.19785502958579881\n",
      "training on epoch: 44, validation AUC is 0.5617603550295858\n",
      "balance_status of validation set have 0.08648648648648649 of ones in val\n"
     ]
    },
    {
     "data": {
      "image/png": "[encoded data removed]",
      "text/plain": [
       "<Figure size 432x288 with 1 Axes>"
      ]
     },
     "metadata": {
      "needs_background": "light"
     },
     "output_type": "display_data"
    },
    {
     "name": "stdout",
     "output_type": "stream",
     "text": [
      "------------generate form-------------------------------------------\n",
      "--------------------------------------------------------------------\n"
     ]
    }
   ],
   "source": [
    "test_model.training(epochs=100,batch_size=1000,show_epoch=2,data=data,data_non=data_non_seq,label=train_Y\\\n",
    "                   ,val_seq=val_seq,val_non=val_non,val_Y=val_Y)"
   ]
  },
  {
   "cell_type": "code",
   "execution_count": null,
   "metadata": {
    "ExecuteTime": {
     "start_time": "2020-04-01T02:15:17.448Z"
    }
   },
   "outputs": [],
   "source": [
    "\n",
    "test_seq,test_non,test_Y=test\n",
    "test_seq=non_onehot(test_seq,14)\n",
    "test_Y=(t.fit_transform(test_Y[:,np.newaxis])).todense()\n",
    "test_seq.shape,test_non.shape,test_Y.shape\n"
   ]
  },
  {
   "cell_type": "code",
   "execution_count": null,
   "metadata": {
    "ExecuteTime": {
     "start_time": "2020-04-01T02:15:17.449Z"
    }
   },
   "outputs": [],
   "source": [
    "# YY_prob.shape"
   ]
  },
  {
   "cell_type": "code",
   "execution_count": null,
   "metadata": {
    "ExecuteTime": {
     "start_time": "2020-04-01T02:15:17.450Z"
    }
   },
   "outputs": [],
   "source": [
    "# YY_prob=test_model.non_sequential_NN.predict(test_non)\n",
    "# np.sum(YY_prob,axis=-1)"
   ]
  },
  {
   "cell_type": "code",
   "execution_count": null,
   "metadata": {
    "ExecuteTime": {
     "start_time": "2020-04-01T02:15:17.452Z"
    }
   },
   "outputs": [],
   "source": [
    "# np.sum(YY_prob)"
   ]
  },
  {
   "cell_type": "code",
   "execution_count": null,
   "metadata": {
    "ExecuteTime": {
     "start_time": "2020-04-01T02:15:17.453Z"
    }
   },
   "outputs": [],
   "source": [
    "73338.695"
   ]
  },
  {
   "cell_type": "code",
   "execution_count": null,
   "metadata": {
    "ExecuteTime": {
     "start_time": "2020-04-01T02:15:17.454Z"
    }
   },
   "outputs": [],
   "source": [
    "# YL_prob=test_model.LSTM.predict(test_seq)\n",
    "# np.sum(YL_prob,axis=-1)"
   ]
  },
  {
   "cell_type": "code",
   "execution_count": null,
   "metadata": {
    "ExecuteTime": {
     "start_time": "2020-04-01T02:15:17.455Z"
    }
   },
   "outputs": [],
   "source": [
    "# np.sum(YL_prob)"
   ]
  },
  {
   "cell_type": "code",
   "execution_count": null,
   "metadata": {},
   "outputs": [],
   "source": []
  },
  {
   "cell_type": "markdown",
   "metadata": {},
   "source": [
    "## you can now read the saved model"
   ]
  },
  {
   "cell_type": "code",
   "execution_count": null,
   "metadata": {
    "ExecuteTime": {
     "start_time": "2020-04-01T02:15:17.457Z"
    }
   },
   "outputs": [],
   "source": [
    "model_saved=keras.models.load_model(\"../../data/models/binary_classification_model/\"+\"embedding_LSTM_FC1_show1_epoch64.h5\")"
   ]
  },
  {
   "cell_type": "code",
   "execution_count": null,
   "metadata": {
    "ExecuteTime": {
     "start_time": "2020-04-01T02:15:17.458Z"
    }
   },
   "outputs": [],
   "source": [
    "k=test_model.transform_used(500,data_used=test_seq,data_non=test_non,label=train_Y,\\\n",
    "                            random_or_not=False,train=False)\n",
    "store=[]\n",
    "for i in range(len(test_seq)//500+(len(test_seq)%500!=0)):\n",
    "    test_dataset=next(k)\n",
    "    d0=test_dataset[0]\n",
    "    d1=test_dataset[1]\n",
    "    d2=test_dataset[2]\n",
    "    test_predict_prob=model_saved.predict([d0,d1,d2])\n",
    "    store.append(test_predict_prob)\n",
    "store=np.concatenate(store,axis=0)\n",
    "test_predict_prob=store\n",
    "test_predict=np.argmax(test_predict_prob,axis=-1)\n",
    "acc=np.mean(test_predict==test_Y[:,1])\n",
    "test_ks=get_KS(test_predict_prob[:,1],test_Y[:,1])\n",
    "acc,test_ks"
   ]
  },
  {
   "cell_type": "code",
   "execution_count": null,
   "metadata": {
    "ExecuteTime": {
     "start_time": "2020-04-01T02:15:17.459Z"
    }
   },
   "outputs": [],
   "source": [
    "fpr,tpr,threshold=roc_curve(test_Y[:,1],test_predict_prob[:,1])\n",
    "val_auc=auc(fpr,tpr)\n",
    "val_auc"
   ]
  },
  {
   "cell_type": "code",
   "execution_count": null,
   "metadata": {
    "ExecuteTime": {
     "start_time": "2020-04-01T02:15:17.461Z"
    }
   },
   "outputs": [],
   "source": [
    "fpr, tpr, threshold = roc_curve(test_Y[:,1],test_predict_prob[:,1])                \n",
    "plt.title('ROC')\n",
    "plt.plot(fpr, tpr, 'b')\n",
    "plt.legend(loc = 'lower right')\n",
    "plt.plot([0, 1], [0, 1],'r--')\n",
    "plt.xlim([0, 1])\n",
    "plt.ylim([0, 1])\n",
    "plt.ylabel('True Positive Rate')\n",
    "plt.xlabel('False Positive Rate')\n",
    "plt.show()\n"
   ]
  },
  {
   "cell_type": "code",
   "execution_count": null,
   "metadata": {},
   "outputs": [],
   "source": []
  },
  {
   "cell_type": "code",
   "execution_count": null,
   "metadata": {},
   "outputs": [],
   "source": []
  }
 ],
 "metadata": {
  "kernelspec": {
   "display_name": "Python 3",
   "language": "python",
   "name": "python3"
  },
  "language_info": {
   "codemirror_mode": {
    "name": "ipython",
    "version": 3
   },
   "file_extension": ".py",
   "mimetype": "text/x-python",
   "name": "python",
   "nbconvert_exporter": "python",
   "pygments_lexer": "ipython3",
   "version": "3.7.7"
  },
  "toc": {
   "base_numbering": 1,
   "nav_menu": {},
   "number_sections": true,
   "sideBar": true,
   "skip_h1_title": false,
   "title_cell": "Table of Contents",
   "title_sidebar": "Contents",
   "toc_cell": false,
   "toc_position": {},
   "toc_section_display": true,
   "toc_window_display": false
  },
  "varInspector": {
   "cols": {
    "lenName": 16,
    "lenType": 16,
    "lenVar": 40
   },
   "kernels_config": {
    "python": {
     "delete_cmd_postfix": "",
     "delete_cmd_prefix": "del ",
     "library": "var_list.py",
     "varRefreshCmd": "print(var_dic_list())"
    },
    "r": {
     "delete_cmd_postfix": ") ",
     "delete_cmd_prefix": "rm(",
     "library": "var_list.r",
     "varRefreshCmd": "cat(var_dic_list()) "
    }
   },
   "types_to_exclude": [
    "module",
    "function",
    "builtin_function_or_method",
    "instance",
    "_Feature"
   ],
   "window_display": true
  }
 },
 "nbformat": 4,
 "nbformat_minor": 2
}
