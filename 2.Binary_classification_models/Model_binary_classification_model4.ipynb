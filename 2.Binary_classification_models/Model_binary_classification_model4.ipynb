{
 "cells": [
  {
   "cell_type": "markdown",
   "metadata": {},
   "source": [
    "## Model Input:\n",
    "- Sequential features: batchsize * 60 * 17\n",
    "- MTF along features: batchsize * 31 * 31\n",
    "- Non-sequential Features: batchsize * 14\n",
    "\n",
    "### Attention Mechanism is applied in this model"
   ]
  },
  {
   "cell_type": "markdown",
   "metadata": {},
   "source": [
    "## Import data"
   ]
  },
  {
   "cell_type": "code",
   "execution_count": 1,
   "metadata": {
    "ExecuteTime": {
     "end_time": "2020-04-01T00:39:08.523297Z",
     "start_time": "2020-04-01T00:39:06.207870Z"
    }
   },
   "outputs": [
    {
     "name": "stderr",
     "output_type": "stream",
     "text": [
      "Using TensorFlow backend.\n"
     ]
    }
   ],
   "source": [
    "import pandas as pd\n",
    "import numpy as np\n",
    "import json\n",
    "import tensorflow as tf\n",
    "import keras\n",
    "from keras.models import Sequential,Model\n",
    "from keras.layers import Dense, Dropout, Flatten,concatenate,LSTM,Input,Bidirectional,BatchNormalization\n",
    "from keras.layers import Conv2D, MaxPooling2D,AveragePooling2D\n",
    "from keras_self_attention import SeqSelfAttention\n",
    "from keras import backend as K\n",
    "import keras\n",
    "from keras import regularizers\n",
    "from keras.callbacks import EarlyStopping\n",
    "from keras import optimizers\n",
    "from keras import metrics\n",
    "from sklearn.model_selection import train_test_split\n",
    "from tensorflow.python.client import device_lib\n",
    "from fetch_data import get, get_KS\n"
   ]
  },
  {
   "cell_type": "code",
   "execution_count": 2,
   "metadata": {
    "ExecuteTime": {
     "end_time": "2020-04-01T00:39:08.604057Z",
     "start_time": "2020-04-01T00:39:08.524270Z"
    }
   },
   "outputs": [],
   "source": [
    "# In order to run the model on GPU, we need to enable memory growth for only one GPU.\n",
    "physical_devices = tf.config.list_physical_devices('GPU')\n",
    "if len(physical_devices) != 0:\n",
    "    tf.config.experimental.set_memory_growth(physical_devices[0], enable=True)"
   ]
  },
  {
   "cell_type": "code",
   "execution_count": 3,
   "metadata": {
    "ExecuteTime": {
     "end_time": "2020-04-01T00:39:10.642040Z",
     "start_time": "2020-04-01T00:39:08.605055Z"
    }
   },
   "outputs": [],
   "source": [
    "with open(data_dir+'label.json') as f:\n",
    "    labels = json.load(f)\n",
    "with open(data_dir+'non_sequential_features.json') as f:\n",
    "    non_sequential_features = json.load(f)\n",
    "with open(data_dir+'padded_sequential_features_3.json') as f:\n",
    "    sequential_features = json.load(f)\n",
    "with open(data_dir+'featurematrix.json') as f:\n",
    "    arr_ = json.load(f)\n",
    "arr_ = np.array(arr_)"
   ]
  },
  {
   "cell_type": "markdown",
   "metadata": {},
   "source": [
    "## Preprocessing"
   ]
  },
  {
   "cell_type": "code",
   "execution_count": 4,
   "metadata": {
    "ExecuteTime": {
     "end_time": "2020-04-01T00:39:10.819235Z",
     "start_time": "2020-04-01T00:39:10.643019Z"
    }
   },
   "outputs": [],
   "source": [
    "feature1 = np.array([sequential_features[key]\n",
    "                     for key in sequential_features.keys()])\n",
    "feature2 = np.array([non_sequential_features[key]\n",
    "                     for key in non_sequential_features.keys()])\n",
    "label = np.array([labels[key] for key in labels.keys()])"
   ]
  },
  {
   "cell_type": "code",
   "execution_count": 5,
   "metadata": {
    "ExecuteTime": {
     "end_time": "2020-04-01T00:39:10.829210Z",
     "start_time": "2020-04-01T00:39:10.820233Z"
    }
   },
   "outputs": [
    {
     "data": {
      "text/plain": [
       "((3715, 31, 31), (3715, 60, 18), (3715, 14), (3715,))"
      ]
     },
     "execution_count": 5,
     "metadata": {},
     "output_type": "execute_result"
    }
   ],
   "source": [
    "arr_.shape,feature1.shape,feature2.shape,label.shape"
   ]
  },
  {
   "cell_type": "code",
   "execution_count": 6,
   "metadata": {
    "ExecuteTime": {
     "end_time": "2020-04-01T00:39:10.869132Z",
     "start_time": "2020-04-01T00:39:10.830209Z"
    },
    "scrolled": true
   },
   "outputs": [
    {
     "data": {
      "text/plain": [
       "((2972, 31, 31, 1), (2972, 60, 17), (2972, 14), (2972,))"
      ]
     },
     "execution_count": 6,
     "metadata": {},
     "output_type": "execute_result"
    }
   ],
   "source": [
    "arr_ = arr_.reshape(-1, 31, 31, 1)\n",
    "feature1 = feature1[:, :, 1:]\n",
    "\n",
    "X_train_arr, X_test_arr, X_train_f1, X_test_f1, X_train_f2, X_test_f2, y_train, y_test = train_test_split(arr_, feature1, feature2, label,\n",
    "                                                                                                          test_size=0.20, random_state=42)\n",
    "\n",
    "\n",
    "X_train_arr.shape, X_train_f1.shape, X_train_f2.shape, y_train.shape"
   ]
  },
  {
   "cell_type": "markdown",
   "metadata": {},
   "source": [
    "## Model Building"
   ]
  },
  {
   "cell_type": "code",
   "execution_count": 7,
   "metadata": {
    "ExecuteTime": {
     "end_time": "2020-04-01T00:39:41.779743Z",
     "start_time": "2020-04-01T00:39:10.871098Z"
    },
    "scrolled": true
   },
   "outputs": [
    {
     "name": "stdout",
     "output_type": "stream",
     "text": [
      "Model: \"model_1\"\n",
      "__________________________________________________________________________________________________\n",
      "Layer (type)                    Output Shape         Param #     Connected to                     \n",
      "==================================================================================================\n",
      "cnn_input (InputLayer)          (None, 31, 31, 1)    0                                            \n",
      "__________________________________________________________________________________________________\n",
      "batch_normalization_1 (BatchNor (None, 31, 31, 1)    4           cnn_input[0][0]                  \n",
      "__________________________________________________________________________________________________\n",
      "conv2d_1 (Conv2D)               (None, 31, 31, 16)   160         batch_normalization_1[0][0]      \n",
      "__________________________________________________________________________________________________\n",
      "batch_normalization_2 (BatchNor (None, 31, 31, 16)   64          conv2d_1[0][0]                   \n",
      "__________________________________________________________________________________________________\n",
      "max_pooling2d_1 (MaxPooling2D)  (None, 15, 15, 16)   0           batch_normalization_2[0][0]      \n",
      "__________________________________________________________________________________________________\n",
      "dropout_1 (Dropout)             (None, 15, 15, 16)   0           max_pooling2d_1[0][0]            \n",
      "__________________________________________________________________________________________________\n",
      "conv2d_2 (Conv2D)               (None, 15, 15, 8)    1160        dropout_1[0][0]                  \n",
      "__________________________________________________________________________________________________\n",
      "rnn_input (InputLayer)          (None, 60, 17)       0                                            \n",
      "__________________________________________________________________________________________________\n",
      "batch_normalization_3 (BatchNor (None, 15, 15, 8)    32          conv2d_2[0][0]                   \n",
      "__________________________________________________________________________________________________\n",
      "batch_normalization_4 (BatchNor (None, 60, 17)       68          rnn_input[0][0]                  \n",
      "__________________________________________________________________________________________________\n",
      "dense_input (InputLayer)        (None, 14)           0                                            \n",
      "__________________________________________________________________________________________________\n",
      "average_pooling2d_1 (AveragePoo (None, 7, 7, 8)      0           batch_normalization_3[0][0]      \n",
      "__________________________________________________________________________________________________\n",
      "bidirectional_1 (Bidirectional) (None, 60, 64)       12800       batch_normalization_4[0][0]      \n",
      "__________________________________________________________________________________________________\n",
      "dense_1 (Dense)                 (None, 64)           960         dense_input[0][0]                \n",
      "__________________________________________________________________________________________________\n",
      "dropout_2 (Dropout)             (None, 7, 7, 8)      0           average_pooling2d_1[0][0]        \n",
      "__________________________________________________________________________________________________\n",
      "seq_self_attention_1 (SeqSelfAt (None, 60, 64)       4161        bidirectional_1[0][0]            \n",
      "__________________________________________________________________________________________________\n",
      "batch_normalization_6 (BatchNor (None, 64)           256         dense_1[0][0]                    \n",
      "__________________________________________________________________________________________________\n",
      "conv2d_3 (Conv2D)               (None, 7, 7, 1)      73          dropout_2[0][0]                  \n",
      "__________________________________________________________________________________________________\n",
      "dropout_3 (Dropout)             (None, 60, 64)       0           seq_self_attention_1[0][0]       \n",
      "__________________________________________________________________________________________________\n",
      "dropout_4 (Dropout)             (None, 64)           0           batch_normalization_6[0][0]      \n",
      "__________________________________________________________________________________________________\n",
      "flatten_1 (Flatten)             (None, 49)           0           conv2d_3[0][0]                   \n",
      "__________________________________________________________________________________________________\n",
      "bidirectional_2 (Bidirectional) (None, 2)            528         dropout_3[0][0]                  \n",
      "__________________________________________________________________________________________________\n",
      "dense_2 (Dense)                 (None, 32)           2080        dropout_4[0][0]                  \n",
      "__________________________________________________________________________________________________\n",
      "concatenate_1 (Concatenate)     (None, 83)           0           flatten_1[0][0]                  \n",
      "                                                                 bidirectional_2[0][0]            \n",
      "                                                                 dense_2[0][0]                    \n",
      "__________________________________________________________________________________________________\n",
      "batch_normalization_7 (BatchNor (None, 83)           332         concatenate_1[0][0]              \n",
      "__________________________________________________________________________________________________\n",
      "dense_3 (Dense)                 (None, 128)          10752       batch_normalization_7[0][0]      \n",
      "__________________________________________________________________________________________________\n",
      "batch_normalization_8 (BatchNor (None, 128)          512         dense_3[0][0]                    \n",
      "__________________________________________________________________________________________________\n",
      "dropout_5 (Dropout)             (None, 128)          0           batch_normalization_8[0][0]      \n",
      "__________________________________________________________________________________________________\n",
      "dense_4 (Dense)                 (None, 64)           8256        dropout_5[0][0]                  \n",
      "__________________________________________________________________________________________________\n",
      "batch_normalization_9 (BatchNor (None, 64)           256         dense_4[0][0]                    \n",
      "__________________________________________________________________________________________________\n",
      "dropout_6 (Dropout)             (None, 64)           0           batch_normalization_9[0][0]      \n",
      "__________________________________________________________________________________________________\n",
      "output_layer (Dense)            (None, 1)            65          dropout_6[0][0]                  \n",
      "==================================================================================================\n",
      "Total params: 42,519\n",
      "Trainable params: 41,757\n",
      "Non-trainable params: 762\n",
      "__________________________________________________________________________________________________\n",
      "Train on 2080 samples, validate on 892 samples\n",
      "Epoch 1/200\n",
      "2080/2080 [==============================] - 5s 2ms/step - loss: 1.0187 - accuracy: 0.4865 - auc_1: 0.5152 - val_loss: 0.7981 - val_accuracy: 0.7152 - val_auc_1: 0.4465\n",
      "Epoch 2/200\n",
      "2080/2080 [==============================] - 1s 349us/step - loss: 1.0532 - accuracy: 0.4899 - auc_1: 0.4820 - val_loss: 0.8034 - val_accuracy: 0.5123 - val_auc_1: 0.4834\n",
      "Epoch 3/200\n",
      "2080/2080 [==============================] - 1s 342us/step - loss: 1.0043 - accuracy: 0.4846 - auc_1: 0.5059 - val_loss: 0.8104 - val_accuracy: 0.2904 - val_auc_1: 0.4863\n",
      "Epoch 4/200\n",
      "2080/2080 [==============================] - 1s 339us/step - loss: 1.0030 - accuracy: 0.5106 - auc_1: 0.5306 - val_loss: 0.8146 - val_accuracy: 0.2085 - val_auc_1: 0.5179\n",
      "Epoch 5/200\n",
      "2080/2080 [==============================] - 1s 347us/step - loss: 0.9921 - accuracy: 0.4962 - auc_1: 0.5014 - val_loss: 0.8185 - val_accuracy: 0.1626 - val_auc_1: 0.5304\n",
      "Epoch 6/200\n",
      "2080/2080 [==============================] - 1s 341us/step - loss: 0.9790 - accuracy: 0.5135 - auc_1: 0.5456 - val_loss: 0.8220 - val_accuracy: 0.1390 - val_auc_1: 0.5532\n",
      "Epoch 7/200\n",
      "2080/2080 [==============================] - 1s 340us/step - loss: 0.9910 - accuracy: 0.5096 - auc_1: 0.5384 - val_loss: 0.8255 - val_accuracy: 0.1233 - val_auc_1: 0.5554\n",
      "Epoch 8/200\n",
      "2080/2080 [==============================] - 1s 346us/step - loss: 0.9933 - accuracy: 0.5101 - auc_1: 0.5120 - val_loss: 0.8276 - val_accuracy: 0.1177 - val_auc_1: 0.5786\n",
      "Epoch 9/200\n",
      "2080/2080 [==============================] - 1s 333us/step - loss: 1.0083 - accuracy: 0.4990 - auc_1: 0.4651 - val_loss: 0.8291 - val_accuracy: 0.1155 - val_auc_1: 0.5654\n",
      "Epoch 10/200\n",
      "2080/2080 [==============================] - 1s 340us/step - loss: 0.9913 - accuracy: 0.5043 - auc_1: 0.4778 - val_loss: 0.8306 - val_accuracy: 0.1200 - val_auc_1: 0.5695\n",
      "Epoch 11/200\n",
      "2080/2080 [==============================] - 1s 332us/step - loss: 0.9524 - accuracy: 0.5188 - auc_1: 0.5462 - val_loss: 0.8306 - val_accuracy: 0.1244 - val_auc_1: 0.5652\n",
      "Epoch 12/200\n",
      "2080/2080 [==============================] - 1s 339us/step - loss: 0.9583 - accuracy: 0.5207 - auc_1: 0.5190 - val_loss: 0.8310 - val_accuracy: 0.1323 - val_auc_1: 0.5668\n",
      "Epoch 13/200\n",
      "2080/2080 [==============================] - 1s 346us/step - loss: 0.9766 - accuracy: 0.5188 - auc_1: 0.4948 - val_loss: 0.8300 - val_accuracy: 0.1424 - val_auc_1: 0.5627\n",
      "Epoch 14/200\n",
      "2080/2080 [==============================] - 1s 327us/step - loss: 0.9534 - accuracy: 0.5274 - auc_1: 0.5174 - val_loss: 0.8295 - val_accuracy: 0.1558 - val_auc_1: 0.5610\n",
      "Epoch 15/200\n",
      "2080/2080 [==============================] - 1s 337us/step - loss: 0.9328 - accuracy: 0.5385 - auc_1: 0.5302 - val_loss: 0.8291 - val_accuracy: 0.1659 - val_auc_1: 0.5620\n",
      "Epoch 16/200\n",
      "2080/2080 [==============================] - 1s 339us/step - loss: 0.9696 - accuracy: 0.5216 - auc_1: 0.4930 - val_loss: 0.8282 - val_accuracy: 0.1872 - val_auc_1: 0.5627\n",
      "Epoch 17/200\n",
      "2080/2080 [==============================] - 1s 336us/step - loss: 0.9358 - accuracy: 0.5168 - auc_1: 0.5207 - val_loss: 0.8268 - val_accuracy: 0.2096 - val_auc_1: 0.5634\n",
      "Epoch 18/200\n",
      "2080/2080 [==============================] - 1s 344us/step - loss: 0.9106 - accuracy: 0.5245 - auc_1: 0.5553 - val_loss: 0.8247 - val_accuracy: 0.2433 - val_auc_1: 0.5631\n",
      "Epoch 19/200\n",
      "2080/2080 [==============================] - 1s 352us/step - loss: 0.9307 - accuracy: 0.5231 - auc_1: 0.4955 - val_loss: 0.8220 - val_accuracy: 0.2769 - val_auc_1: 0.5676\n",
      "Epoch 20/200\n",
      "2080/2080 [==============================] - 1s 359us/step - loss: 0.9066 - accuracy: 0.5394 - auc_1: 0.5185 - val_loss: 0.8200 - val_accuracy: 0.3128 - val_auc_1: 0.5643\n",
      "Epoch 21/200\n",
      "2080/2080 [==============================] - 1s 351us/step - loss: 0.9321 - accuracy: 0.5327 - auc_1: 0.4914 - val_loss: 0.8179 - val_accuracy: 0.3475 - val_auc_1: 0.5643\n",
      "Epoch 22/200\n",
      "2080/2080 [==============================] - 1s 344us/step - loss: 0.9006 - accuracy: 0.5288 - auc_1: 0.5190 - val_loss: 0.8159 - val_accuracy: 0.3756 - val_auc_1: 0.5678\n",
      "Epoch 23/200\n",
      "2080/2080 [==============================] - 1s 346us/step - loss: 0.8785 - accuracy: 0.5524 - auc_1: 0.5492 - val_loss: 0.8153 - val_accuracy: 0.3868 - val_auc_1: 0.5691\n",
      "Epoch 24/200\n",
      "2080/2080 [==============================] - 1s 339us/step - loss: 0.8924 - accuracy: 0.5394 - auc_1: 0.5213 - val_loss: 0.8133 - val_accuracy: 0.4036 - val_auc_1: 0.5722\n",
      "Epoch 25/200\n",
      "2080/2080 [==============================] - 1s 346us/step - loss: 0.8963 - accuracy: 0.5471 - auc_1: 0.5203 - val_loss: 0.8113 - val_accuracy: 0.4316 - val_auc_1: 0.5770\n",
      "Epoch 26/200\n",
      "2080/2080 [==============================] - 1s 346us/step - loss: 0.8997 - accuracy: 0.5490 - auc_1: 0.5163 - val_loss: 0.8104 - val_accuracy: 0.4462 - val_auc_1: 0.5799\n",
      "Epoch 27/200\n",
      "2080/2080 [==============================] - 1s 341us/step - loss: 0.8969 - accuracy: 0.5409 - auc_1: 0.5075 - val_loss: 0.8092 - val_accuracy: 0.4585 - val_auc_1: 0.5802\n",
      "Epoch 28/200\n",
      "2080/2080 [==============================] - 1s 338us/step - loss: 0.8570 - accuracy: 0.5659 - auc_1: 0.5803 - val_loss: 0.8071 - val_accuracy: 0.4776 - val_auc_1: 0.5783\n",
      "Epoch 29/200\n",
      "2080/2080 [==============================] - 1s 336us/step - loss: 0.8913 - accuracy: 0.5500 - auc_1: 0.5158 - val_loss: 0.8059 - val_accuracy: 0.4910 - val_auc_1: 0.5842\n",
      "Epoch 30/200\n",
      "2080/2080 [==============================] - 1s 333us/step - loss: 0.8706 - accuracy: 0.5654 - auc_1: 0.5464 - val_loss: 0.8031 - val_accuracy: 0.5168 - val_auc_1: 0.5848\n",
      "Epoch 31/200\n",
      "2080/2080 [==============================] - 1s 339us/step - loss: 0.9001 - accuracy: 0.5462 - auc_1: 0.4635 - val_loss: 0.8003 - val_accuracy: 0.5460 - val_auc_1: 0.5893\n",
      "Epoch 00031: early stopping\n"
     ]
    },
    {
     "data": {
      "text/plain": [
       "<keras.callbacks.callbacks.History at 0x2c139b4dc08>"
      ]
     },
     "execution_count": 7,
     "metadata": {},
     "output_type": "execute_result"
    }
   ],
   "source": [
    "# Input1: MTF along features, shape=batchsize*31*31*1\n",
    "input_fm = Input(shape=(31, 31, 1), name=\"cnn_input\")\n",
    "fm = BatchNormalization()(input_fm)\n",
    "cnn1 = Conv2D(16, (3, 3), padding=\"same\", activation='relu')(fm)\n",
    "bn1 = BatchNormalization()(cnn1)\n",
    "pool1 = MaxPooling2D(pool_size=(2, 2), strides=2)(bn1)\n",
    "pool1 = Dropout(0.5)(pool1)\n",
    "cnn2 = Conv2D(8, (3, 3), padding=\"same\", activation='relu')(pool1)\n",
    "bn2 = BatchNormalization()(cnn2)\n",
    "pool2 = AveragePooling2D(pool_size=(2, 2), strides=2)(bn2)\n",
    "pool2 = Dropout(0.5)(pool2)\n",
    "cnn3 = Conv2D(1, (3, 3), padding=\"same\", activation='relu')(pool2)\n",
    "fm_output = Flatten()(cnn3)\n",
    "\n",
    "\n",
    "# Input2: sequential features, shape= batchsize*60*17\n",
    "input_rnn = Input(shape=(60, 17), name=\"rnn_input\")\n",
    "rnn = BatchNormalization()(input_rnn)\n",
    "lstm1 = Bidirectional(LSTM(32, activation='tanh', return_sequences=True))(rnn)\n",
    "lstm1 = SeqSelfAttention(attention_width=10, attention_activation='tanh')(lstm1)\n",
    "lstm1 = Dropout(0.25)(lstm1)\n",
    "rnn_output = Bidirectional(\n",
    "    LSTM(1, activation='tanh', return_sequences=False))(lstm1)\n",
    "# rnn_output=Flatten()(rnn_output)\n",
    "\n",
    "# Input3: non-sequential features(user type and application time), shape=batchsize*14\n",
    "input_non_sequential = Input(shape=(14,), name=\"dense_input\")\n",
    "non_sequential = BatchNormalization()(input_rnn)\n",
    "dense1 = Dense(64, activation=\"relu\")(input_non_sequential)\n",
    "bn3 = BatchNormalization()(dense1)\n",
    "drop2 = Dropout(0.25)(bn3)\n",
    "dense2_output = Dense(32, activation=\"relu\")(drop2)\n",
    "\n",
    "# Merge the above models\n",
    "merged = concatenate([fm_output, rnn_output, dense2_output])\n",
    "merged = BatchNormalization()(merged)\n",
    "dense3 = Dense(128, activation=\"relu\")(merged)\n",
    "bn4 = BatchNormalization()(dense3)\n",
    "drop3 = Dropout(0.2)(bn4)\n",
    "dense4 = Dense(64, activation=\"relu\")(drop3)\n",
    "bn5 = BatchNormalization()(dense4)\n",
    "drop4 = Dropout(0.2)(bn5)\n",
    "out = Dense(1, activation='sigmoid', name='output_layer')(drop4)\n",
    "\n",
    "model = Model(inputs=[input_fm, input_rnn,\n",
    "                      input_non_sequential], outputs=[out])\n",
    "model.summary()\n",
    "\n",
    "\n",
    "ada = optimizers.Adam(learning_rate=0.0002)\n",
    "model.compile(loss='binary_crossentropy', optimizer=ada, metrics=[\n",
    "              'accuracy', metrics.AUC()])  # optimizer='rmsprop'\n",
    "early_stopping = EarlyStopping(monitor='val_loss', patience=30, verbose=2)\n",
    "\n",
    "model.fit([X_train_arr, X_train_f1, X_train_f2], [y_train],\n",
    "          epochs=200, batch_size=1024,\n",
    "          class_weight={0: 1., 1: 3},\n",
    "          shuffle=True,\n",
    "          validation_split=0.3,\n",
    "          callbacks=[early_stopping])"
   ]
  },
  {
   "cell_type": "code",
   "execution_count": 8,
   "metadata": {
    "ExecuteTime": {
     "end_time": "2020-04-01T00:39:41.908414Z",
     "start_time": "2020-04-01T00:39:41.781709Z"
    }
   },
   "outputs": [],
   "source": [
    "model.save(\"../../data/models/binary_classification_model/\"+\"multi_source_classifier_ks_point1487.h5\")"
   ]
  },
  {
   "cell_type": "markdown",
   "metadata": {},
   "source": [
    "## Model evaluation"
   ]
  },
  {
   "cell_type": "code",
   "execution_count": 9,
   "metadata": {
    "ExecuteTime": {
     "end_time": "2020-04-01T00:39:43.161507Z",
     "start_time": "2020-04-01T00:39:41.909367Z"
    }
   },
   "outputs": [],
   "source": [
    "prediction=model.predict([X_test_arr,X_test_f1,X_test_f2])"
   ]
  },
  {
   "cell_type": "code",
   "execution_count": 10,
   "metadata": {
    "ExecuteTime": {
     "end_time": "2020-04-01T00:39:43.518471Z",
     "start_time": "2020-04-01T00:39:43.162476Z"
    }
   },
   "outputs": [
    {
     "data": {
      "image/png": "[encoded data removed]",
      "text/plain": [
       "<Figure size 432x288 with 1 Axes>"
      ]
     },
     "metadata": {
      "needs_background": "light"
     },
     "output_type": "display_data"
    }
   ],
   "source": [
    "from sklearn.metrics import roc_curve, auc\n",
    "import matplotlib.pyplot as plt\n",
    "(fpr, tpr, thresholds) = roc_curve(y_test,prediction)\n",
    "area = auc(fpr,tpr)\n",
    "plt.clf() #Clear the current figure\n",
    "plt.plot(fpr,tpr,label=\"Out-Sample ROC Curve with \\\n",
    "         area = %1.2f\"%area)\n",
    "\n",
    "plt.plot([0, 1], [0, 1], 'k')\n",
    "plt.xlim([0.0, 1.0])\n",
    "plt.ylim([0.0, 1.0])\n",
    "plt.xlabel('False Positive Rate')\n",
    "plt.ylabel('True Positive Rate')\n",
    "plt.title('Out sample ROC')\n",
    "plt.legend(loc=\"lower right\")\n",
    "plt.show()"
   ]
  },
  {
   "cell_type": "markdown",
   "metadata": {},
   "source": [
    "- auc=0.59"
   ]
  },
  {
   "cell_type": "code",
   "execution_count": 11,
   "metadata": {
    "ExecuteTime": {
     "end_time": "2020-04-01T00:39:43.526478Z",
     "start_time": "2020-04-01T00:39:43.519468Z"
    }
   },
   "outputs": [
    {
     "data": {
      "text/plain": [
       "(0.503213, 0.0705916305916306)"
      ]
     },
     "execution_count": 11,
     "metadata": {},
     "output_type": "execute_result"
    }
   ],
   "source": [
    "def get_KS(y_prob,y_true):\n",
    "    fpr,tpr,threshold=roc_curve(y_true,y_prob)\n",
    "    ks=(tpr-fpr)\n",
    "    max_=np.argmax(ks)\n",
    "    \n",
    "    return threshold[max_],np.max(ks)\n",
    "get_KS(prediction,y_test)"
   ]
  },
  {
   "cell_type": "markdown",
   "metadata": {},
   "source": [
    "- ks=0.1487, corresponding threshold=0.17198"
   ]
  }
 ],
 "metadata": {
  "kernelspec": {
   "display_name": "Python 3",
   "language": "python",
   "name": "python3"
  },
  "language_info": {
   "codemirror_mode": {
    "name": "ipython",
    "version": 3
   },
   "file_extension": ".py",
   "mimetype": "text/x-python",
   "name": "python",
   "nbconvert_exporter": "python",
   "pygments_lexer": "ipython3",
   "version": "3.7.7"
  },
  "toc": {
   "base_numbering": 1,
   "nav_menu": {},
   "number_sections": true,
   "sideBar": true,
   "skip_h1_title": false,
   "title_cell": "Table of Contents",
   "title_sidebar": "Contents",
   "toc_cell": false,
   "toc_position": {},
   "toc_section_display": true,
   "toc_window_display": false
  },
  "varInspector": {
   "cols": {
    "lenName": 16,
    "lenType": 16,
    "lenVar": 40
   },
   "kernels_config": {
    "python": {
     "delete_cmd_postfix": "",
     "delete_cmd_prefix": "del ",
     "library": "var_list.py",
     "varRefreshCmd": "print(var_dic_list())"
    },
    "r": {
     "delete_cmd_postfix": ") ",
     "delete_cmd_prefix": "rm(",
     "library": "var_list.r",
     "varRefreshCmd": "cat(var_dic_list()) "
    }
   },
   "types_to_exclude": [
    "module",
    "function",
    "builtin_function_or_method",
    "instance",
    "_Feature"
   ],
   "window_display": false
  }
 },
 "nbformat": 4,
 "nbformat_minor": 2
}
